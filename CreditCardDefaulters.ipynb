{
  "nbformat": 4,
  "nbformat_minor": 0,
  "metadata": {
    "colab": {
      "name": "CreditCardDefaulters.ipynb",
      "version": "0.3.2",
      "provenance": [],
      "collapsed_sections": [
        "EqX26W9mBRKn",
        "Wu16eYR95WXG",
        "iCaW2xyrknKg",
        "gjHASPj2z2kQ"
      ],
      "toc_visible": true,
      "include_colab_link": true
    },
    "kernelspec": {
      "name": "python3",
      "display_name": "Python 3"
    }
  },
  "cells": [
    {
      "cell_type": "markdown",
      "metadata": {
        "id": "view-in-github",
        "colab_type": "text"
      },
      "source": [
        "<a href=\"https://colab.research.google.com/github/MaharshiYeluri01/CreditCard_Defaulters_Prediction/blob/master/CreditCardDefaulters.ipynb\" target=\"_parent\"><img src=\"https://colab.research.google.com/assets/colab-badge.svg\" alt=\"Open In Colab\"/></a>"
      ]
    },
    {
      "metadata": {
        "id": "9HXBzHatyC4Y",
        "colab_type": "text"
      },
      "cell_type": "markdown",
      "source": [
        "#Collecting Data"
      ]
    },
    {
      "metadata": {
        "id": "B9ZNs72AEKlR",
        "colab_type": "code",
        "outputId": "78e1edbd-c89d-4ed2-8050-7693c4b00bd2",
        "colab": {
          "base_uri": "https://localhost:8080/",
          "height": 34
        }
      },
      "cell_type": "code",
      "source": [
        "!ls -lha kaggle.json"
      ],
      "execution_count": 1,
      "outputs": [
        {
          "output_type": "stream",
          "text": [
            "-rw-r--r-- 1 root root 70 Jan 11 16:44 kaggle.json\n"
          ],
          "name": "stdout"
        }
      ]
    },
    {
      "metadata": {
        "id": "fUcaQM3vES9K",
        "colab_type": "code",
        "colab": {}
      },
      "cell_type": "code",
      "source": [
        "!mkdir -p ~/.kaggle\n",
        "!cp kaggle.json ~/.kaggle/"
      ],
      "execution_count": 0,
      "outputs": []
    },
    {
      "metadata": {
        "id": "CclDeAHiEb4j",
        "colab_type": "code",
        "colab": {}
      },
      "cell_type": "code",
      "source": [
        "!chmod 600 ~/.kaggle/kaggle.json"
      ],
      "execution_count": 0,
      "outputs": []
    },
    {
      "metadata": {
        "id": "h-n_GGXyEjx5",
        "colab_type": "code",
        "outputId": "d2a83b55-170e-48a7-cea4-3702305ddab0",
        "colab": {
          "base_uri": "https://localhost:8080/",
          "height": 68
        }
      },
      "cell_type": "code",
      "source": [
        "!kaggle datasets download -d uciml/default-of-credit-card-clients-dataset"
      ],
      "execution_count": 8,
      "outputs": [
        {
          "output_type": "stream",
          "text": [
            "Downloading default-of-credit-card-clients-dataset.zip to /content\n",
            "\r  0% 0.00/999k [00:00<?, ?B/s]\n",
            "\r100% 999k/999k [00:00<00:00, 65.5MB/s]\n"
          ],
          "name": "stdout"
        }
      ]
    },
    {
      "metadata": {
        "id": "uEmUC3RRE2IT",
        "colab_type": "code",
        "colab": {}
      },
      "cell_type": "code",
      "source": [
        "import numpy as np\n",
        "import pandas as pd \n",
        "import seaborn as sns\n",
        "import matplotlib.pyplot as plt\n",
        "#from ggplot import *\n",
        "%matplotlib inline"
      ],
      "execution_count": 0,
      "outputs": []
    },
    {
      "metadata": {
        "id": "tPjSQXFQFUJi",
        "colab_type": "code",
        "colab": {}
      },
      "cell_type": "code",
      "source": [
        "import zipfile\n",
        "zip_ref = zipfile.ZipFile(\"default-of-credit-card-clients-dataset.zip\", 'r')\n",
        "zip_ref.extractall(\"Creditcard_raw_data\")\n",
        "zip_ref.close()"
      ],
      "execution_count": 0,
      "outputs": []
    },
    {
      "metadata": {
        "id": "0n3bDfrrGE3h",
        "colab_type": "code",
        "outputId": "69d55594-9575-4235-d81d-c00e44d6cda2",
        "colab": {
          "base_uri": "https://localhost:8080/",
          "height": 253
        }
      },
      "cell_type": "code",
      "source": [
        "df = pd.read_csv('./Creditcard_raw_data/UCI_Credit_Card.csv')\n",
        "df.head()"
      ],
      "execution_count": 10,
      "outputs": [
        {
          "output_type": "execute_result",
          "data": {
            "text/html": [
              "<div>\n",
              "<style scoped>\n",
              "    .dataframe tbody tr th:only-of-type {\n",
              "        vertical-align: middle;\n",
              "    }\n",
              "\n",
              "    .dataframe tbody tr th {\n",
              "        vertical-align: top;\n",
              "    }\n",
              "\n",
              "    .dataframe thead th {\n",
              "        text-align: right;\n",
              "    }\n",
              "</style>\n",
              "<table border=\"1\" class=\"dataframe\">\n",
              "  <thead>\n",
              "    <tr style=\"text-align: right;\">\n",
              "      <th></th>\n",
              "      <th>ID</th>\n",
              "      <th>LIMIT_BAL</th>\n",
              "      <th>SEX</th>\n",
              "      <th>EDUCATION</th>\n",
              "      <th>MARRIAGE</th>\n",
              "      <th>AGE</th>\n",
              "      <th>PAY_0</th>\n",
              "      <th>PAY_2</th>\n",
              "      <th>PAY_3</th>\n",
              "      <th>PAY_4</th>\n",
              "      <th>...</th>\n",
              "      <th>BILL_AMT4</th>\n",
              "      <th>BILL_AMT5</th>\n",
              "      <th>BILL_AMT6</th>\n",
              "      <th>PAY_AMT1</th>\n",
              "      <th>PAY_AMT2</th>\n",
              "      <th>PAY_AMT3</th>\n",
              "      <th>PAY_AMT4</th>\n",
              "      <th>PAY_AMT5</th>\n",
              "      <th>PAY_AMT6</th>\n",
              "      <th>default.payment.next.month</th>\n",
              "    </tr>\n",
              "  </thead>\n",
              "  <tbody>\n",
              "    <tr>\n",
              "      <th>0</th>\n",
              "      <td>1</td>\n",
              "      <td>20000.0</td>\n",
              "      <td>2</td>\n",
              "      <td>2</td>\n",
              "      <td>1</td>\n",
              "      <td>24</td>\n",
              "      <td>2</td>\n",
              "      <td>2</td>\n",
              "      <td>-1</td>\n",
              "      <td>-1</td>\n",
              "      <td>...</td>\n",
              "      <td>0.0</td>\n",
              "      <td>0.0</td>\n",
              "      <td>0.0</td>\n",
              "      <td>0.0</td>\n",
              "      <td>689.0</td>\n",
              "      <td>0.0</td>\n",
              "      <td>0.0</td>\n",
              "      <td>0.0</td>\n",
              "      <td>0.0</td>\n",
              "      <td>1</td>\n",
              "    </tr>\n",
              "    <tr>\n",
              "      <th>1</th>\n",
              "      <td>2</td>\n",
              "      <td>120000.0</td>\n",
              "      <td>2</td>\n",
              "      <td>2</td>\n",
              "      <td>2</td>\n",
              "      <td>26</td>\n",
              "      <td>-1</td>\n",
              "      <td>2</td>\n",
              "      <td>0</td>\n",
              "      <td>0</td>\n",
              "      <td>...</td>\n",
              "      <td>3272.0</td>\n",
              "      <td>3455.0</td>\n",
              "      <td>3261.0</td>\n",
              "      <td>0.0</td>\n",
              "      <td>1000.0</td>\n",
              "      <td>1000.0</td>\n",
              "      <td>1000.0</td>\n",
              "      <td>0.0</td>\n",
              "      <td>2000.0</td>\n",
              "      <td>1</td>\n",
              "    </tr>\n",
              "    <tr>\n",
              "      <th>2</th>\n",
              "      <td>3</td>\n",
              "      <td>90000.0</td>\n",
              "      <td>2</td>\n",
              "      <td>2</td>\n",
              "      <td>2</td>\n",
              "      <td>34</td>\n",
              "      <td>0</td>\n",
              "      <td>0</td>\n",
              "      <td>0</td>\n",
              "      <td>0</td>\n",
              "      <td>...</td>\n",
              "      <td>14331.0</td>\n",
              "      <td>14948.0</td>\n",
              "      <td>15549.0</td>\n",
              "      <td>1518.0</td>\n",
              "      <td>1500.0</td>\n",
              "      <td>1000.0</td>\n",
              "      <td>1000.0</td>\n",
              "      <td>1000.0</td>\n",
              "      <td>5000.0</td>\n",
              "      <td>0</td>\n",
              "    </tr>\n",
              "    <tr>\n",
              "      <th>3</th>\n",
              "      <td>4</td>\n",
              "      <td>50000.0</td>\n",
              "      <td>2</td>\n",
              "      <td>2</td>\n",
              "      <td>1</td>\n",
              "      <td>37</td>\n",
              "      <td>0</td>\n",
              "      <td>0</td>\n",
              "      <td>0</td>\n",
              "      <td>0</td>\n",
              "      <td>...</td>\n",
              "      <td>28314.0</td>\n",
              "      <td>28959.0</td>\n",
              "      <td>29547.0</td>\n",
              "      <td>2000.0</td>\n",
              "      <td>2019.0</td>\n",
              "      <td>1200.0</td>\n",
              "      <td>1100.0</td>\n",
              "      <td>1069.0</td>\n",
              "      <td>1000.0</td>\n",
              "      <td>0</td>\n",
              "    </tr>\n",
              "    <tr>\n",
              "      <th>4</th>\n",
              "      <td>5</td>\n",
              "      <td>50000.0</td>\n",
              "      <td>1</td>\n",
              "      <td>2</td>\n",
              "      <td>1</td>\n",
              "      <td>57</td>\n",
              "      <td>-1</td>\n",
              "      <td>0</td>\n",
              "      <td>-1</td>\n",
              "      <td>0</td>\n",
              "      <td>...</td>\n",
              "      <td>20940.0</td>\n",
              "      <td>19146.0</td>\n",
              "      <td>19131.0</td>\n",
              "      <td>2000.0</td>\n",
              "      <td>36681.0</td>\n",
              "      <td>10000.0</td>\n",
              "      <td>9000.0</td>\n",
              "      <td>689.0</td>\n",
              "      <td>679.0</td>\n",
              "      <td>0</td>\n",
              "    </tr>\n",
              "  </tbody>\n",
              "</table>\n",
              "<p>5 rows × 25 columns</p>\n",
              "</div>"
            ],
            "text/plain": [
              "   ID  LIMIT_BAL  SEX  EDUCATION  MARRIAGE  AGE  PAY_0  PAY_2  PAY_3  PAY_4  \\\n",
              "0   1    20000.0    2          2         1   24      2      2     -1     -1   \n",
              "1   2   120000.0    2          2         2   26     -1      2      0      0   \n",
              "2   3    90000.0    2          2         2   34      0      0      0      0   \n",
              "3   4    50000.0    2          2         1   37      0      0      0      0   \n",
              "4   5    50000.0    1          2         1   57     -1      0     -1      0   \n",
              "\n",
              "              ...              BILL_AMT4  BILL_AMT5  BILL_AMT6  PAY_AMT1  \\\n",
              "0             ...                    0.0        0.0        0.0       0.0   \n",
              "1             ...                 3272.0     3455.0     3261.0       0.0   \n",
              "2             ...                14331.0    14948.0    15549.0    1518.0   \n",
              "3             ...                28314.0    28959.0    29547.0    2000.0   \n",
              "4             ...                20940.0    19146.0    19131.0    2000.0   \n",
              "\n",
              "   PAY_AMT2  PAY_AMT3  PAY_AMT4  PAY_AMT5  PAY_AMT6  \\\n",
              "0     689.0       0.0       0.0       0.0       0.0   \n",
              "1    1000.0    1000.0    1000.0       0.0    2000.0   \n",
              "2    1500.0    1000.0    1000.0    1000.0    5000.0   \n",
              "3    2019.0    1200.0    1100.0    1069.0    1000.0   \n",
              "4   36681.0   10000.0    9000.0     689.0     679.0   \n",
              "\n",
              "   default.payment.next.month  \n",
              "0                           1  \n",
              "1                           1  \n",
              "2                           0  \n",
              "3                           0  \n",
              "4                           0  \n",
              "\n",
              "[5 rows x 25 columns]"
            ]
          },
          "metadata": {
            "tags": []
          },
          "execution_count": 10
        }
      ]
    },
    {
      "metadata": {
        "id": "Dmo59aKMI5pF",
        "colab_type": "text"
      },
      "cell_type": "markdown",
      "source": [
        "<h1>Exploratory Data Analysis</h1>"
      ]
    },
    {
      "metadata": {
        "id": "gxJSQX71GSwK",
        "colab_type": "code",
        "outputId": "cc62f8f6-05ee-4c62-f04c-b4750b653fb3",
        "colab": {
          "base_uri": "https://localhost:8080/",
          "height": 119
        }
      },
      "cell_type": "code",
      "source": [
        "print(df.columns)"
      ],
      "execution_count": 11,
      "outputs": [
        {
          "output_type": "stream",
          "text": [
            "Index(['ID', 'LIMIT_BAL', 'SEX', 'EDUCATION', 'MARRIAGE', 'AGE', 'PAY_0',\n",
            "       'PAY_2', 'PAY_3', 'PAY_4', 'PAY_5', 'PAY_6', 'BILL_AMT1', 'BILL_AMT2',\n",
            "       'BILL_AMT3', 'BILL_AMT4', 'BILL_AMT5', 'BILL_AMT6', 'PAY_AMT1',\n",
            "       'PAY_AMT2', 'PAY_AMT3', 'PAY_AMT4', 'PAY_AMT5', 'PAY_AMT6',\n",
            "       'default.payment.next.month'],\n",
            "      dtype='object')\n"
          ],
          "name": "stdout"
        }
      ]
    },
    {
      "metadata": {
        "id": "eW2Q_VJLGmTl",
        "colab_type": "code",
        "outputId": "5f9f45d1-25e3-454b-bdd6-f5f1dbcfa601",
        "colab": {
          "base_uri": "https://localhost:8080/",
          "height": 287
        }
      },
      "cell_type": "code",
      "source": [
        "df[['SEX', 'EDUCATION', 'MARRIAGE']].describe()"
      ],
      "execution_count": 0,
      "outputs": [
        {
          "output_type": "execute_result",
          "data": {
            "text/html": [
              "<div>\n",
              "<style scoped>\n",
              "    .dataframe tbody tr th:only-of-type {\n",
              "        vertical-align: middle;\n",
              "    }\n",
              "\n",
              "    .dataframe tbody tr th {\n",
              "        vertical-align: top;\n",
              "    }\n",
              "\n",
              "    .dataframe thead th {\n",
              "        text-align: right;\n",
              "    }\n",
              "</style>\n",
              "<table border=\"1\" class=\"dataframe\">\n",
              "  <thead>\n",
              "    <tr style=\"text-align: right;\">\n",
              "      <th></th>\n",
              "      <th>SEX</th>\n",
              "      <th>EDUCATION</th>\n",
              "      <th>MARRIAGE</th>\n",
              "    </tr>\n",
              "  </thead>\n",
              "  <tbody>\n",
              "    <tr>\n",
              "      <th>count</th>\n",
              "      <td>30000.000000</td>\n",
              "      <td>30000.000000</td>\n",
              "      <td>30000.000000</td>\n",
              "    </tr>\n",
              "    <tr>\n",
              "      <th>mean</th>\n",
              "      <td>1.603733</td>\n",
              "      <td>1.853133</td>\n",
              "      <td>1.551867</td>\n",
              "    </tr>\n",
              "    <tr>\n",
              "      <th>std</th>\n",
              "      <td>0.489129</td>\n",
              "      <td>0.790349</td>\n",
              "      <td>0.521970</td>\n",
              "    </tr>\n",
              "    <tr>\n",
              "      <th>min</th>\n",
              "      <td>1.000000</td>\n",
              "      <td>0.000000</td>\n",
              "      <td>0.000000</td>\n",
              "    </tr>\n",
              "    <tr>\n",
              "      <th>25%</th>\n",
              "      <td>1.000000</td>\n",
              "      <td>1.000000</td>\n",
              "      <td>1.000000</td>\n",
              "    </tr>\n",
              "    <tr>\n",
              "      <th>50%</th>\n",
              "      <td>2.000000</td>\n",
              "      <td>2.000000</td>\n",
              "      <td>2.000000</td>\n",
              "    </tr>\n",
              "    <tr>\n",
              "      <th>75%</th>\n",
              "      <td>2.000000</td>\n",
              "      <td>2.000000</td>\n",
              "      <td>2.000000</td>\n",
              "    </tr>\n",
              "    <tr>\n",
              "      <th>max</th>\n",
              "      <td>2.000000</td>\n",
              "      <td>6.000000</td>\n",
              "      <td>3.000000</td>\n",
              "    </tr>\n",
              "  </tbody>\n",
              "</table>\n",
              "</div>"
            ],
            "text/plain": [
              "                SEX     EDUCATION      MARRIAGE\n",
              "count  30000.000000  30000.000000  30000.000000\n",
              "mean       1.603733      1.853133      1.551867\n",
              "std        0.489129      0.790349      0.521970\n",
              "min        1.000000      0.000000      0.000000\n",
              "25%        1.000000      1.000000      1.000000\n",
              "50%        2.000000      2.000000      2.000000\n",
              "75%        2.000000      2.000000      2.000000\n",
              "max        2.000000      6.000000      3.000000"
            ]
          },
          "metadata": {
            "tags": []
          },
          "execution_count": 15
        }
      ]
    },
    {
      "metadata": {
        "id": "wb7aUggVGyhK",
        "colab_type": "code",
        "outputId": "2ebcd741-cf9f-4417-9f4c-d54fb25e32bc",
        "colab": {
          "base_uri": "https://localhost:8080/",
          "height": 278
        }
      },
      "cell_type": "code",
      "source": [
        "df['SEX'].value_counts().plot(kind='bar')\n"
      ],
      "execution_count": 12,
      "outputs": [
        {
          "output_type": "execute_result",
          "data": {
            "text/plain": [
              "<matplotlib.axes._subplots.AxesSubplot at 0x7fa7fea883c8>"
            ]
          },
          "metadata": {
            "tags": []
          },
          "execution_count": 12
        },
        {
          "output_type": "display_data",
          "data": {
            "image/png": "[encoded data removed]",
            "text/plain": [
              "<matplotlib.figure.Figure at 0x7fa825ccfe80>"
            ]
          },
          "metadata": {
            "tags": []
          }
        }
      ]
    },
    {
      "metadata": {
        "id": "oo2LKuam0HDy",
        "colab_type": "code",
        "colab": {
          "base_uri": "https://localhost:8080/",
          "height": 278
        },
        "outputId": "7969ecdf-1d5b-4325-aeda-c6bf4b0534db"
      },
      "cell_type": "code",
      "source": [
        "df['EDUCATION'].value_counts().plot(kind='bar')\n"
      ],
      "execution_count": 13,
      "outputs": [
        {
          "output_type": "execute_result",
          "data": {
            "text/plain": [
              "<matplotlib.axes._subplots.AxesSubplot at 0x7fa8202ab0b8>"
            ]
          },
          "metadata": {
            "tags": []
          },
          "execution_count": 13
        },
        {
          "output_type": "display_data",
          "data": {
            "image/png": "[encoded data removed]",
            "text/plain": [
              "<matplotlib.figure.Figure at 0x7fa7fea08400>"
            ]
          },
          "metadata": {
            "tags": []
          }
        }
      ]
    },
    {
      "metadata": {
        "id": "yu1KnD_20Ok_",
        "colab_type": "code",
        "colab": {
          "base_uri": "https://localhost:8080/",
          "height": 278
        },
        "outputId": "364bc892-c6ad-43a9-ff1c-c38970df5982"
      },
      "cell_type": "code",
      "source": [
        "\n",
        "df['MARRIAGE'].value_counts().plot(kind='bar')"
      ],
      "execution_count": 15,
      "outputs": [
        {
          "output_type": "execute_result",
          "data": {
            "text/plain": [
              "<matplotlib.axes._subplots.AxesSubplot at 0x7fa7fc114da0>"
            ]
          },
          "metadata": {
            "tags": []
          },
          "execution_count": 15
        },
        {
          "output_type": "display_data",
          "data": {
            "image/png": "[encoded data removed]",
            "text/plain": [
              "<matplotlib.figure.Figure at 0x7fa7fc0e02b0>"
            ]
          },
          "metadata": {
            "tags": []
          }
        }
      ]
    },
    {
      "metadata": {
        "id": "vkYJ7DAGHn1L",
        "colab_type": "text"
      },
      "cell_type": "markdown",
      "source": [
        "No missing data, but a few anomalous things:\n",
        "\n",
        "EDUCATION has category 5 and 6 that are unlabelled, moreover the category 0 is undocumented.\n",
        "MARRIAGE has a label 0 that is undocumented"
      ]
    },
    {
      "metadata": {
        "id": "Icp91HPTHRud",
        "colab_type": "code",
        "outputId": "6daa860c-6355-41ff-e790-220d78844d68",
        "colab": {
          "base_uri": "https://localhost:8080/",
          "height": 297
        }
      },
      "cell_type": "code",
      "source": [
        "df[['PAY_0', 'PAY_2', 'PAY_3', 'PAY_4', 'PAY_5', 'PAY_6']].describe()"
      ],
      "execution_count": 20,
      "outputs": [
        {
          "output_type": "execute_result",
          "data": {
            "text/html": [
              "<div>\n",
              "<style scoped>\n",
              "    .dataframe tbody tr th:only-of-type {\n",
              "        vertical-align: middle;\n",
              "    }\n",
              "\n",
              "    .dataframe tbody tr th {\n",
              "        vertical-align: top;\n",
              "    }\n",
              "\n",
              "    .dataframe thead th {\n",
              "        text-align: right;\n",
              "    }\n",
              "</style>\n",
              "<table border=\"1\" class=\"dataframe\">\n",
              "  <thead>\n",
              "    <tr style=\"text-align: right;\">\n",
              "      <th></th>\n",
              "      <th>PAY_0</th>\n",
              "      <th>PAY_2</th>\n",
              "      <th>PAY_3</th>\n",
              "      <th>PAY_4</th>\n",
              "      <th>PAY_5</th>\n",
              "      <th>PAY_6</th>\n",
              "    </tr>\n",
              "  </thead>\n",
              "  <tbody>\n",
              "    <tr>\n",
              "      <th>count</th>\n",
              "      <td>30000.000000</td>\n",
              "      <td>30000.000000</td>\n",
              "      <td>30000.000000</td>\n",
              "      <td>30000.000000</td>\n",
              "      <td>30000.000000</td>\n",
              "      <td>30000.000000</td>\n",
              "    </tr>\n",
              "    <tr>\n",
              "      <th>mean</th>\n",
              "      <td>-0.016700</td>\n",
              "      <td>-0.133767</td>\n",
              "      <td>-0.166200</td>\n",
              "      <td>-0.220667</td>\n",
              "      <td>-0.266200</td>\n",
              "      <td>-0.291100</td>\n",
              "    </tr>\n",
              "    <tr>\n",
              "      <th>std</th>\n",
              "      <td>1.123802</td>\n",
              "      <td>1.197186</td>\n",
              "      <td>1.196868</td>\n",
              "      <td>1.169139</td>\n",
              "      <td>1.133187</td>\n",
              "      <td>1.149988</td>\n",
              "    </tr>\n",
              "    <tr>\n",
              "      <th>min</th>\n",
              "      <td>-2.000000</td>\n",
              "      <td>-2.000000</td>\n",
              "      <td>-2.000000</td>\n",
              "      <td>-2.000000</td>\n",
              "      <td>-2.000000</td>\n",
              "      <td>-2.000000</td>\n",
              "    </tr>\n",
              "    <tr>\n",
              "      <th>25%</th>\n",
              "      <td>-1.000000</td>\n",
              "      <td>-1.000000</td>\n",
              "      <td>-1.000000</td>\n",
              "      <td>-1.000000</td>\n",
              "      <td>-1.000000</td>\n",
              "      <td>-1.000000</td>\n",
              "    </tr>\n",
              "    <tr>\n",
              "      <th>50%</th>\n",
              "      <td>0.000000</td>\n",
              "      <td>0.000000</td>\n",
              "      <td>0.000000</td>\n",
              "      <td>0.000000</td>\n",
              "      <td>0.000000</td>\n",
              "      <td>0.000000</td>\n",
              "    </tr>\n",
              "    <tr>\n",
              "      <th>75%</th>\n",
              "      <td>0.000000</td>\n",
              "      <td>0.000000</td>\n",
              "      <td>0.000000</td>\n",
              "      <td>0.000000</td>\n",
              "      <td>0.000000</td>\n",
              "      <td>0.000000</td>\n",
              "    </tr>\n",
              "    <tr>\n",
              "      <th>max</th>\n",
              "      <td>8.000000</td>\n",
              "      <td>8.000000</td>\n",
              "      <td>8.000000</td>\n",
              "      <td>8.000000</td>\n",
              "      <td>8.000000</td>\n",
              "      <td>8.000000</td>\n",
              "    </tr>\n",
              "  </tbody>\n",
              "</table>\n",
              "</div>"
            ],
            "text/plain": [
              "              PAY_0         PAY_2         PAY_3         PAY_4         PAY_5  \\\n",
              "count  30000.000000  30000.000000  30000.000000  30000.000000  30000.000000   \n",
              "mean      -0.016700     -0.133767     -0.166200     -0.220667     -0.266200   \n",
              "std        1.123802      1.197186      1.196868      1.169139      1.133187   \n",
              "min       -2.000000     -2.000000     -2.000000     -2.000000     -2.000000   \n",
              "25%       -1.000000     -1.000000     -1.000000     -1.000000     -1.000000   \n",
              "50%        0.000000      0.000000      0.000000      0.000000      0.000000   \n",
              "75%        0.000000      0.000000      0.000000      0.000000      0.000000   \n",
              "max        8.000000      8.000000      8.000000      8.000000      8.000000   \n",
              "\n",
              "              PAY_6  \n",
              "count  30000.000000  \n",
              "mean      -0.291100  \n",
              "std        1.149988  \n",
              "min       -2.000000  \n",
              "25%       -1.000000  \n",
              "50%        0.000000  \n",
              "75%        0.000000  \n",
              "max        8.000000  "
            ]
          },
          "metadata": {
            "tags": []
          },
          "execution_count": 20
        }
      ]
    },
    {
      "metadata": {
        "id": "MG7uPHS3H-NU",
        "colab_type": "text"
      },
      "cell_type": "markdown",
      "source": [
        "They all present an undocumented label -2. If 1,2,3, etc are the months of delay, 0 should be labeled 'pay duly' and every negative value should be seen as a 0. But we will get to that later"
      ]
    },
    {
      "metadata": {
        "id": "m54K73jTH1LP",
        "colab_type": "code",
        "outputId": "27029789-a588-4ff4-a47d-5363bbdfbf27",
        "colab": {
          "base_uri": "https://localhost:8080/",
          "height": 297
        }
      },
      "cell_type": "code",
      "source": [
        "df[['PAY_AMT1', 'PAY_AMT2', 'PAY_AMT3', 'PAY_AMT4', 'PAY_AMT5', 'PAY_AMT6']].describe()"
      ],
      "execution_count": 21,
      "outputs": [
        {
          "output_type": "execute_result",
          "data": {
            "text/html": [
              "<div>\n",
              "<style scoped>\n",
              "    .dataframe tbody tr th:only-of-type {\n",
              "        vertical-align: middle;\n",
              "    }\n",
              "\n",
              "    .dataframe tbody tr th {\n",
              "        vertical-align: top;\n",
              "    }\n",
              "\n",
              "    .dataframe thead th {\n",
              "        text-align: right;\n",
              "    }\n",
              "</style>\n",
              "<table border=\"1\" class=\"dataframe\">\n",
              "  <thead>\n",
              "    <tr style=\"text-align: right;\">\n",
              "      <th></th>\n",
              "      <th>PAY_AMT1</th>\n",
              "      <th>PAY_AMT2</th>\n",
              "      <th>PAY_AMT3</th>\n",
              "      <th>PAY_AMT4</th>\n",
              "      <th>PAY_AMT5</th>\n",
              "      <th>PAY_AMT6</th>\n",
              "    </tr>\n",
              "  </thead>\n",
              "  <tbody>\n",
              "    <tr>\n",
              "      <th>count</th>\n",
              "      <td>30000.000000</td>\n",
              "      <td>3.000000e+04</td>\n",
              "      <td>30000.00000</td>\n",
              "      <td>30000.000000</td>\n",
              "      <td>30000.000000</td>\n",
              "      <td>30000.000000</td>\n",
              "    </tr>\n",
              "    <tr>\n",
              "      <th>mean</th>\n",
              "      <td>5663.580500</td>\n",
              "      <td>5.921163e+03</td>\n",
              "      <td>5225.68150</td>\n",
              "      <td>4826.076867</td>\n",
              "      <td>4799.387633</td>\n",
              "      <td>5215.502567</td>\n",
              "    </tr>\n",
              "    <tr>\n",
              "      <th>std</th>\n",
              "      <td>16563.280354</td>\n",
              "      <td>2.304087e+04</td>\n",
              "      <td>17606.96147</td>\n",
              "      <td>15666.159744</td>\n",
              "      <td>15278.305679</td>\n",
              "      <td>17777.465775</td>\n",
              "    </tr>\n",
              "    <tr>\n",
              "      <th>min</th>\n",
              "      <td>0.000000</td>\n",
              "      <td>0.000000e+00</td>\n",
              "      <td>0.00000</td>\n",
              "      <td>0.000000</td>\n",
              "      <td>0.000000</td>\n",
              "      <td>0.000000</td>\n",
              "    </tr>\n",
              "    <tr>\n",
              "      <th>25%</th>\n",
              "      <td>1000.000000</td>\n",
              "      <td>8.330000e+02</td>\n",
              "      <td>390.00000</td>\n",
              "      <td>296.000000</td>\n",
              "      <td>252.500000</td>\n",
              "      <td>117.750000</td>\n",
              "    </tr>\n",
              "    <tr>\n",
              "      <th>50%</th>\n",
              "      <td>2100.000000</td>\n",
              "      <td>2.009000e+03</td>\n",
              "      <td>1800.00000</td>\n",
              "      <td>1500.000000</td>\n",
              "      <td>1500.000000</td>\n",
              "      <td>1500.000000</td>\n",
              "    </tr>\n",
              "    <tr>\n",
              "      <th>75%</th>\n",
              "      <td>5006.000000</td>\n",
              "      <td>5.000000e+03</td>\n",
              "      <td>4505.00000</td>\n",
              "      <td>4013.250000</td>\n",
              "      <td>4031.500000</td>\n",
              "      <td>4000.000000</td>\n",
              "    </tr>\n",
              "    <tr>\n",
              "      <th>max</th>\n",
              "      <td>873552.000000</td>\n",
              "      <td>1.684259e+06</td>\n",
              "      <td>896040.00000</td>\n",
              "      <td>621000.000000</td>\n",
              "      <td>426529.000000</td>\n",
              "      <td>528666.000000</td>\n",
              "    </tr>\n",
              "  </tbody>\n",
              "</table>\n",
              "</div>"
            ],
            "text/plain": [
              "            PAY_AMT1      PAY_AMT2      PAY_AMT3       PAY_AMT4  \\\n",
              "count   30000.000000  3.000000e+04   30000.00000   30000.000000   \n",
              "mean     5663.580500  5.921163e+03    5225.68150    4826.076867   \n",
              "std     16563.280354  2.304087e+04   17606.96147   15666.159744   \n",
              "min         0.000000  0.000000e+00       0.00000       0.000000   \n",
              "25%      1000.000000  8.330000e+02     390.00000     296.000000   \n",
              "50%      2100.000000  2.009000e+03    1800.00000    1500.000000   \n",
              "75%      5006.000000  5.000000e+03    4505.00000    4013.250000   \n",
              "max    873552.000000  1.684259e+06  896040.00000  621000.000000   \n",
              "\n",
              "            PAY_AMT5       PAY_AMT6  \n",
              "count   30000.000000   30000.000000  \n",
              "mean     4799.387633    5215.502567  \n",
              "std     15278.305679   17777.465775  \n",
              "min         0.000000       0.000000  \n",
              "25%       252.500000     117.750000  \n",
              "50%      1500.000000    1500.000000  \n",
              "75%      4031.500000    4000.000000  \n",
              "max    426529.000000  528666.000000  "
            ]
          },
          "metadata": {
            "tags": []
          },
          "execution_count": 21
        }
      ]
    },
    {
      "metadata": {
        "id": "HLm4ElCEIEbu",
        "colab_type": "code",
        "outputId": "8d533310-2817-4498-fedf-dddc0482c8fc",
        "colab": {
          "base_uri": "https://localhost:8080/",
          "height": 170
        }
      },
      "cell_type": "code",
      "source": [
        "df.LIMIT_BAL.describe()"
      ],
      "execution_count": 22,
      "outputs": [
        {
          "output_type": "execute_result",
          "data": {
            "text/plain": [
              "count      30000.000000\n",
              "mean      167484.322667\n",
              "std       129747.661567\n",
              "min        10000.000000\n",
              "25%        50000.000000\n",
              "50%       140000.000000\n",
              "75%       240000.000000\n",
              "max      1000000.000000\n",
              "Name: LIMIT_BAL, dtype: float64"
            ]
          },
          "metadata": {
            "tags": []
          },
          "execution_count": 22
        }
      ]
    },
    {
      "metadata": {
        "id": "roCCUm5bILwX",
        "colab_type": "code",
        "outputId": "0f8d6ce0-7144-4563-8572-99f8e1b9a632",
        "colab": {
          "base_uri": "https://localhost:8080/",
          "height": 253
        }
      },
      "cell_type": "code",
      "source": [
        "df = df.rename(columns={'default.payment.next.month': 'def_pay', \n",
        "                        'PAY_0': 'PAY_1'})\n",
        "df.head()"
      ],
      "execution_count": 23,
      "outputs": [
        {
          "output_type": "execute_result",
          "data": {
            "text/html": [
              "<div>\n",
              "<style scoped>\n",
              "    .dataframe tbody tr th:only-of-type {\n",
              "        vertical-align: middle;\n",
              "    }\n",
              "\n",
              "    .dataframe tbody tr th {\n",
              "        vertical-align: top;\n",
              "    }\n",
              "\n",
              "    .dataframe thead th {\n",
              "        text-align: right;\n",
              "    }\n",
              "</style>\n",
              "<table border=\"1\" class=\"dataframe\">\n",
              "  <thead>\n",
              "    <tr style=\"text-align: right;\">\n",
              "      <th></th>\n",
              "      <th>ID</th>\n",
              "      <th>LIMIT_BAL</th>\n",
              "      <th>SEX</th>\n",
              "      <th>EDUCATION</th>\n",
              "      <th>MARRIAGE</th>\n",
              "      <th>AGE</th>\n",
              "      <th>PAY_1</th>\n",
              "      <th>PAY_2</th>\n",
              "      <th>PAY_3</th>\n",
              "      <th>PAY_4</th>\n",
              "      <th>...</th>\n",
              "      <th>BILL_AMT4</th>\n",
              "      <th>BILL_AMT5</th>\n",
              "      <th>BILL_AMT6</th>\n",
              "      <th>PAY_AMT1</th>\n",
              "      <th>PAY_AMT2</th>\n",
              "      <th>PAY_AMT3</th>\n",
              "      <th>PAY_AMT4</th>\n",
              "      <th>PAY_AMT5</th>\n",
              "      <th>PAY_AMT6</th>\n",
              "      <th>def_pay</th>\n",
              "    </tr>\n",
              "  </thead>\n",
              "  <tbody>\n",
              "    <tr>\n",
              "      <th>0</th>\n",
              "      <td>1</td>\n",
              "      <td>20000.0</td>\n",
              "      <td>2</td>\n",
              "      <td>2</td>\n",
              "      <td>1</td>\n",
              "      <td>24</td>\n",
              "      <td>2</td>\n",
              "      <td>2</td>\n",
              "      <td>-1</td>\n",
              "      <td>-1</td>\n",
              "      <td>...</td>\n",
              "      <td>0.0</td>\n",
              "      <td>0.0</td>\n",
              "      <td>0.0</td>\n",
              "      <td>0.0</td>\n",
              "      <td>689.0</td>\n",
              "      <td>0.0</td>\n",
              "      <td>0.0</td>\n",
              "      <td>0.0</td>\n",
              "      <td>0.0</td>\n",
              "      <td>1</td>\n",
              "    </tr>\n",
              "    <tr>\n",
              "      <th>1</th>\n",
              "      <td>2</td>\n",
              "      <td>120000.0</td>\n",
              "      <td>2</td>\n",
              "      <td>2</td>\n",
              "      <td>2</td>\n",
              "      <td>26</td>\n",
              "      <td>-1</td>\n",
              "      <td>2</td>\n",
              "      <td>0</td>\n",
              "      <td>0</td>\n",
              "      <td>...</td>\n",
              "      <td>3272.0</td>\n",
              "      <td>3455.0</td>\n",
              "      <td>3261.0</td>\n",
              "      <td>0.0</td>\n",
              "      <td>1000.0</td>\n",
              "      <td>1000.0</td>\n",
              "      <td>1000.0</td>\n",
              "      <td>0.0</td>\n",
              "      <td>2000.0</td>\n",
              "      <td>1</td>\n",
              "    </tr>\n",
              "    <tr>\n",
              "      <th>2</th>\n",
              "      <td>3</td>\n",
              "      <td>90000.0</td>\n",
              "      <td>2</td>\n",
              "      <td>2</td>\n",
              "      <td>2</td>\n",
              "      <td>34</td>\n",
              "      <td>0</td>\n",
              "      <td>0</td>\n",
              "      <td>0</td>\n",
              "      <td>0</td>\n",
              "      <td>...</td>\n",
              "      <td>14331.0</td>\n",
              "      <td>14948.0</td>\n",
              "      <td>15549.0</td>\n",
              "      <td>1518.0</td>\n",
              "      <td>1500.0</td>\n",
              "      <td>1000.0</td>\n",
              "      <td>1000.0</td>\n",
              "      <td>1000.0</td>\n",
              "      <td>5000.0</td>\n",
              "      <td>0</td>\n",
              "    </tr>\n",
              "    <tr>\n",
              "      <th>3</th>\n",
              "      <td>4</td>\n",
              "      <td>50000.0</td>\n",
              "      <td>2</td>\n",
              "      <td>2</td>\n",
              "      <td>1</td>\n",
              "      <td>37</td>\n",
              "      <td>0</td>\n",
              "      <td>0</td>\n",
              "      <td>0</td>\n",
              "      <td>0</td>\n",
              "      <td>...</td>\n",
              "      <td>28314.0</td>\n",
              "      <td>28959.0</td>\n",
              "      <td>29547.0</td>\n",
              "      <td>2000.0</td>\n",
              "      <td>2019.0</td>\n",
              "      <td>1200.0</td>\n",
              "      <td>1100.0</td>\n",
              "      <td>1069.0</td>\n",
              "      <td>1000.0</td>\n",
              "      <td>0</td>\n",
              "    </tr>\n",
              "    <tr>\n",
              "      <th>4</th>\n",
              "      <td>5</td>\n",
              "      <td>50000.0</td>\n",
              "      <td>1</td>\n",
              "      <td>2</td>\n",
              "      <td>1</td>\n",
              "      <td>57</td>\n",
              "      <td>-1</td>\n",
              "      <td>0</td>\n",
              "      <td>-1</td>\n",
              "      <td>0</td>\n",
              "      <td>...</td>\n",
              "      <td>20940.0</td>\n",
              "      <td>19146.0</td>\n",
              "      <td>19131.0</td>\n",
              "      <td>2000.0</td>\n",
              "      <td>36681.0</td>\n",
              "      <td>10000.0</td>\n",
              "      <td>9000.0</td>\n",
              "      <td>689.0</td>\n",
              "      <td>679.0</td>\n",
              "      <td>0</td>\n",
              "    </tr>\n",
              "  </tbody>\n",
              "</table>\n",
              "<p>5 rows × 25 columns</p>\n",
              "</div>"
            ],
            "text/plain": [
              "   ID  LIMIT_BAL  SEX  EDUCATION  MARRIAGE  AGE  PAY_1  PAY_2  PAY_3  PAY_4  \\\n",
              "0   1    20000.0    2          2         1   24      2      2     -1     -1   \n",
              "1   2   120000.0    2          2         2   26     -1      2      0      0   \n",
              "2   3    90000.0    2          2         2   34      0      0      0      0   \n",
              "3   4    50000.0    2          2         1   37      0      0      0      0   \n",
              "4   5    50000.0    1          2         1   57     -1      0     -1      0   \n",
              "\n",
              "    ...     BILL_AMT4  BILL_AMT5  BILL_AMT6  PAY_AMT1  PAY_AMT2  PAY_AMT3  \\\n",
              "0   ...           0.0        0.0        0.0       0.0     689.0       0.0   \n",
              "1   ...        3272.0     3455.0     3261.0       0.0    1000.0    1000.0   \n",
              "2   ...       14331.0    14948.0    15549.0    1518.0    1500.0    1000.0   \n",
              "3   ...       28314.0    28959.0    29547.0    2000.0    2019.0    1200.0   \n",
              "4   ...       20940.0    19146.0    19131.0    2000.0   36681.0   10000.0   \n",
              "\n",
              "   PAY_AMT4  PAY_AMT5  PAY_AMT6  def_pay  \n",
              "0       0.0       0.0       0.0        1  \n",
              "1    1000.0       0.0    2000.0        1  \n",
              "2    1000.0    1000.0    5000.0        0  \n",
              "3    1100.0    1069.0    1000.0        0  \n",
              "4    9000.0     689.0     679.0        0  \n",
              "\n",
              "[5 rows x 25 columns]"
            ]
          },
          "metadata": {
            "tags": []
          },
          "execution_count": 23
        }
      ]
    },
    {
      "metadata": {
        "id": "mE8VWEvTIZV7",
        "colab_type": "code",
        "outputId": "3fe7c2ac-0083-4cbf-8535-7a1bf1250b69",
        "colab": {
          "base_uri": "https://localhost:8080/",
          "height": 68
        }
      },
      "cell_type": "code",
      "source": [
        "df['def_pay'].value_counts()"
      ],
      "execution_count": 24,
      "outputs": [
        {
          "output_type": "execute_result",
          "data": {
            "text/plain": [
              "0    23364\n",
              "1     6636\n",
              "Name: def_pay, dtype: int64"
            ]
          },
          "metadata": {
            "tags": []
          },
          "execution_count": 24
        }
      ]
    },
    {
      "metadata": {
        "id": "N-kztX6nIno_",
        "colab_type": "code",
        "outputId": "b16093d4-4046-4be5-c8d0-0b3628ff27ed",
        "colab": {
          "base_uri": "https://localhost:8080/",
          "height": 68
        }
      },
      "cell_type": "code",
      "source": [
        "df.SEX.value_counts() "
      ],
      "execution_count": 25,
      "outputs": [
        {
          "output_type": "execute_result",
          "data": {
            "text/plain": [
              "2    18112\n",
              "1    11888\n",
              "Name: SEX, dtype: int64"
            ]
          },
          "metadata": {
            "tags": []
          },
          "execution_count": 25
        }
      ]
    },
    {
      "metadata": {
        "id": "0yzsi4XyJK6E",
        "colab_type": "code",
        "outputId": "1bd3bc58-d53d-4913-ed03-feacafdd7a86",
        "colab": {
          "base_uri": "https://localhost:8080/",
          "height": 85
        }
      },
      "cell_type": "code",
      "source": [
        "df['MARRIAGE'].value_counts()"
      ],
      "execution_count": 26,
      "outputs": [
        {
          "output_type": "execute_result",
          "data": {
            "text/plain": [
              "2    15964\n",
              "1    13659\n",
              "3      377\n",
              "Name: MARRIAGE, dtype: int64"
            ]
          },
          "metadata": {
            "tags": []
          },
          "execution_count": 26
        }
      ]
    },
    {
      "metadata": {
        "id": "xxuSKpqoJOg5",
        "colab_type": "code",
        "outputId": "fecc06d5-1a59-4f56-b811-6e6c6f5ee1ec",
        "colab": {
          "base_uri": "https://localhost:8080/",
          "height": 278
        }
      },
      "cell_type": "code",
      "source": [
        "df.MARRIAGE.value_counts().plot(kind = 'bar')"
      ],
      "execution_count": 27,
      "outputs": [
        {
          "output_type": "execute_result",
          "data": {
            "text/plain": [
              "<matplotlib.axes._subplots.AxesSubplot at 0x7fa7fbdf5a58>"
            ]
          },
          "metadata": {
            "tags": []
          },
          "execution_count": 27
        },
        {
          "output_type": "display_data",
          "data": {
            "image/png": "[encoded data removed]",
            "text/plain": [
              "<matplotlib.figure.Figure at 0x7fa7feb4d4e0>"
            ]
          },
          "metadata": {
            "tags": []
          }
        }
      ]
    },
    {
      "metadata": {
        "id": "voMIYg_iJWAZ",
        "colab_type": "code",
        "outputId": "2ce6a11d-608a-45af-a490-141c08eca5cb",
        "colab": {
          "base_uri": "https://localhost:8080/",
          "height": 282
        }
      },
      "cell_type": "code",
      "source": [
        "df.EDUCATION.value_counts().plot(kind = \"barh\")"
      ],
      "execution_count": 28,
      "outputs": [
        {
          "output_type": "execute_result",
          "data": {
            "text/plain": [
              "<matplotlib.axes._subplots.AxesSubplot at 0x7fa7fbe4cb70>"
            ]
          },
          "metadata": {
            "tags": []
          },
          "execution_count": 28
        },
        {
          "output_type": "display_data",
          "data": {
            "image/png": "[encoded data removed]",
            "text/plain": [
              "<matplotlib.figure.Figure at 0x7fa7fbd940f0>"
            ]
          },
          "metadata": {
            "tags": []
          }
        }
      ]
    },
    {
      "metadata": {
        "id": "zfT4Ja2aJeTu",
        "colab_type": "code",
        "colab": {}
      },
      "cell_type": "code",
      "source": [
        "def draw_histograms(df, variables, n_rows, n_cols, n_bins):\n",
        "    fig=plt.figure()\n",
        "    for i, var_name in enumerate(variables):\n",
        "        ax=fig.add_subplot(n_rows,n_cols,i+1)\n",
        "        df[var_name].hist(bins=n_bins,ax=ax)\n",
        "        ax.set_title(var_name)\n",
        "    fig.tight_layout()\n",
        "    plt.show()"
      ],
      "execution_count": 0,
      "outputs": []
    },
    {
      "metadata": {
        "id": "aOv_f2AKJ4HM",
        "colab_type": "code",
        "outputId": "58e16453-1945-4c10-b4f9-5cebc2c6d9b1",
        "colab": {
          "base_uri": "https://localhost:8080/",
          "height": 297
        }
      },
      "cell_type": "code",
      "source": [
        "bills = df[['BILL_AMT1','BILL_AMT2', 'BILL_AMT3', 'BILL_AMT4', 'BILL_AMT5', 'BILL_AMT6']]\n",
        "draw_histograms(bills, bills.columns, 2, 3, 20)"
      ],
      "execution_count": 30,
      "outputs": [
        {
          "output_type": "display_data",
          "data": {
            "image/png": "[encoded data removed]",
            "text/plain": [
              "<matplotlib.figure.Figure at 0x7fa7fbd949b0>"
            ]
          },
          "metadata": {
            "tags": []
          }
        }
      ]
    },
    {
      "metadata": {
        "id": "7CJRx8TKKYg4",
        "colab_type": "code",
        "colab": {}
      },
      "cell_type": "code",
      "source": [
        "def draw_dist(df, variables, n_rows, n_cols, n_bins):\n",
        "    fig=plt.figure(10)\n",
        "    for i, var_name in enumerate(variables):\n",
        "        ax=fig.add_subplot(n_rows,n_cols,i+1)\n",
        "        sns.distplot(a=df[var_name],bins=n_bins,ax=ax)\n",
        "        ax.set_title(var_name)\n",
        "    fig.tight_layout()\n",
        "    plt.show()"
      ],
      "execution_count": 0,
      "outputs": []
    },
    {
      "metadata": {
        "id": "g9gBsxSXLKbZ",
        "colab_type": "code",
        "outputId": "39092946-cb31-4604-9ad7-af899eb9bea3",
        "colab": {
          "base_uri": "https://localhost:8080/",
          "height": 297
        }
      },
      "cell_type": "code",
      "source": [
        "draw_dist(bills, bills.columns, 2, 3, 30)"
      ],
      "execution_count": 32,
      "outputs": [
        {
          "output_type": "display_data",
          "data": {
            "image/png": "[encoded data removed]",
            "text/plain": [
              "<matplotlib.figure.Figure at 0x7fa7fba6ba20>"
            ]
          },
          "metadata": {
            "tags": []
          }
        }
      ]
    },
    {
      "metadata": {
        "id": "QyvFBKb5LPm6",
        "colab_type": "code",
        "outputId": "c68dae3e-071d-4986-951d-0730da86373a",
        "colab": {
          "base_uri": "https://localhost:8080/",
          "height": 297
        }
      },
      "cell_type": "code",
      "source": [
        "pay = df[['PAY_AMT1','PAY_AMT2', 'PAY_AMT3', 'PAY_AMT4', 'PAY_AMT5', 'PAY_AMT6']]\n",
        "draw_histograms(pay, pay.columns, 2, 3, 20)"
      ],
      "execution_count": 33,
      "outputs": [
        {
          "output_type": "display_data",
          "data": {
            "image/png": "[encoded data removed]",
            "text/plain": [
              "<matplotlib.figure.Figure at 0x7fa7fb9d4a58>"
            ]
          },
          "metadata": {
            "tags": []
          }
        }
      ]
    },
    {
      "metadata": {
        "id": "kVvUbKA6L2Rc",
        "colab_type": "code",
        "outputId": "3179daec-40bb-4960-80ad-4e7182a50df3",
        "colab": {
          "base_uri": "https://localhost:8080/",
          "height": 297
        }
      },
      "cell_type": "code",
      "source": [
        "draw_dist(pay, pay.columns, 2, 3, 20)"
      ],
      "execution_count": 34,
      "outputs": [
        {
          "output_type": "display_data",
          "data": {
            "image/png": "[encoded data removed]",
            "text/plain": [
              "<matplotlib.figure.Figure at 0x7fa7fb6b9eb8>"
            ]
          },
          "metadata": {
            "tags": []
          }
        }
      ]
    },
    {
      "metadata": {
        "id": "EvrO-cLML7G7",
        "colab_type": "code",
        "outputId": "9375af64-96e3-4b2f-a629-88d0386436bf",
        "colab": {
          "base_uri": "https://localhost:8080/",
          "height": 297
        }
      },
      "cell_type": "code",
      "source": [
        "\n",
        "\n",
        "late = df[['PAY_1','PAY_2', 'PAY_3', 'PAY_4', 'PAY_5', 'PAY_6']]\n",
        "draw_histograms(late, late.columns, 2, 3, 10)"
      ],
      "execution_count": 35,
      "outputs": [
        {
          "output_type": "display_data",
          "data": {
            "image/png": "[encoded data removed]",
            "text/plain": [
              "<matplotlib.figure.Figure at 0x7fa7fb775128>"
            ]
          },
          "metadata": {
            "tags": []
          }
        }
      ]
    },
    {
      "metadata": {
        "id": "KoOiXxxHMD8v",
        "colab_type": "code",
        "outputId": "9088d76e-d1a6-4a86-a461-5c962b313933",
        "colab": {
          "base_uri": "https://localhost:8080/",
          "height": 297
        }
      },
      "cell_type": "code",
      "source": [
        "draw_dist(late, late.columns, 2, 3, 10)"
      ],
      "execution_count": 36,
      "outputs": [
        {
          "output_type": "display_data",
          "data": {
            "image/png": "[encoded data removed]",
            "text/plain": [
              "<matplotlib.figure.Figure at 0x7fa7fbaea780>"
            ]
          },
          "metadata": {
            "tags": []
          }
        }
      ]
    },
    {
      "metadata": {
        "id": "ZT6SZcq7MMHc",
        "colab_type": "code",
        "outputId": "db190cd5-1bf9-410c-f6c0-454222d28cca",
        "colab": {
          "base_uri": "https://localhost:8080/",
          "height": 296
        }
      },
      "cell_type": "code",
      "source": [
        "sns.distplot(a=df['AGE'],bins=20,kde=False)"
      ],
      "execution_count": 37,
      "outputs": [
        {
          "output_type": "execute_result",
          "data": {
            "text/plain": [
              "<matplotlib.axes._subplots.AxesSubplot at 0x7fa7fb40f588>"
            ]
          },
          "metadata": {
            "tags": []
          },
          "execution_count": 37
        },
        {
          "output_type": "display_data",
          "data": {
            "image/png": "[encoded data removed]",
            "text/plain": [
              "<matplotlib.figure.Figure at 0x7fa7fbba6d68>"
            ]
          },
          "metadata": {
            "tags": []
          }
        }
      ]
    },
    {
      "metadata": {
        "id": "ua0uQyBeMcOV",
        "colab_type": "code",
        "outputId": "372fba9f-7b10-4578-863b-e183d1eb2a14",
        "colab": {
          "base_uri": "https://localhost:8080/",
          "height": 285
        }
      },
      "cell_type": "code",
      "source": [
        "df.LIMIT_BAL.hist(bins = 20)"
      ],
      "execution_count": 38,
      "outputs": [
        {
          "output_type": "execute_result",
          "data": {
            "text/plain": [
              "<matplotlib.axes._subplots.AxesSubplot at 0x7fa7fb2573c8>"
            ]
          },
          "metadata": {
            "tags": []
          },
          "execution_count": 38
        },
        {
          "output_type": "display_data",
          "data": {
            "image/png": "[encoded data removed]",
            "text/plain": [
              "<matplotlib.figure.Figure at 0x7fa7fbc5ee10>"
            ]
          },
          "metadata": {
            "tags": []
          }
        }
      ]
    },
    {
      "metadata": {
        "id": "GAH67g4oM4Kb",
        "colab_type": "text"
      },
      "cell_type": "markdown",
      "source": [
        "observation is that the quantities referred to some amount of money have a very large range, which can cause problems to some some models (for example in linear regression models)"
      ]
    },
    {
      "metadata": {
        "id": "lw1t7NqbN3hF",
        "colab_type": "text"
      },
      "cell_type": "markdown",
      "source": [
        "<h1>Data Cleaning</h1>\n",
        "As seen previously, some categories are mislabeled or undocumented. Before proceeding, it is time to fix it.\n",
        "\n",
        "The 0 in MARRIAGE can be safely categorized as 'Other' (thus 3).\n",
        "\n",
        "The 0 (undocumented), 5 and 6 (label unknown) in EDUCATION can also be put in a 'Other' cathegory (thus 4)\n",
        "\n"
      ]
    },
    {
      "metadata": {
        "id": "rQBR3fMkOXdb",
        "colab_type": "code",
        "outputId": "a80ecf13-eeaa-4c21-a564-49551f9e87f9",
        "colab": {
          "base_uri": "https://localhost:8080/",
          "height": 160
        }
      },
      "cell_type": "code",
      "source": [
        "df.loc[[2,4]]"
      ],
      "execution_count": 39,
      "outputs": [
        {
          "output_type": "execute_result",
          "data": {
            "text/html": [
              "<div>\n",
              "<style scoped>\n",
              "    .dataframe tbody tr th:only-of-type {\n",
              "        vertical-align: middle;\n",
              "    }\n",
              "\n",
              "    .dataframe tbody tr th {\n",
              "        vertical-align: top;\n",
              "    }\n",
              "\n",
              "    .dataframe thead th {\n",
              "        text-align: right;\n",
              "    }\n",
              "</style>\n",
              "<table border=\"1\" class=\"dataframe\">\n",
              "  <thead>\n",
              "    <tr style=\"text-align: right;\">\n",
              "      <th></th>\n",
              "      <th>ID</th>\n",
              "      <th>LIMIT_BAL</th>\n",
              "      <th>SEX</th>\n",
              "      <th>EDUCATION</th>\n",
              "      <th>MARRIAGE</th>\n",
              "      <th>AGE</th>\n",
              "      <th>PAY_1</th>\n",
              "      <th>PAY_2</th>\n",
              "      <th>PAY_3</th>\n",
              "      <th>PAY_4</th>\n",
              "      <th>...</th>\n",
              "      <th>BILL_AMT4</th>\n",
              "      <th>BILL_AMT5</th>\n",
              "      <th>BILL_AMT6</th>\n",
              "      <th>PAY_AMT1</th>\n",
              "      <th>PAY_AMT2</th>\n",
              "      <th>PAY_AMT3</th>\n",
              "      <th>PAY_AMT4</th>\n",
              "      <th>PAY_AMT5</th>\n",
              "      <th>PAY_AMT6</th>\n",
              "      <th>def_pay</th>\n",
              "    </tr>\n",
              "  </thead>\n",
              "  <tbody>\n",
              "    <tr>\n",
              "      <th>2</th>\n",
              "      <td>3</td>\n",
              "      <td>90000.0</td>\n",
              "      <td>2</td>\n",
              "      <td>2</td>\n",
              "      <td>2</td>\n",
              "      <td>34</td>\n",
              "      <td>0</td>\n",
              "      <td>0</td>\n",
              "      <td>0</td>\n",
              "      <td>0</td>\n",
              "      <td>...</td>\n",
              "      <td>14331.0</td>\n",
              "      <td>14948.0</td>\n",
              "      <td>15549.0</td>\n",
              "      <td>1518.0</td>\n",
              "      <td>1500.0</td>\n",
              "      <td>1000.0</td>\n",
              "      <td>1000.0</td>\n",
              "      <td>1000.0</td>\n",
              "      <td>5000.0</td>\n",
              "      <td>0</td>\n",
              "    </tr>\n",
              "    <tr>\n",
              "      <th>4</th>\n",
              "      <td>5</td>\n",
              "      <td>50000.0</td>\n",
              "      <td>1</td>\n",
              "      <td>2</td>\n",
              "      <td>1</td>\n",
              "      <td>57</td>\n",
              "      <td>-1</td>\n",
              "      <td>0</td>\n",
              "      <td>-1</td>\n",
              "      <td>0</td>\n",
              "      <td>...</td>\n",
              "      <td>20940.0</td>\n",
              "      <td>19146.0</td>\n",
              "      <td>19131.0</td>\n",
              "      <td>2000.0</td>\n",
              "      <td>36681.0</td>\n",
              "      <td>10000.0</td>\n",
              "      <td>9000.0</td>\n",
              "      <td>689.0</td>\n",
              "      <td>679.0</td>\n",
              "      <td>0</td>\n",
              "    </tr>\n",
              "  </tbody>\n",
              "</table>\n",
              "<p>2 rows × 25 columns</p>\n",
              "</div>"
            ],
            "text/plain": [
              "   ID  LIMIT_BAL  SEX  EDUCATION  MARRIAGE  AGE  PAY_1  PAY_2  PAY_3  PAY_4  \\\n",
              "2   3    90000.0    2          2         2   34      0      0      0      0   \n",
              "4   5    50000.0    1          2         1   57     -1      0     -1      0   \n",
              "\n",
              "    ...     BILL_AMT4  BILL_AMT5  BILL_AMT6  PAY_AMT1  PAY_AMT2  PAY_AMT3  \\\n",
              "2   ...       14331.0    14948.0    15549.0    1518.0    1500.0    1000.0   \n",
              "4   ...       20940.0    19146.0    19131.0    2000.0   36681.0   10000.0   \n",
              "\n",
              "   PAY_AMT4  PAY_AMT5  PAY_AMT6  def_pay  \n",
              "2    1000.0    1000.0    5000.0        0  \n",
              "4    9000.0     689.0     679.0        0  \n",
              "\n",
              "[2 rows x 25 columns]"
            ]
          },
          "metadata": {
            "tags": []
          },
          "execution_count": 39
        }
      ]
    },
    {
      "metadata": {
        "id": "Zv4oGmQkM3Wp",
        "colab_type": "code",
        "outputId": "c45bf2bc-0d16-41f7-82cc-c734224995ce",
        "colab": {
          "base_uri": "https://localhost:8080/",
          "height": 102
        }
      },
      "cell_type": "code",
      "source": [
        "fil = (df.EDUCATION == 5) | (df.EDUCATION == 6) | (df.EDUCATION == 0)\n",
        "df.loc[fil, 'EDUCATION'] = 4\n",
        "df.EDUCATION.value_counts()"
      ],
      "execution_count": 40,
      "outputs": [
        {
          "output_type": "execute_result",
          "data": {
            "text/plain": [
              "2    14030\n",
              "1    10585\n",
              "3     4917\n",
              "4      468\n",
              "Name: EDUCATION, dtype: int64"
            ]
          },
          "metadata": {
            "tags": []
          },
          "execution_count": 40
        }
      ]
    },
    {
      "metadata": {
        "id": "O1jFlYBwMvST",
        "colab_type": "code",
        "outputId": "80320494-897e-44a7-fade-5a096855ffa7",
        "colab": {
          "base_uri": "https://localhost:8080/",
          "height": 85
        }
      },
      "cell_type": "code",
      "source": [
        "df.loc[df.MARRIAGE == 0, 'MARRIAGE'] = 3\n",
        "df.MARRIAGE.value_counts()"
      ],
      "execution_count": 41,
      "outputs": [
        {
          "output_type": "execute_result",
          "data": {
            "text/plain": [
              "2    15964\n",
              "1    13659\n",
              "3      377\n",
              "Name: MARRIAGE, dtype: int64"
            ]
          },
          "metadata": {
            "tags": []
          },
          "execution_count": 41
        }
      ]
    },
    {
      "metadata": {
        "id": "WrDUnTjVQQOX",
        "colab_type": "text"
      },
      "cell_type": "markdown",
      "source": [
        "\"Other\" in marriage could be, for example, \"divorced\".\n",
        "\n",
        "According to our documentation, the PAY_n variables indicate the number of months of delay and indicates \"pay duly\"with -1. Then what is -2? And what is 0? It seems to me the label has to be adjusted to 0 for pay duly."
      ]
    },
    {
      "metadata": {
        "id": "CJxxNLLTQRZJ",
        "colab_type": "code",
        "outputId": "a7a27782-109c-46b9-d2c1-4f12822700fe",
        "colab": {
          "base_uri": "https://localhost:8080/",
          "height": 297
        }
      },
      "cell_type": "code",
      "source": [
        "fil = (df.PAY_1 == -2) | (df.PAY_1 == -1) | (df.PAY_1 == 0)\n",
        "df.loc[fil, 'PAY_1'] = 0\n",
        "fil = (df.PAY_2 == -2) | (df.PAY_2 == -1) | (df.PAY_2 == 0)\n",
        "df.loc[fil, 'PAY_2'] = 0\n",
        "fil = (df.PAY_3 == -2) | (df.PAY_3 == -1) | (df.PAY_3 == 0)\n",
        "df.loc[fil, 'PAY_3'] = 0\n",
        "fil = (df.PAY_4 == -2) | (df.PAY_4 == -1) | (df.PAY_4 == 0)\n",
        "df.loc[fil, 'PAY_4'] = 0\n",
        "fil = (df.PAY_5 == -2) | (df.PAY_5 == -1) | (df.PAY_5 == 0)\n",
        "df.loc[fil, 'PAY_5'] = 0\n",
        "fil = (df.PAY_6 == -2) | (df.PAY_6 == -1) | (df.PAY_6 == 0)\n",
        "df.loc[fil, 'PAY_6'] = 0\n",
        "late = df[['PAY_1','PAY_2', 'PAY_3', 'PAY_4', 'PAY_5', 'PAY_6']]\n",
        "draw_histograms(late, late.columns, 2, 3, 10)"
      ],
      "execution_count": 42,
      "outputs": [
        {
          "output_type": "display_data",
          "data": {
            "image/png": "[encoded data removed]",
            "text/plain": [
              "<matplotlib.figure.Figure at 0x7fa7fbb8a198>"
            ]
          },
          "metadata": {
            "tags": []
          }
        }
      ]
    },
    {
      "metadata": {
        "id": "QnM2M2jWR_lG",
        "colab_type": "code",
        "outputId": "8787f127-a58e-4460-f909-fb2b2e900261",
        "colab": {
          "base_uri": "https://localhost:8080/",
          "height": 359
        }
      },
      "cell_type": "code",
      "source": [
        "df[df.PAY_AMT1 > 300000][['LIMIT_BAL', 'PAY_1', 'PAY_2', 'BILL_AMT2', \n",
        "                          'PAY_AMT1', 'BILL_AMT1', 'def_pay']]"
      ],
      "execution_count": 43,
      "outputs": [
        {
          "output_type": "execute_result",
          "data": {
            "text/html": [
              "<div>\n",
              "<style scoped>\n",
              "    .dataframe tbody tr th:only-of-type {\n",
              "        vertical-align: middle;\n",
              "    }\n",
              "\n",
              "    .dataframe tbody tr th {\n",
              "        vertical-align: top;\n",
              "    }\n",
              "\n",
              "    .dataframe thead th {\n",
              "        text-align: right;\n",
              "    }\n",
              "</style>\n",
              "<table border=\"1\" class=\"dataframe\">\n",
              "  <thead>\n",
              "    <tr style=\"text-align: right;\">\n",
              "      <th></th>\n",
              "      <th>LIMIT_BAL</th>\n",
              "      <th>PAY_1</th>\n",
              "      <th>PAY_2</th>\n",
              "      <th>BILL_AMT2</th>\n",
              "      <th>PAY_AMT1</th>\n",
              "      <th>BILL_AMT1</th>\n",
              "      <th>def_pay</th>\n",
              "    </tr>\n",
              "  </thead>\n",
              "  <tbody>\n",
              "    <tr>\n",
              "      <th>2687</th>\n",
              "      <td>500000.0</td>\n",
              "      <td>0</td>\n",
              "      <td>0</td>\n",
              "      <td>367979.0</td>\n",
              "      <td>368199.0</td>\n",
              "      <td>71921.0</td>\n",
              "      <td>0</td>\n",
              "    </tr>\n",
              "    <tr>\n",
              "      <th>5687</th>\n",
              "      <td>480000.0</td>\n",
              "      <td>0</td>\n",
              "      <td>0</td>\n",
              "      <td>400000.0</td>\n",
              "      <td>302000.0</td>\n",
              "      <td>106660.0</td>\n",
              "      <td>0</td>\n",
              "    </tr>\n",
              "    <tr>\n",
              "      <th>8500</th>\n",
              "      <td>400000.0</td>\n",
              "      <td>0</td>\n",
              "      <td>0</td>\n",
              "      <td>405016.0</td>\n",
              "      <td>405016.0</td>\n",
              "      <td>6500.0</td>\n",
              "      <td>0</td>\n",
              "    </tr>\n",
              "    <tr>\n",
              "      <th>12330</th>\n",
              "      <td>300000.0</td>\n",
              "      <td>1</td>\n",
              "      <td>0</td>\n",
              "      <td>324392.0</td>\n",
              "      <td>505000.0</td>\n",
              "      <td>-165580.0</td>\n",
              "      <td>0</td>\n",
              "    </tr>\n",
              "    <tr>\n",
              "      <th>25431</th>\n",
              "      <td>170000.0</td>\n",
              "      <td>0</td>\n",
              "      <td>0</td>\n",
              "      <td>167941.0</td>\n",
              "      <td>304815.0</td>\n",
              "      <td>30860.0</td>\n",
              "      <td>0</td>\n",
              "    </tr>\n",
              "    <tr>\n",
              "      <th>28003</th>\n",
              "      <td>510000.0</td>\n",
              "      <td>0</td>\n",
              "      <td>0</td>\n",
              "      <td>481382.0</td>\n",
              "      <td>493358.0</td>\n",
              "      <td>71121.0</td>\n",
              "      <td>0</td>\n",
              "    </tr>\n",
              "    <tr>\n",
              "      <th>28716</th>\n",
              "      <td>340000.0</td>\n",
              "      <td>0</td>\n",
              "      <td>0</td>\n",
              "      <td>176743.0</td>\n",
              "      <td>873552.0</td>\n",
              "      <td>139808.0</td>\n",
              "      <td>0</td>\n",
              "    </tr>\n",
              "    <tr>\n",
              "      <th>29820</th>\n",
              "      <td>400000.0</td>\n",
              "      <td>1</td>\n",
              "      <td>0</td>\n",
              "      <td>394858.0</td>\n",
              "      <td>423903.0</td>\n",
              "      <td>396343.0</td>\n",
              "      <td>0</td>\n",
              "    </tr>\n",
              "    <tr>\n",
              "      <th>29867</th>\n",
              "      <td>340000.0</td>\n",
              "      <td>0</td>\n",
              "      <td>0</td>\n",
              "      <td>331641.0</td>\n",
              "      <td>300039.0</td>\n",
              "      <td>44855.0</td>\n",
              "      <td>0</td>\n",
              "    </tr>\n",
              "    <tr>\n",
              "      <th>29963</th>\n",
              "      <td>610000.0</td>\n",
              "      <td>0</td>\n",
              "      <td>0</td>\n",
              "      <td>322228.0</td>\n",
              "      <td>323014.0</td>\n",
              "      <td>348392.0</td>\n",
              "      <td>0</td>\n",
              "    </tr>\n",
              "  </tbody>\n",
              "</table>\n",
              "</div>"
            ],
            "text/plain": [
              "       LIMIT_BAL  PAY_1  PAY_2  BILL_AMT2  PAY_AMT1  BILL_AMT1  def_pay\n",
              "2687    500000.0      0      0   367979.0  368199.0    71921.0        0\n",
              "5687    480000.0      0      0   400000.0  302000.0   106660.0        0\n",
              "8500    400000.0      0      0   405016.0  405016.0     6500.0        0\n",
              "12330   300000.0      1      0   324392.0  505000.0  -165580.0        0\n",
              "25431   170000.0      0      0   167941.0  304815.0    30860.0        0\n",
              "28003   510000.0      0      0   481382.0  493358.0    71121.0        0\n",
              "28716   340000.0      0      0   176743.0  873552.0   139808.0        0\n",
              "29820   400000.0      1      0   394858.0  423903.0   396343.0        0\n",
              "29867   340000.0      0      0   331641.0  300039.0    44855.0        0\n",
              "29963   610000.0      0      0   322228.0  323014.0   348392.0        0"
            ]
          },
          "metadata": {
            "tags": []
          },
          "execution_count": 43
        }
      ]
    },
    {
      "metadata": {
        "id": "Omo_DCpMSn0A",
        "colab_type": "code",
        "outputId": "ad43100a-cff8-4256-9bb9-9c9bd5174767",
        "colab": {
          "base_uri": "https://localhost:8080/",
          "height": 700
        }
      },
      "cell_type": "code",
      "source": [
        "df[df.PAY_AMT2 > 300000][['LIMIT_BAL', 'PAY_2', 'PAY_3', 'BILL_AMT3', \n",
        "                          'PAY_AMT2', 'BILL_AMT2', 'def_pay']]"
      ],
      "execution_count": 44,
      "outputs": [
        {
          "output_type": "execute_result",
          "data": {
            "text/html": [
              "<div>\n",
              "<style scoped>\n",
              "    .dataframe tbody tr th:only-of-type {\n",
              "        vertical-align: middle;\n",
              "    }\n",
              "\n",
              "    .dataframe tbody tr th {\n",
              "        vertical-align: top;\n",
              "    }\n",
              "\n",
              "    .dataframe thead th {\n",
              "        text-align: right;\n",
              "    }\n",
              "</style>\n",
              "<table border=\"1\" class=\"dataframe\">\n",
              "  <thead>\n",
              "    <tr style=\"text-align: right;\">\n",
              "      <th></th>\n",
              "      <th>LIMIT_BAL</th>\n",
              "      <th>PAY_2</th>\n",
              "      <th>PAY_3</th>\n",
              "      <th>BILL_AMT3</th>\n",
              "      <th>PAY_AMT2</th>\n",
              "      <th>BILL_AMT2</th>\n",
              "      <th>def_pay</th>\n",
              "    </tr>\n",
              "  </thead>\n",
              "  <tbody>\n",
              "    <tr>\n",
              "      <th>2592</th>\n",
              "      <td>480000.0</td>\n",
              "      <td>0</td>\n",
              "      <td>0</td>\n",
              "      <td>339176.0</td>\n",
              "      <td>344261.0</td>\n",
              "      <td>38929.0</td>\n",
              "      <td>0</td>\n",
              "    </tr>\n",
              "    <tr>\n",
              "      <th>3774</th>\n",
              "      <td>500000.0</td>\n",
              "      <td>0</td>\n",
              "      <td>0</td>\n",
              "      <td>301441.0</td>\n",
              "      <td>302961.0</td>\n",
              "      <td>39356.0</td>\n",
              "      <td>0</td>\n",
              "    </tr>\n",
              "    <tr>\n",
              "      <th>5296</th>\n",
              "      <td>500000.0</td>\n",
              "      <td>0</td>\n",
              "      <td>0</td>\n",
              "      <td>1664089.0</td>\n",
              "      <td>1684259.0</td>\n",
              "      <td>-18088.0</td>\n",
              "      <td>0</td>\n",
              "    </tr>\n",
              "    <tr>\n",
              "      <th>5400</th>\n",
              "      <td>500000.0</td>\n",
              "      <td>0</td>\n",
              "      <td>0</td>\n",
              "      <td>385228.0</td>\n",
              "      <td>385228.0</td>\n",
              "      <td>8970.0</td>\n",
              "      <td>0</td>\n",
              "    </tr>\n",
              "    <tr>\n",
              "      <th>6150</th>\n",
              "      <td>300000.0</td>\n",
              "      <td>0</td>\n",
              "      <td>0</td>\n",
              "      <td>4735.0</td>\n",
              "      <td>344467.0</td>\n",
              "      <td>-5973.0</td>\n",
              "      <td>1</td>\n",
              "    </tr>\n",
              "    <tr>\n",
              "      <th>6864</th>\n",
              "      <td>500000.0</td>\n",
              "      <td>0</td>\n",
              "      <td>0</td>\n",
              "      <td>444462.0</td>\n",
              "      <td>300018.0</td>\n",
              "      <td>201402.0</td>\n",
              "      <td>0</td>\n",
              "    </tr>\n",
              "    <tr>\n",
              "      <th>9044</th>\n",
              "      <td>500000.0</td>\n",
              "      <td>0</td>\n",
              "      <td>0</td>\n",
              "      <td>384973.0</td>\n",
              "      <td>384986.0</td>\n",
              "      <td>24201.0</td>\n",
              "      <td>0</td>\n",
              "    </tr>\n",
              "    <tr>\n",
              "      <th>11568</th>\n",
              "      <td>430000.0</td>\n",
              "      <td>0</td>\n",
              "      <td>0</td>\n",
              "      <td>354716.0</td>\n",
              "      <td>358689.0</td>\n",
              "      <td>960.0</td>\n",
              "      <td>1</td>\n",
              "    </tr>\n",
              "    <tr>\n",
              "      <th>11853</th>\n",
              "      <td>360000.0</td>\n",
              "      <td>1</td>\n",
              "      <td>0</td>\n",
              "      <td>338600.0</td>\n",
              "      <td>361560.0</td>\n",
              "      <td>-22960.0</td>\n",
              "      <td>0</td>\n",
              "    </tr>\n",
              "    <tr>\n",
              "      <th>12829</th>\n",
              "      <td>340000.0</td>\n",
              "      <td>0</td>\n",
              "      <td>0</td>\n",
              "      <td>330510.0</td>\n",
              "      <td>312723.0</td>\n",
              "      <td>335584.0</td>\n",
              "      <td>1</td>\n",
              "    </tr>\n",
              "    <tr>\n",
              "      <th>13186</th>\n",
              "      <td>750000.0</td>\n",
              "      <td>0</td>\n",
              "      <td>0</td>\n",
              "      <td>401003.0</td>\n",
              "      <td>401003.0</td>\n",
              "      <td>9655.0</td>\n",
              "      <td>0</td>\n",
              "    </tr>\n",
              "    <tr>\n",
              "      <th>13863</th>\n",
              "      <td>520000.0</td>\n",
              "      <td>0</td>\n",
              "      <td>0</td>\n",
              "      <td>385425.0</td>\n",
              "      <td>415552.0</td>\n",
              "      <td>2728.0</td>\n",
              "      <td>0</td>\n",
              "    </tr>\n",
              "    <tr>\n",
              "      <th>14513</th>\n",
              "      <td>460000.0</td>\n",
              "      <td>0</td>\n",
              "      <td>0</td>\n",
              "      <td>309622.0</td>\n",
              "      <td>580464.0</td>\n",
              "      <td>261444.0</td>\n",
              "      <td>0</td>\n",
              "    </tr>\n",
              "    <tr>\n",
              "      <th>16917</th>\n",
              "      <td>350000.0</td>\n",
              "      <td>0</td>\n",
              "      <td>0</td>\n",
              "      <td>355925.0</td>\n",
              "      <td>340000.0</td>\n",
              "      <td>107315.0</td>\n",
              "      <td>0</td>\n",
              "    </tr>\n",
              "    <tr>\n",
              "      <th>19723</th>\n",
              "      <td>500000.0</td>\n",
              "      <td>0</td>\n",
              "      <td>0</td>\n",
              "      <td>367979.0</td>\n",
              "      <td>368199.0</td>\n",
              "      <td>71921.0</td>\n",
              "      <td>0</td>\n",
              "    </tr>\n",
              "    <tr>\n",
              "      <th>21250</th>\n",
              "      <td>340000.0</td>\n",
              "      <td>0</td>\n",
              "      <td>0</td>\n",
              "      <td>388126.0</td>\n",
              "      <td>388126.0</td>\n",
              "      <td>43418.0</td>\n",
              "      <td>0</td>\n",
              "    </tr>\n",
              "    <tr>\n",
              "      <th>24920</th>\n",
              "      <td>430000.0</td>\n",
              "      <td>0</td>\n",
              "      <td>0</td>\n",
              "      <td>336073.0</td>\n",
              "      <td>325470.0</td>\n",
              "      <td>46127.0</td>\n",
              "      <td>0</td>\n",
              "    </tr>\n",
              "    <tr>\n",
              "      <th>25731</th>\n",
              "      <td>80000.0</td>\n",
              "      <td>0</td>\n",
              "      <td>0</td>\n",
              "      <td>855086.0</td>\n",
              "      <td>1024516.0</td>\n",
              "      <td>-215.0</td>\n",
              "      <td>0</td>\n",
              "    </tr>\n",
              "    <tr>\n",
              "      <th>28003</th>\n",
              "      <td>510000.0</td>\n",
              "      <td>0</td>\n",
              "      <td>0</td>\n",
              "      <td>559712.0</td>\n",
              "      <td>1227082.0</td>\n",
              "      <td>481382.0</td>\n",
              "      <td>0</td>\n",
              "    </tr>\n",
              "    <tr>\n",
              "      <th>28716</th>\n",
              "      <td>340000.0</td>\n",
              "      <td>0</td>\n",
              "      <td>0</td>\n",
              "      <td>34402.0</td>\n",
              "      <td>1215471.0</td>\n",
              "      <td>176743.0</td>\n",
              "      <td>0</td>\n",
              "    </tr>\n",
              "    <tr>\n",
              "      <th>28993</th>\n",
              "      <td>480000.0</td>\n",
              "      <td>0</td>\n",
              "      <td>0</td>\n",
              "      <td>400000.0</td>\n",
              "      <td>302000.0</td>\n",
              "      <td>106660.0</td>\n",
              "      <td>1</td>\n",
              "    </tr>\n",
              "  </tbody>\n",
              "</table>\n",
              "</div>"
            ],
            "text/plain": [
              "       LIMIT_BAL  PAY_2  PAY_3  BILL_AMT3   PAY_AMT2  BILL_AMT2  def_pay\n",
              "2592    480000.0      0      0   339176.0   344261.0    38929.0        0\n",
              "3774    500000.0      0      0   301441.0   302961.0    39356.0        0\n",
              "5296    500000.0      0      0  1664089.0  1684259.0   -18088.0        0\n",
              "5400    500000.0      0      0   385228.0   385228.0     8970.0        0\n",
              "6150    300000.0      0      0     4735.0   344467.0    -5973.0        1\n",
              "6864    500000.0      0      0   444462.0   300018.0   201402.0        0\n",
              "9044    500000.0      0      0   384973.0   384986.0    24201.0        0\n",
              "11568   430000.0      0      0   354716.0   358689.0      960.0        1\n",
              "11853   360000.0      1      0   338600.0   361560.0   -22960.0        0\n",
              "12829   340000.0      0      0   330510.0   312723.0   335584.0        1\n",
              "13186   750000.0      0      0   401003.0   401003.0     9655.0        0\n",
              "13863   520000.0      0      0   385425.0   415552.0     2728.0        0\n",
              "14513   460000.0      0      0   309622.0   580464.0   261444.0        0\n",
              "16917   350000.0      0      0   355925.0   340000.0   107315.0        0\n",
              "19723   500000.0      0      0   367979.0   368199.0    71921.0        0\n",
              "21250   340000.0      0      0   388126.0   388126.0    43418.0        0\n",
              "24920   430000.0      0      0   336073.0   325470.0    46127.0        0\n",
              "25731    80000.0      0      0   855086.0  1024516.0     -215.0        0\n",
              "28003   510000.0      0      0   559712.0  1227082.0   481382.0        0\n",
              "28716   340000.0      0      0    34402.0  1215471.0   176743.0        0\n",
              "28993   480000.0      0      0   400000.0   302000.0   106660.0        1"
            ]
          },
          "metadata": {
            "tags": []
          },
          "execution_count": 44
        }
      ]
    },
    {
      "metadata": {
        "id": "tV5PTwHSTEtG",
        "colab_type": "text"
      },
      "cell_type": "markdown",
      "source": [
        "A quick check on all the others reveal that they are not outliers but simply clients with a lot of money."
      ]
    },
    {
      "metadata": {
        "id": "AhAFGKDWSs0K",
        "colab_type": "code",
        "outputId": "d174b4cf-a286-4e40-93b4-6d61a3a3718e",
        "colab": {
          "base_uri": "https://localhost:8080/",
          "height": 119
        }
      },
      "cell_type": "code",
      "source": [
        "df.groupby(['SEX', 'def_pay']).size()"
      ],
      "execution_count": 45,
      "outputs": [
        {
          "output_type": "execute_result",
          "data": {
            "text/plain": [
              "SEX  def_pay\n",
              "1    0           9015\n",
              "     1           2873\n",
              "2    0          14349\n",
              "     1           3763\n",
              "dtype: int64"
            ]
          },
          "metadata": {
            "tags": []
          },
          "execution_count": 45
        }
      ]
    },
    {
      "metadata": {
        "id": "owCUEXd4TGNX",
        "colab_type": "code",
        "outputId": "7f5251d9-94c5-487d-fcdb-4211521bde60",
        "colab": {
          "base_uri": "https://localhost:8080/",
          "height": 85
        }
      },
      "cell_type": "code",
      "source": [
        "gender = df.groupby(['SEX', 'def_pay']).size().unstack(1)\n",
        "print(gender)\n"
      ],
      "execution_count": 46,
      "outputs": [
        {
          "output_type": "stream",
          "text": [
            "def_pay      0     1\n",
            "SEX                 \n",
            "1         9015  2873\n",
            "2        14349  3763\n"
          ],
          "name": "stdout"
        }
      ]
    },
    {
      "metadata": {
        "id": "f_ZAK_ATUGlL",
        "colab_type": "code",
        "outputId": "60b6afd8-0ee2-47b1-da4b-46f64a20f6d2",
        "colab": {
          "base_uri": "https://localhost:8080/",
          "height": 292
        }
      },
      "cell_type": "code",
      "source": [
        "gender.plot(kind='bar', stacked = True)"
      ],
      "execution_count": 47,
      "outputs": [
        {
          "output_type": "execute_result",
          "data": {
            "text/plain": [
              "<matplotlib.axes._subplots.AxesSubplot at 0x7fa7fb39bd68>"
            ]
          },
          "metadata": {
            "tags": []
          },
          "execution_count": 47
        },
        {
          "output_type": "display_data",
          "data": {
            "image/png": "[encoded data removed]",
            "text/plain": [
              "<matplotlib.figure.Figure at 0x7fa7fb37a128>"
            ]
          },
          "metadata": {
            "tags": []
          }
        }
      ]
    },
    {
      "metadata": {
        "id": "Xl4f5nPqUdtx",
        "colab_type": "code",
        "colab": {}
      },
      "cell_type": "code",
      "source": [
        "gender['perc'] = (gender[1]/(gender[0] + gender[1]))"
      ],
      "execution_count": 0,
      "outputs": []
    },
    {
      "metadata": {
        "id": "1P3t0wooWCdM",
        "colab_type": "code",
        "outputId": "23dfb42b-e916-455d-bce3-71776ea389ac",
        "colab": {
          "base_uri": "https://localhost:8080/",
          "height": 85
        }
      },
      "cell_type": "code",
      "source": [
        "print(gender)"
      ],
      "execution_count": 49,
      "outputs": [
        {
          "output_type": "stream",
          "text": [
            "def_pay      0     1      perc\n",
            "SEX                           \n",
            "1         9015  2873  0.241672\n",
            "2        14349  3763  0.207763\n"
          ],
          "name": "stdout"
        }
      ]
    },
    {
      "metadata": {
        "id": "wk8dcG1AWi90",
        "colab_type": "text"
      },
      "cell_type": "markdown",
      "source": [
        "Considering that about 22% of the customers will default, we see a couple of things:\n",
        "\n",
        "there are significantly more women than men\n",
        "\n",
        "men are most likely going to default the next month\n",
        "\n",
        "However, we don't have to jump to any conclusion just yet since there might be some lurking variable that justifies the data better (and, being SEX the first variable we look at, it is most likely the case). "
      ]
    },
    {
      "metadata": {
        "id": "bQ0_00VaWRdq",
        "colab_type": "code",
        "colab": {}
      },
      "cell_type": "code",
      "source": [
        "def corr_2_cols(Col1, Col2):\n",
        "    res = df.groupby([Col1, Col2]).size().unstack()\n",
        "    res['perc'] = (res[res.columns[1]]/(res[res.columns[0]] + res[res.columns[1]]))\n",
        "    return res"
      ],
      "execution_count": 0,
      "outputs": []
    },
    {
      "metadata": {
        "id": "Q_eUQw0YW9Qx",
        "colab_type": "code",
        "outputId": "d9050cb3-4415-49e7-9515-3aa95a8c887a",
        "colab": {
          "base_uri": "https://localhost:8080/",
          "height": 204
        }
      },
      "cell_type": "code",
      "source": [
        "corr_2_cols('EDUCATION', 'def_pay')"
      ],
      "execution_count": 51,
      "outputs": [
        {
          "output_type": "execute_result",
          "data": {
            "text/html": [
              "<div>\n",
              "<style scoped>\n",
              "    .dataframe tbody tr th:only-of-type {\n",
              "        vertical-align: middle;\n",
              "    }\n",
              "\n",
              "    .dataframe tbody tr th {\n",
              "        vertical-align: top;\n",
              "    }\n",
              "\n",
              "    .dataframe thead th {\n",
              "        text-align: right;\n",
              "    }\n",
              "</style>\n",
              "<table border=\"1\" class=\"dataframe\">\n",
              "  <thead>\n",
              "    <tr style=\"text-align: right;\">\n",
              "      <th>def_pay</th>\n",
              "      <th>0</th>\n",
              "      <th>1</th>\n",
              "      <th>perc</th>\n",
              "    </tr>\n",
              "    <tr>\n",
              "      <th>EDUCATION</th>\n",
              "      <th></th>\n",
              "      <th></th>\n",
              "      <th></th>\n",
              "    </tr>\n",
              "  </thead>\n",
              "  <tbody>\n",
              "    <tr>\n",
              "      <th>1</th>\n",
              "      <td>8549</td>\n",
              "      <td>2036</td>\n",
              "      <td>0.192348</td>\n",
              "    </tr>\n",
              "    <tr>\n",
              "      <th>2</th>\n",
              "      <td>10700</td>\n",
              "      <td>3330</td>\n",
              "      <td>0.237349</td>\n",
              "    </tr>\n",
              "    <tr>\n",
              "      <th>3</th>\n",
              "      <td>3680</td>\n",
              "      <td>1237</td>\n",
              "      <td>0.251576</td>\n",
              "    </tr>\n",
              "    <tr>\n",
              "      <th>4</th>\n",
              "      <td>435</td>\n",
              "      <td>33</td>\n",
              "      <td>0.070513</td>\n",
              "    </tr>\n",
              "  </tbody>\n",
              "</table>\n",
              "</div>"
            ],
            "text/plain": [
              "def_pay        0     1      perc\n",
              "EDUCATION                       \n",
              "1           8549  2036  0.192348\n",
              "2          10700  3330  0.237349\n",
              "3           3680  1237  0.251576\n",
              "4            435    33  0.070513"
            ]
          },
          "metadata": {
            "tags": []
          },
          "execution_count": 51
        }
      ]
    },
    {
      "metadata": {
        "id": "7xa7ZbfaXJkn",
        "colab_type": "text"
      },
      "cell_type": "markdown",
      "source": [
        "It seems that the higher is the education, the lower is the probability of defaulting the next month. Only exception is for the category labeled \"Other\" that, if we stick to the documentation, would be lower than high school. However, numerically they will not have much weight in the final result.\n",
        "\n",
        "Let's see with MARRIAGE."
      ]
    },
    {
      "metadata": {
        "id": "rOs6WUkOXCyf",
        "colab_type": "code",
        "outputId": "d146e75a-3974-4b9f-a6a8-6aa61864ee66",
        "colab": {
          "base_uri": "https://localhost:8080/",
          "height": 173
        }
      },
      "cell_type": "code",
      "source": [
        "corr_2_cols('MARRIAGE', 'def_pay')"
      ],
      "execution_count": 52,
      "outputs": [
        {
          "output_type": "execute_result",
          "data": {
            "text/html": [
              "<div>\n",
              "<style scoped>\n",
              "    .dataframe tbody tr th:only-of-type {\n",
              "        vertical-align: middle;\n",
              "    }\n",
              "\n",
              "    .dataframe tbody tr th {\n",
              "        vertical-align: top;\n",
              "    }\n",
              "\n",
              "    .dataframe thead th {\n",
              "        text-align: right;\n",
              "    }\n",
              "</style>\n",
              "<table border=\"1\" class=\"dataframe\">\n",
              "  <thead>\n",
              "    <tr style=\"text-align: right;\">\n",
              "      <th>def_pay</th>\n",
              "      <th>0</th>\n",
              "      <th>1</th>\n",
              "      <th>perc</th>\n",
              "    </tr>\n",
              "    <tr>\n",
              "      <th>MARRIAGE</th>\n",
              "      <th></th>\n",
              "      <th></th>\n",
              "      <th></th>\n",
              "    </tr>\n",
              "  </thead>\n",
              "  <tbody>\n",
              "    <tr>\n",
              "      <th>1</th>\n",
              "      <td>10453</td>\n",
              "      <td>3206</td>\n",
              "      <td>0.234717</td>\n",
              "    </tr>\n",
              "    <tr>\n",
              "      <th>2</th>\n",
              "      <td>12623</td>\n",
              "      <td>3341</td>\n",
              "      <td>0.209283</td>\n",
              "    </tr>\n",
              "    <tr>\n",
              "      <th>3</th>\n",
              "      <td>288</td>\n",
              "      <td>89</td>\n",
              "      <td>0.236074</td>\n",
              "    </tr>\n",
              "  </tbody>\n",
              "</table>\n",
              "</div>"
            ],
            "text/plain": [
              "def_pay       0     1      perc\n",
              "MARRIAGE                       \n",
              "1         10453  3206  0.234717\n",
              "2         12623  3341  0.209283\n",
              "3           288    89  0.236074"
            ]
          },
          "metadata": {
            "tags": []
          },
          "execution_count": 52
        }
      ]
    },
    {
      "metadata": {
        "id": "gKAenmdeX0k6",
        "colab_type": "text"
      },
      "cell_type": "markdown",
      "source": [
        "Here it seems that married people are most likely to default as well as the misterious category \"Other\" ( which is again numerically less relevant than the others)\n",
        "\n",
        "All considered, these three categories seem to affect the result we want to predict. Thus we keep them in mind for later.\n"
      ]
    },
    {
      "metadata": {
        "id": "KQbNPcQhXz_2",
        "colab_type": "code",
        "outputId": "937cb44d-6e7d-4e0e-bee1-b28dce025a3e",
        "colab": {
          "base_uri": "https://localhost:8080/",
          "height": 173
        }
      },
      "cell_type": "code",
      "source": [
        "corr_2_cols('MARRIAGE', 'SEX')"
      ],
      "execution_count": 53,
      "outputs": [
        {
          "output_type": "execute_result",
          "data": {
            "text/html": [
              "<div>\n",
              "<style scoped>\n",
              "    .dataframe tbody tr th:only-of-type {\n",
              "        vertical-align: middle;\n",
              "    }\n",
              "\n",
              "    .dataframe tbody tr th {\n",
              "        vertical-align: top;\n",
              "    }\n",
              "\n",
              "    .dataframe thead th {\n",
              "        text-align: right;\n",
              "    }\n",
              "</style>\n",
              "<table border=\"1\" class=\"dataframe\">\n",
              "  <thead>\n",
              "    <tr style=\"text-align: right;\">\n",
              "      <th>SEX</th>\n",
              "      <th>1</th>\n",
              "      <th>2</th>\n",
              "      <th>perc</th>\n",
              "    </tr>\n",
              "    <tr>\n",
              "      <th>MARRIAGE</th>\n",
              "      <th></th>\n",
              "      <th></th>\n",
              "      <th></th>\n",
              "    </tr>\n",
              "  </thead>\n",
              "  <tbody>\n",
              "    <tr>\n",
              "      <th>1</th>\n",
              "      <td>5190</td>\n",
              "      <td>8469</td>\n",
              "      <td>0.620031</td>\n",
              "    </tr>\n",
              "    <tr>\n",
              "      <th>2</th>\n",
              "      <td>6553</td>\n",
              "      <td>9411</td>\n",
              "      <td>0.589514</td>\n",
              "    </tr>\n",
              "    <tr>\n",
              "      <th>3</th>\n",
              "      <td>145</td>\n",
              "      <td>232</td>\n",
              "      <td>0.615385</td>\n",
              "    </tr>\n",
              "  </tbody>\n",
              "</table>\n",
              "</div>"
            ],
            "text/plain": [
              "SEX          1     2      perc\n",
              "MARRIAGE                      \n",
              "1         5190  8469  0.620031\n",
              "2         6553  9411  0.589514\n",
              "3          145   232  0.615385"
            ]
          },
          "metadata": {
            "tags": []
          },
          "execution_count": 53
        }
      ]
    },
    {
      "metadata": {
        "id": "-lGPcOCYXYNJ",
        "colab_type": "code",
        "outputId": "9415e7f0-8ac7-4139-ce93-dd0dd863c68f",
        "colab": {
          "base_uri": "https://localhost:8080/",
          "height": 204
        }
      },
      "cell_type": "code",
      "source": [
        "corr_2_cols('EDUCATION', 'SEX')"
      ],
      "execution_count": 54,
      "outputs": [
        {
          "output_type": "execute_result",
          "data": {
            "text/html": [
              "<div>\n",
              "<style scoped>\n",
              "    .dataframe tbody tr th:only-of-type {\n",
              "        vertical-align: middle;\n",
              "    }\n",
              "\n",
              "    .dataframe tbody tr th {\n",
              "        vertical-align: top;\n",
              "    }\n",
              "\n",
              "    .dataframe thead th {\n",
              "        text-align: right;\n",
              "    }\n",
              "</style>\n",
              "<table border=\"1\" class=\"dataframe\">\n",
              "  <thead>\n",
              "    <tr style=\"text-align: right;\">\n",
              "      <th>SEX</th>\n",
              "      <th>1</th>\n",
              "      <th>2</th>\n",
              "      <th>perc</th>\n",
              "    </tr>\n",
              "    <tr>\n",
              "      <th>EDUCATION</th>\n",
              "      <th></th>\n",
              "      <th></th>\n",
              "      <th></th>\n",
              "    </tr>\n",
              "  </thead>\n",
              "  <tbody>\n",
              "    <tr>\n",
              "      <th>1</th>\n",
              "      <td>4354</td>\n",
              "      <td>6231</td>\n",
              "      <td>0.588663</td>\n",
              "    </tr>\n",
              "    <tr>\n",
              "      <th>2</th>\n",
              "      <td>5374</td>\n",
              "      <td>8656</td>\n",
              "      <td>0.616964</td>\n",
              "    </tr>\n",
              "    <tr>\n",
              "      <th>3</th>\n",
              "      <td>1990</td>\n",
              "      <td>2927</td>\n",
              "      <td>0.595282</td>\n",
              "    </tr>\n",
              "    <tr>\n",
              "      <th>4</th>\n",
              "      <td>170</td>\n",
              "      <td>298</td>\n",
              "      <td>0.636752</td>\n",
              "    </tr>\n",
              "  </tbody>\n",
              "</table>\n",
              "</div>"
            ],
            "text/plain": [
              "SEX           1     2      perc\n",
              "EDUCATION                      \n",
              "1          4354  6231  0.588663\n",
              "2          5374  8656  0.616964\n",
              "3          1990  2927  0.595282\n",
              "4           170   298  0.636752"
            ]
          },
          "metadata": {
            "tags": []
          },
          "execution_count": 54
        }
      ]
    },
    {
      "metadata": {
        "id": "bMXa_o3bZHKI",
        "colab_type": "text"
      },
      "cell_type": "markdown",
      "source": [
        "now I want to see if my suspects on the payments and the bills have some foundation"
      ]
    },
    {
      "metadata": {
        "id": "OyS5K7mAYrIU",
        "colab_type": "code",
        "outputId": "28939fc8-0f44-47f4-dda4-e20e1cbcd671",
        "colab": {
          "base_uri": "https://localhost:8080/",
          "height": 999
        }
      },
      "cell_type": "code",
      "source": [
        "df[['PAY_AMT6', 'BILL_AMT6', 'PAY_AMT5', \n",
        "     'BILL_AMT5', 'PAY_AMT4', 'BILL_AMT4', 'PAY_AMT3', 'BILL_AMT3', \n",
        "     'PAY_AMT2', 'BILL_AMT2',\n",
        "     'PAY_AMT1', 'BILL_AMT1',\n",
        "     'LIMIT_BAL', 'def_pay']].sample(30)"
      ],
      "execution_count": 55,
      "outputs": [
        {
          "output_type": "execute_result",
          "data": {
            "text/html": [
              "<div>\n",
              "<style scoped>\n",
              "    .dataframe tbody tr th:only-of-type {\n",
              "        vertical-align: middle;\n",
              "    }\n",
              "\n",
              "    .dataframe tbody tr th {\n",
              "        vertical-align: top;\n",
              "    }\n",
              "\n",
              "    .dataframe thead th {\n",
              "        text-align: right;\n",
              "    }\n",
              "</style>\n",
              "<table border=\"1\" class=\"dataframe\">\n",
              "  <thead>\n",
              "    <tr style=\"text-align: right;\">\n",
              "      <th></th>\n",
              "      <th>PAY_AMT6</th>\n",
              "      <th>BILL_AMT6</th>\n",
              "      <th>PAY_AMT5</th>\n",
              "      <th>BILL_AMT5</th>\n",
              "      <th>PAY_AMT4</th>\n",
              "      <th>BILL_AMT4</th>\n",
              "      <th>PAY_AMT3</th>\n",
              "      <th>BILL_AMT3</th>\n",
              "      <th>PAY_AMT2</th>\n",
              "      <th>BILL_AMT2</th>\n",
              "      <th>PAY_AMT1</th>\n",
              "      <th>BILL_AMT1</th>\n",
              "      <th>LIMIT_BAL</th>\n",
              "      <th>def_pay</th>\n",
              "    </tr>\n",
              "  </thead>\n",
              "  <tbody>\n",
              "    <tr>\n",
              "      <th>11292</th>\n",
              "      <td>0.0</td>\n",
              "      <td>0.0</td>\n",
              "      <td>0.0</td>\n",
              "      <td>0.0</td>\n",
              "      <td>0.0</td>\n",
              "      <td>1460.0</td>\n",
              "      <td>0.0</td>\n",
              "      <td>1460.0</td>\n",
              "      <td>1460.0</td>\n",
              "      <td>177.0</td>\n",
              "      <td>177.0</td>\n",
              "      <td>0.0</td>\n",
              "      <td>140000.0</td>\n",
              "      <td>1</td>\n",
              "    </tr>\n",
              "    <tr>\n",
              "      <th>23952</th>\n",
              "      <td>2000.0</td>\n",
              "      <td>12758.0</td>\n",
              "      <td>3000.0</td>\n",
              "      <td>9928.0</td>\n",
              "      <td>15460.0</td>\n",
              "      <td>19565.0</td>\n",
              "      <td>1203.0</td>\n",
              "      <td>20365.0</td>\n",
              "      <td>1378.0</td>\n",
              "      <td>20240.0</td>\n",
              "      <td>4.0</td>\n",
              "      <td>20873.0</td>\n",
              "      <td>20000.0</td>\n",
              "      <td>1</td>\n",
              "    </tr>\n",
              "    <tr>\n",
              "      <th>6920</th>\n",
              "      <td>0.0</td>\n",
              "      <td>2712.0</td>\n",
              "      <td>2712.0</td>\n",
              "      <td>0.0</td>\n",
              "      <td>0.0</td>\n",
              "      <td>0.0</td>\n",
              "      <td>0.0</td>\n",
              "      <td>3210.0</td>\n",
              "      <td>3210.0</td>\n",
              "      <td>0.0</td>\n",
              "      <td>0.0</td>\n",
              "      <td>0.0</td>\n",
              "      <td>260000.0</td>\n",
              "      <td>1</td>\n",
              "    </tr>\n",
              "    <tr>\n",
              "      <th>1623</th>\n",
              "      <td>200.0</td>\n",
              "      <td>19950.0</td>\n",
              "      <td>19950.0</td>\n",
              "      <td>25784.0</td>\n",
              "      <td>25784.0</td>\n",
              "      <td>12654.0</td>\n",
              "      <td>12654.0</td>\n",
              "      <td>10719.0</td>\n",
              "      <td>10725.0</td>\n",
              "      <td>2074.0</td>\n",
              "      <td>2081.0</td>\n",
              "      <td>2104.0</td>\n",
              "      <td>170000.0</td>\n",
              "      <td>0</td>\n",
              "    </tr>\n",
              "    <tr>\n",
              "      <th>27925</th>\n",
              "      <td>0.0</td>\n",
              "      <td>0.0</td>\n",
              "      <td>0.0</td>\n",
              "      <td>0.0</td>\n",
              "      <td>0.0</td>\n",
              "      <td>0.0</td>\n",
              "      <td>0.0</td>\n",
              "      <td>0.0</td>\n",
              "      <td>0.0</td>\n",
              "      <td>0.0</td>\n",
              "      <td>0.0</td>\n",
              "      <td>2500.0</td>\n",
              "      <td>360000.0</td>\n",
              "      <td>0</td>\n",
              "    </tr>\n",
              "    <tr>\n",
              "      <th>4523</th>\n",
              "      <td>5723.0</td>\n",
              "      <td>1416.0</td>\n",
              "      <td>1416.0</td>\n",
              "      <td>1416.0</td>\n",
              "      <td>1416.0</td>\n",
              "      <td>1416.0</td>\n",
              "      <td>1416.0</td>\n",
              "      <td>1416.0</td>\n",
              "      <td>1416.0</td>\n",
              "      <td>1110.0</td>\n",
              "      <td>1110.0</td>\n",
              "      <td>1110.0</td>\n",
              "      <td>500000.0</td>\n",
              "      <td>0</td>\n",
              "    </tr>\n",
              "    <tr>\n",
              "      <th>8543</th>\n",
              "      <td>0.0</td>\n",
              "      <td>39360.0</td>\n",
              "      <td>4632.0</td>\n",
              "      <td>35711.0</td>\n",
              "      <td>1280.0</td>\n",
              "      <td>35970.0</td>\n",
              "      <td>22703.0</td>\n",
              "      <td>34605.0</td>\n",
              "      <td>1600.0</td>\n",
              "      <td>33885.0</td>\n",
              "      <td>1880.0</td>\n",
              "      <td>34203.0</td>\n",
              "      <td>40000.0</td>\n",
              "      <td>0</td>\n",
              "    </tr>\n",
              "    <tr>\n",
              "      <th>20121</th>\n",
              "      <td>4789.0</td>\n",
              "      <td>135383.0</td>\n",
              "      <td>8008.0</td>\n",
              "      <td>129441.0</td>\n",
              "      <td>50000.0</td>\n",
              "      <td>181156.0</td>\n",
              "      <td>6500.0</td>\n",
              "      <td>186698.0</td>\n",
              "      <td>8638.0</td>\n",
              "      <td>185099.0</td>\n",
              "      <td>10024.0</td>\n",
              "      <td>185129.0</td>\n",
              "      <td>230000.0</td>\n",
              "      <td>0</td>\n",
              "    </tr>\n",
              "    <tr>\n",
              "      <th>29258</th>\n",
              "      <td>1925.0</td>\n",
              "      <td>52174.0</td>\n",
              "      <td>0.0</td>\n",
              "      <td>53153.0</td>\n",
              "      <td>7042.0</td>\n",
              "      <td>46918.0</td>\n",
              "      <td>1807.0</td>\n",
              "      <td>45870.0</td>\n",
              "      <td>20000.0</td>\n",
              "      <td>26351.0</td>\n",
              "      <td>0.0</td>\n",
              "      <td>32536.0</td>\n",
              "      <td>70000.0</td>\n",
              "      <td>0</td>\n",
              "    </tr>\n",
              "    <tr>\n",
              "      <th>21707</th>\n",
              "      <td>480.0</td>\n",
              "      <td>9182.0</td>\n",
              "      <td>479.0</td>\n",
              "      <td>8996.0</td>\n",
              "      <td>467.0</td>\n",
              "      <td>8824.0</td>\n",
              "      <td>1295.0</td>\n",
              "      <td>7820.0</td>\n",
              "      <td>0.0</td>\n",
              "      <td>8092.0</td>\n",
              "      <td>1291.0</td>\n",
              "      <td>7067.0</td>\n",
              "      <td>10000.0</td>\n",
              "      <td>1</td>\n",
              "    </tr>\n",
              "    <tr>\n",
              "      <th>29104</th>\n",
              "      <td>4500.0</td>\n",
              "      <td>138447.0</td>\n",
              "      <td>4000.0</td>\n",
              "      <td>152404.0</td>\n",
              "      <td>4800.0</td>\n",
              "      <td>169140.0</td>\n",
              "      <td>5700.0</td>\n",
              "      <td>169622.0</td>\n",
              "      <td>6323.0</td>\n",
              "      <td>254498.0</td>\n",
              "      <td>9700.0</td>\n",
              "      <td>293717.0</td>\n",
              "      <td>440000.0</td>\n",
              "      <td>0</td>\n",
              "    </tr>\n",
              "    <tr>\n",
              "      <th>15254</th>\n",
              "      <td>6240.0</td>\n",
              "      <td>167161.0</td>\n",
              "      <td>6506.0</td>\n",
              "      <td>185282.0</td>\n",
              "      <td>7106.0</td>\n",
              "      <td>206666.0</td>\n",
              "      <td>9241.0</td>\n",
              "      <td>220219.0</td>\n",
              "      <td>7893.0</td>\n",
              "      <td>222109.0</td>\n",
              "      <td>9553.0</td>\n",
              "      <td>217735.0</td>\n",
              "      <td>260000.0</td>\n",
              "      <td>0</td>\n",
              "    </tr>\n",
              "    <tr>\n",
              "      <th>6777</th>\n",
              "      <td>0.0</td>\n",
              "      <td>0.0</td>\n",
              "      <td>0.0</td>\n",
              "      <td>0.0</td>\n",
              "      <td>0.0</td>\n",
              "      <td>0.0</td>\n",
              "      <td>0.0</td>\n",
              "      <td>0.0</td>\n",
              "      <td>0.0</td>\n",
              "      <td>0.0</td>\n",
              "      <td>0.0</td>\n",
              "      <td>0.0</td>\n",
              "      <td>120000.0</td>\n",
              "      <td>0</td>\n",
              "    </tr>\n",
              "    <tr>\n",
              "      <th>10451</th>\n",
              "      <td>23799.0</td>\n",
              "      <td>-1000.0</td>\n",
              "      <td>0.0</td>\n",
              "      <td>15288.0</td>\n",
              "      <td>1048.0</td>\n",
              "      <td>14240.0</td>\n",
              "      <td>3000.0</td>\n",
              "      <td>12438.0</td>\n",
              "      <td>1202.0</td>\n",
              "      <td>11757.0</td>\n",
              "      <td>2500.0</td>\n",
              "      <td>9489.0</td>\n",
              "      <td>150000.0</td>\n",
              "      <td>0</td>\n",
              "    </tr>\n",
              "    <tr>\n",
              "      <th>6549</th>\n",
              "      <td>1000.0</td>\n",
              "      <td>12065.0</td>\n",
              "      <td>2500.0</td>\n",
              "      <td>9565.0</td>\n",
              "      <td>1000.0</td>\n",
              "      <td>8565.0</td>\n",
              "      <td>1000.0</td>\n",
              "      <td>7853.0</td>\n",
              "      <td>1288.0</td>\n",
              "      <td>6841.0</td>\n",
              "      <td>1276.0</td>\n",
              "      <td>5565.0</td>\n",
              "      <td>20000.0</td>\n",
              "      <td>0</td>\n",
              "    </tr>\n",
              "    <tr>\n",
              "      <th>2443</th>\n",
              "      <td>3000.0</td>\n",
              "      <td>30383.0</td>\n",
              "      <td>2000.0</td>\n",
              "      <td>29068.0</td>\n",
              "      <td>2000.0</td>\n",
              "      <td>28410.0</td>\n",
              "      <td>2000.0</td>\n",
              "      <td>30653.0</td>\n",
              "      <td>2000.0</td>\n",
              "      <td>29849.0</td>\n",
              "      <td>10.0</td>\n",
              "      <td>30607.0</td>\n",
              "      <td>30000.0</td>\n",
              "      <td>0</td>\n",
              "    </tr>\n",
              "    <tr>\n",
              "      <th>5576</th>\n",
              "      <td>0.0</td>\n",
              "      <td>0.0</td>\n",
              "      <td>0.0</td>\n",
              "      <td>0.0</td>\n",
              "      <td>0.0</td>\n",
              "      <td>0.0</td>\n",
              "      <td>0.0</td>\n",
              "      <td>0.0</td>\n",
              "      <td>0.0</td>\n",
              "      <td>0.0</td>\n",
              "      <td>0.0</td>\n",
              "      <td>3627.0</td>\n",
              "      <td>150000.0</td>\n",
              "      <td>1</td>\n",
              "    </tr>\n",
              "    <tr>\n",
              "      <th>29633</th>\n",
              "      <td>6411.0</td>\n",
              "      <td>6251.0</td>\n",
              "      <td>6269.0</td>\n",
              "      <td>8549.0</td>\n",
              "      <td>8574.0</td>\n",
              "      <td>6202.0</td>\n",
              "      <td>6228.0</td>\n",
              "      <td>7973.0</td>\n",
              "      <td>23.0</td>\n",
              "      <td>20516.0</td>\n",
              "      <td>20710.0</td>\n",
              "      <td>5433.0</td>\n",
              "      <td>200000.0</td>\n",
              "      <td>0</td>\n",
              "    </tr>\n",
              "    <tr>\n",
              "      <th>23331</th>\n",
              "      <td>5000.0</td>\n",
              "      <td>149626.0</td>\n",
              "      <td>5076.0</td>\n",
              "      <td>159393.0</td>\n",
              "      <td>6046.0</td>\n",
              "      <td>217920.0</td>\n",
              "      <td>10294.0</td>\n",
              "      <td>220047.0</td>\n",
              "      <td>10025.0</td>\n",
              "      <td>214460.0</td>\n",
              "      <td>10004.0</td>\n",
              "      <td>215508.0</td>\n",
              "      <td>500000.0</td>\n",
              "      <td>0</td>\n",
              "    </tr>\n",
              "    <tr>\n",
              "      <th>8618</th>\n",
              "      <td>1876.0</td>\n",
              "      <td>4634.0</td>\n",
              "      <td>4634.0</td>\n",
              "      <td>1876.0</td>\n",
              "      <td>1876.0</td>\n",
              "      <td>2848.0</td>\n",
              "      <td>2848.0</td>\n",
              "      <td>1876.0</td>\n",
              "      <td>1876.0</td>\n",
              "      <td>1876.0</td>\n",
              "      <td>1876.0</td>\n",
              "      <td>1876.0</td>\n",
              "      <td>230000.0</td>\n",
              "      <td>0</td>\n",
              "    </tr>\n",
              "    <tr>\n",
              "      <th>22134</th>\n",
              "      <td>2800.0</td>\n",
              "      <td>71297.0</td>\n",
              "      <td>2800.0</td>\n",
              "      <td>69776.0</td>\n",
              "      <td>2700.0</td>\n",
              "      <td>68820.0</td>\n",
              "      <td>3100.0</td>\n",
              "      <td>66825.0</td>\n",
              "      <td>2500.0</td>\n",
              "      <td>65984.0</td>\n",
              "      <td>3000.0</td>\n",
              "      <td>64049.0</td>\n",
              "      <td>120000.0</td>\n",
              "      <td>0</td>\n",
              "    </tr>\n",
              "    <tr>\n",
              "      <th>25490</th>\n",
              "      <td>722.0</td>\n",
              "      <td>20293.0</td>\n",
              "      <td>717.0</td>\n",
              "      <td>20281.0</td>\n",
              "      <td>710.0</td>\n",
              "      <td>20178.0</td>\n",
              "      <td>1610.0</td>\n",
              "      <td>19202.0</td>\n",
              "      <td>1634.0</td>\n",
              "      <td>18167.0</td>\n",
              "      <td>0.0</td>\n",
              "      <td>18761.0</td>\n",
              "      <td>20000.0</td>\n",
              "      <td>0</td>\n",
              "    </tr>\n",
              "    <tr>\n",
              "      <th>18469</th>\n",
              "      <td>0.0</td>\n",
              "      <td>0.0</td>\n",
              "      <td>0.0</td>\n",
              "      <td>0.0</td>\n",
              "      <td>0.0</td>\n",
              "      <td>0.0</td>\n",
              "      <td>0.0</td>\n",
              "      <td>93600.0</td>\n",
              "      <td>1872.0</td>\n",
              "      <td>107979.0</td>\n",
              "      <td>4988.0</td>\n",
              "      <td>104804.0</td>\n",
              "      <td>110000.0</td>\n",
              "      <td>0</td>\n",
              "    </tr>\n",
              "    <tr>\n",
              "      <th>16785</th>\n",
              "      <td>1903.0</td>\n",
              "      <td>47369.0</td>\n",
              "      <td>2000.0</td>\n",
              "      <td>46564.0</td>\n",
              "      <td>4000.0</td>\n",
              "      <td>43588.0</td>\n",
              "      <td>1708.0</td>\n",
              "      <td>43222.0</td>\n",
              "      <td>0.0</td>\n",
              "      <td>44522.0</td>\n",
              "      <td>2100.0</td>\n",
              "      <td>43434.0</td>\n",
              "      <td>60000.0</td>\n",
              "      <td>1</td>\n",
              "    </tr>\n",
              "    <tr>\n",
              "      <th>281</th>\n",
              "      <td>31031.0</td>\n",
              "      <td>43414.0</td>\n",
              "      <td>43509.0</td>\n",
              "      <td>44149.0</td>\n",
              "      <td>44299.0</td>\n",
              "      <td>69669.0</td>\n",
              "      <td>10150.0</td>\n",
              "      <td>92630.0</td>\n",
              "      <td>5162.0</td>\n",
              "      <td>109189.0</td>\n",
              "      <td>10063.0</td>\n",
              "      <td>127543.0</td>\n",
              "      <td>270000.0</td>\n",
              "      <td>0</td>\n",
              "    </tr>\n",
              "    <tr>\n",
              "      <th>9145</th>\n",
              "      <td>3003.0</td>\n",
              "      <td>61423.0</td>\n",
              "      <td>2207.0</td>\n",
              "      <td>60916.0</td>\n",
              "      <td>2200.0</td>\n",
              "      <td>59666.0</td>\n",
              "      <td>2200.0</td>\n",
              "      <td>69584.0</td>\n",
              "      <td>2800.0</td>\n",
              "      <td>69876.0</td>\n",
              "      <td>2745.0</td>\n",
              "      <td>70204.0</td>\n",
              "      <td>110000.0</td>\n",
              "      <td>0</td>\n",
              "    </tr>\n",
              "    <tr>\n",
              "      <th>5534</th>\n",
              "      <td>0.0</td>\n",
              "      <td>0.0</td>\n",
              "      <td>0.0</td>\n",
              "      <td>0.0</td>\n",
              "      <td>0.0</td>\n",
              "      <td>0.0</td>\n",
              "      <td>0.0</td>\n",
              "      <td>0.0</td>\n",
              "      <td>0.0</td>\n",
              "      <td>2524.0</td>\n",
              "      <td>2500.0</td>\n",
              "      <td>1972.0</td>\n",
              "      <td>50000.0</td>\n",
              "      <td>1</td>\n",
              "    </tr>\n",
              "    <tr>\n",
              "      <th>23863</th>\n",
              "      <td>0.0</td>\n",
              "      <td>24849.0</td>\n",
              "      <td>1896.0</td>\n",
              "      <td>23332.0</td>\n",
              "      <td>0.0</td>\n",
              "      <td>24016.0</td>\n",
              "      <td>1000.0</td>\n",
              "      <td>23700.0</td>\n",
              "      <td>1600.0</td>\n",
              "      <td>22771.0</td>\n",
              "      <td>1600.0</td>\n",
              "      <td>21839.0</td>\n",
              "      <td>50000.0</td>\n",
              "      <td>1</td>\n",
              "    </tr>\n",
              "    <tr>\n",
              "      <th>3296</th>\n",
              "      <td>0.0</td>\n",
              "      <td>0.0</td>\n",
              "      <td>0.0</td>\n",
              "      <td>4890.0</td>\n",
              "      <td>98.0</td>\n",
              "      <td>8007.0</td>\n",
              "      <td>160.0</td>\n",
              "      <td>19347.0</td>\n",
              "      <td>1005.0</td>\n",
              "      <td>18798.0</td>\n",
              "      <td>1456.0</td>\n",
              "      <td>17938.0</td>\n",
              "      <td>20000.0</td>\n",
              "      <td>0</td>\n",
              "    </tr>\n",
              "    <tr>\n",
              "      <th>4230</th>\n",
              "      <td>1292.0</td>\n",
              "      <td>-6.0</td>\n",
              "      <td>0.0</td>\n",
              "      <td>494.0</td>\n",
              "      <td>496.0</td>\n",
              "      <td>-2.0</td>\n",
              "      <td>0.0</td>\n",
              "      <td>798.0</td>\n",
              "      <td>802.0</td>\n",
              "      <td>-4.0</td>\n",
              "      <td>0.0</td>\n",
              "      <td>-4.0</td>\n",
              "      <td>290000.0</td>\n",
              "      <td>0</td>\n",
              "    </tr>\n",
              "  </tbody>\n",
              "</table>\n",
              "</div>"
            ],
            "text/plain": [
              "       PAY_AMT6  BILL_AMT6  PAY_AMT5  BILL_AMT5  PAY_AMT4  BILL_AMT4  \\\n",
              "11292       0.0        0.0       0.0        0.0       0.0     1460.0   \n",
              "23952    2000.0    12758.0    3000.0     9928.0   15460.0    19565.0   \n",
              "6920        0.0     2712.0    2712.0        0.0       0.0        0.0   \n",
              "1623      200.0    19950.0   19950.0    25784.0   25784.0    12654.0   \n",
              "27925       0.0        0.0       0.0        0.0       0.0        0.0   \n",
              "4523     5723.0     1416.0    1416.0     1416.0    1416.0     1416.0   \n",
              "8543        0.0    39360.0    4632.0    35711.0    1280.0    35970.0   \n",
              "20121    4789.0   135383.0    8008.0   129441.0   50000.0   181156.0   \n",
              "29258    1925.0    52174.0       0.0    53153.0    7042.0    46918.0   \n",
              "21707     480.0     9182.0     479.0     8996.0     467.0     8824.0   \n",
              "29104    4500.0   138447.0    4000.0   152404.0    4800.0   169140.0   \n",
              "15254    6240.0   167161.0    6506.0   185282.0    7106.0   206666.0   \n",
              "6777        0.0        0.0       0.0        0.0       0.0        0.0   \n",
              "10451   23799.0    -1000.0       0.0    15288.0    1048.0    14240.0   \n",
              "6549     1000.0    12065.0    2500.0     9565.0    1000.0     8565.0   \n",
              "2443     3000.0    30383.0    2000.0    29068.0    2000.0    28410.0   \n",
              "5576        0.0        0.0       0.0        0.0       0.0        0.0   \n",
              "29633    6411.0     6251.0    6269.0     8549.0    8574.0     6202.0   \n",
              "23331    5000.0   149626.0    5076.0   159393.0    6046.0   217920.0   \n",
              "8618     1876.0     4634.0    4634.0     1876.0    1876.0     2848.0   \n",
              "22134    2800.0    71297.0    2800.0    69776.0    2700.0    68820.0   \n",
              "25490     722.0    20293.0     717.0    20281.0     710.0    20178.0   \n",
              "18469       0.0        0.0       0.0        0.0       0.0        0.0   \n",
              "16785    1903.0    47369.0    2000.0    46564.0    4000.0    43588.0   \n",
              "281     31031.0    43414.0   43509.0    44149.0   44299.0    69669.0   \n",
              "9145     3003.0    61423.0    2207.0    60916.0    2200.0    59666.0   \n",
              "5534        0.0        0.0       0.0        0.0       0.0        0.0   \n",
              "23863       0.0    24849.0    1896.0    23332.0       0.0    24016.0   \n",
              "3296        0.0        0.0       0.0     4890.0      98.0     8007.0   \n",
              "4230     1292.0       -6.0       0.0      494.0     496.0       -2.0   \n",
              "\n",
              "       PAY_AMT3  BILL_AMT3  PAY_AMT2  BILL_AMT2  PAY_AMT1  BILL_AMT1  \\\n",
              "11292       0.0     1460.0    1460.0      177.0     177.0        0.0   \n",
              "23952    1203.0    20365.0    1378.0    20240.0       4.0    20873.0   \n",
              "6920        0.0     3210.0    3210.0        0.0       0.0        0.0   \n",
              "1623    12654.0    10719.0   10725.0     2074.0    2081.0     2104.0   \n",
              "27925       0.0        0.0       0.0        0.0       0.0     2500.0   \n",
              "4523     1416.0     1416.0    1416.0     1110.0    1110.0     1110.0   \n",
              "8543    22703.0    34605.0    1600.0    33885.0    1880.0    34203.0   \n",
              "20121    6500.0   186698.0    8638.0   185099.0   10024.0   185129.0   \n",
              "29258    1807.0    45870.0   20000.0    26351.0       0.0    32536.0   \n",
              "21707    1295.0     7820.0       0.0     8092.0    1291.0     7067.0   \n",
              "29104    5700.0   169622.0    6323.0   254498.0    9700.0   293717.0   \n",
              "15254    9241.0   220219.0    7893.0   222109.0    9553.0   217735.0   \n",
              "6777        0.0        0.0       0.0        0.0       0.0        0.0   \n",
              "10451    3000.0    12438.0    1202.0    11757.0    2500.0     9489.0   \n",
              "6549     1000.0     7853.0    1288.0     6841.0    1276.0     5565.0   \n",
              "2443     2000.0    30653.0    2000.0    29849.0      10.0    30607.0   \n",
              "5576        0.0        0.0       0.0        0.0       0.0     3627.0   \n",
              "29633    6228.0     7973.0      23.0    20516.0   20710.0     5433.0   \n",
              "23331   10294.0   220047.0   10025.0   214460.0   10004.0   215508.0   \n",
              "8618     2848.0     1876.0    1876.0     1876.0    1876.0     1876.0   \n",
              "22134    3100.0    66825.0    2500.0    65984.0    3000.0    64049.0   \n",
              "25490    1610.0    19202.0    1634.0    18167.0       0.0    18761.0   \n",
              "18469       0.0    93600.0    1872.0   107979.0    4988.0   104804.0   \n",
              "16785    1708.0    43222.0       0.0    44522.0    2100.0    43434.0   \n",
              "281     10150.0    92630.0    5162.0   109189.0   10063.0   127543.0   \n",
              "9145     2200.0    69584.0    2800.0    69876.0    2745.0    70204.0   \n",
              "5534        0.0        0.0       0.0     2524.0    2500.0     1972.0   \n",
              "23863    1000.0    23700.0    1600.0    22771.0    1600.0    21839.0   \n",
              "3296      160.0    19347.0    1005.0    18798.0    1456.0    17938.0   \n",
              "4230        0.0      798.0     802.0       -4.0       0.0       -4.0   \n",
              "\n",
              "       LIMIT_BAL  def_pay  \n",
              "11292   140000.0        1  \n",
              "23952    20000.0        1  \n",
              "6920    260000.0        1  \n",
              "1623    170000.0        0  \n",
              "27925   360000.0        0  \n",
              "4523    500000.0        0  \n",
              "8543     40000.0        0  \n",
              "20121   230000.0        0  \n",
              "29258    70000.0        0  \n",
              "21707    10000.0        1  \n",
              "29104   440000.0        0  \n",
              "15254   260000.0        0  \n",
              "6777    120000.0        0  \n",
              "10451   150000.0        0  \n",
              "6549     20000.0        0  \n",
              "2443     30000.0        0  \n",
              "5576    150000.0        1  \n",
              "29633   200000.0        0  \n",
              "23331   500000.0        0  \n",
              "8618    230000.0        0  \n",
              "22134   120000.0        0  \n",
              "25490    20000.0        0  \n",
              "18469   110000.0        0  \n",
              "16785    60000.0        1  \n",
              "281     270000.0        0  \n",
              "9145    110000.0        0  \n",
              "5534     50000.0        1  \n",
              "23863    50000.0        1  \n",
              "3296     20000.0        0  \n",
              "4230    290000.0        0  "
            ]
          },
          "metadata": {
            "tags": []
          },
          "execution_count": 55
        }
      ]
    },
    {
      "metadata": {
        "id": "KFgkz2CSZEhv",
        "colab_type": "code",
        "outputId": "b7f92a2d-2016-475c-e54c-602c8ba3d904",
        "colab": {
          "base_uri": "https://localhost:8080/",
          "height": 979
        }
      },
      "cell_type": "code",
      "source": [
        "df[df.def_pay == 1][['BILL_AMT2',\n",
        "     'PAY_AMT1', 'BILL_AMT1', 'PAY_1',\n",
        "     'LIMIT_BAL']].sample(30)"
      ],
      "execution_count": 56,
      "outputs": [
        {
          "output_type": "execute_result",
          "data": {
            "text/html": [
              "<div>\n",
              "<style scoped>\n",
              "    .dataframe tbody tr th:only-of-type {\n",
              "        vertical-align: middle;\n",
              "    }\n",
              "\n",
              "    .dataframe tbody tr th {\n",
              "        vertical-align: top;\n",
              "    }\n",
              "\n",
              "    .dataframe thead th {\n",
              "        text-align: right;\n",
              "    }\n",
              "</style>\n",
              "<table border=\"1\" class=\"dataframe\">\n",
              "  <thead>\n",
              "    <tr style=\"text-align: right;\">\n",
              "      <th></th>\n",
              "      <th>BILL_AMT2</th>\n",
              "      <th>PAY_AMT1</th>\n",
              "      <th>BILL_AMT1</th>\n",
              "      <th>PAY_1</th>\n",
              "      <th>LIMIT_BAL</th>\n",
              "    </tr>\n",
              "  </thead>\n",
              "  <tbody>\n",
              "    <tr>\n",
              "      <th>3503</th>\n",
              "      <td>34105.0</td>\n",
              "      <td>29000.0</td>\n",
              "      <td>5310.0</td>\n",
              "      <td>0</td>\n",
              "      <td>50000.0</td>\n",
              "    </tr>\n",
              "    <tr>\n",
              "      <th>9252</th>\n",
              "      <td>2855.0</td>\n",
              "      <td>2855.0</td>\n",
              "      <td>8069.0</td>\n",
              "      <td>0</td>\n",
              "      <td>170000.0</td>\n",
              "    </tr>\n",
              "    <tr>\n",
              "      <th>13555</th>\n",
              "      <td>61742.0</td>\n",
              "      <td>3000.0</td>\n",
              "      <td>79453.0</td>\n",
              "      <td>0</td>\n",
              "      <td>210000.0</td>\n",
              "    </tr>\n",
              "    <tr>\n",
              "      <th>23465</th>\n",
              "      <td>28718.0</td>\n",
              "      <td>1.0</td>\n",
              "      <td>29498.0</td>\n",
              "      <td>2</td>\n",
              "      <td>30000.0</td>\n",
              "    </tr>\n",
              "    <tr>\n",
              "      <th>10139</th>\n",
              "      <td>31472.0</td>\n",
              "      <td>2000.0</td>\n",
              "      <td>36406.0</td>\n",
              "      <td>0</td>\n",
              "      <td>80000.0</td>\n",
              "    </tr>\n",
              "    <tr>\n",
              "      <th>121</th>\n",
              "      <td>0.0</td>\n",
              "      <td>0.0</td>\n",
              "      <td>0.0</td>\n",
              "      <td>1</td>\n",
              "      <td>450000.0</td>\n",
              "    </tr>\n",
              "    <tr>\n",
              "      <th>4187</th>\n",
              "      <td>50428.0</td>\n",
              "      <td>2200.0</td>\n",
              "      <td>50764.0</td>\n",
              "      <td>0</td>\n",
              "      <td>50000.0</td>\n",
              "    </tr>\n",
              "    <tr>\n",
              "      <th>16438</th>\n",
              "      <td>3147.0</td>\n",
              "      <td>3147.0</td>\n",
              "      <td>8280.0</td>\n",
              "      <td>0</td>\n",
              "      <td>140000.0</td>\n",
              "    </tr>\n",
              "    <tr>\n",
              "      <th>17891</th>\n",
              "      <td>45103.0</td>\n",
              "      <td>2600.0</td>\n",
              "      <td>43531.0</td>\n",
              "      <td>2</td>\n",
              "      <td>100000.0</td>\n",
              "    </tr>\n",
              "    <tr>\n",
              "      <th>13674</th>\n",
              "      <td>13808.0</td>\n",
              "      <td>0.0</td>\n",
              "      <td>14320.0</td>\n",
              "      <td>1</td>\n",
              "      <td>30000.0</td>\n",
              "    </tr>\n",
              "    <tr>\n",
              "      <th>12779</th>\n",
              "      <td>0.0</td>\n",
              "      <td>0.0</td>\n",
              "      <td>0.0</td>\n",
              "      <td>1</td>\n",
              "      <td>300000.0</td>\n",
              "    </tr>\n",
              "    <tr>\n",
              "      <th>20828</th>\n",
              "      <td>20089.0</td>\n",
              "      <td>1257.0</td>\n",
              "      <td>19195.0</td>\n",
              "      <td>0</td>\n",
              "      <td>20000.0</td>\n",
              "    </tr>\n",
              "    <tr>\n",
              "      <th>16225</th>\n",
              "      <td>31231.0</td>\n",
              "      <td>2005.0</td>\n",
              "      <td>33436.0</td>\n",
              "      <td>0</td>\n",
              "      <td>50000.0</td>\n",
              "    </tr>\n",
              "    <tr>\n",
              "      <th>13851</th>\n",
              "      <td>27206.0</td>\n",
              "      <td>0.0</td>\n",
              "      <td>27934.0</td>\n",
              "      <td>1</td>\n",
              "      <td>30000.0</td>\n",
              "    </tr>\n",
              "    <tr>\n",
              "      <th>13127</th>\n",
              "      <td>325.0</td>\n",
              "      <td>650.0</td>\n",
              "      <td>0.0</td>\n",
              "      <td>1</td>\n",
              "      <td>100000.0</td>\n",
              "    </tr>\n",
              "    <tr>\n",
              "      <th>25721</th>\n",
              "      <td>5529.0</td>\n",
              "      <td>5575.0</td>\n",
              "      <td>22145.0</td>\n",
              "      <td>0</td>\n",
              "      <td>220000.0</td>\n",
              "    </tr>\n",
              "    <tr>\n",
              "      <th>20388</th>\n",
              "      <td>19403.0</td>\n",
              "      <td>2919.0</td>\n",
              "      <td>16771.0</td>\n",
              "      <td>2</td>\n",
              "      <td>20000.0</td>\n",
              "    </tr>\n",
              "    <tr>\n",
              "      <th>15035</th>\n",
              "      <td>0.0</td>\n",
              "      <td>0.0</td>\n",
              "      <td>0.0</td>\n",
              "      <td>0</td>\n",
              "      <td>200000.0</td>\n",
              "    </tr>\n",
              "    <tr>\n",
              "      <th>3241</th>\n",
              "      <td>92989.0</td>\n",
              "      <td>4000.0</td>\n",
              "      <td>91368.0</td>\n",
              "      <td>2</td>\n",
              "      <td>200000.0</td>\n",
              "    </tr>\n",
              "    <tr>\n",
              "      <th>22021</th>\n",
              "      <td>26896.0</td>\n",
              "      <td>1500.0</td>\n",
              "      <td>26133.0</td>\n",
              "      <td>0</td>\n",
              "      <td>40000.0</td>\n",
              "    </tr>\n",
              "    <tr>\n",
              "      <th>21181</th>\n",
              "      <td>20526.0</td>\n",
              "      <td>1500.0</td>\n",
              "      <td>19649.0</td>\n",
              "      <td>1</td>\n",
              "      <td>50000.0</td>\n",
              "    </tr>\n",
              "    <tr>\n",
              "      <th>5746</th>\n",
              "      <td>78642.0</td>\n",
              "      <td>3000.0</td>\n",
              "      <td>77468.0</td>\n",
              "      <td>2</td>\n",
              "      <td>120000.0</td>\n",
              "    </tr>\n",
              "    <tr>\n",
              "      <th>4517</th>\n",
              "      <td>390.0</td>\n",
              "      <td>390.0</td>\n",
              "      <td>390.0</td>\n",
              "      <td>0</td>\n",
              "      <td>50000.0</td>\n",
              "    </tr>\n",
              "    <tr>\n",
              "      <th>21003</th>\n",
              "      <td>162743.0</td>\n",
              "      <td>7600.0</td>\n",
              "      <td>160106.0</td>\n",
              "      <td>2</td>\n",
              "      <td>200000.0</td>\n",
              "    </tr>\n",
              "    <tr>\n",
              "      <th>24617</th>\n",
              "      <td>107689.0</td>\n",
              "      <td>5500.0</td>\n",
              "      <td>105418.0</td>\n",
              "      <td>1</td>\n",
              "      <td>190000.0</td>\n",
              "    </tr>\n",
              "    <tr>\n",
              "      <th>25876</th>\n",
              "      <td>9283.0</td>\n",
              "      <td>9283.0</td>\n",
              "      <td>31808.0</td>\n",
              "      <td>0</td>\n",
              "      <td>210000.0</td>\n",
              "    </tr>\n",
              "    <tr>\n",
              "      <th>4757</th>\n",
              "      <td>326.0</td>\n",
              "      <td>326.0</td>\n",
              "      <td>326.0</td>\n",
              "      <td>0</td>\n",
              "      <td>210000.0</td>\n",
              "    </tr>\n",
              "    <tr>\n",
              "      <th>14521</th>\n",
              "      <td>1598.0</td>\n",
              "      <td>2000.0</td>\n",
              "      <td>-77.0</td>\n",
              "      <td>1</td>\n",
              "      <td>160000.0</td>\n",
              "    </tr>\n",
              "    <tr>\n",
              "      <th>26582</th>\n",
              "      <td>54218.0</td>\n",
              "      <td>1766.0</td>\n",
              "      <td>99209.0</td>\n",
              "      <td>0</td>\n",
              "      <td>110000.0</td>\n",
              "    </tr>\n",
              "    <tr>\n",
              "      <th>8599</th>\n",
              "      <td>16071.0</td>\n",
              "      <td>0.0</td>\n",
              "      <td>16626.0</td>\n",
              "      <td>1</td>\n",
              "      <td>20000.0</td>\n",
              "    </tr>\n",
              "  </tbody>\n",
              "</table>\n",
              "</div>"
            ],
            "text/plain": [
              "       BILL_AMT2  PAY_AMT1  BILL_AMT1  PAY_1  LIMIT_BAL\n",
              "3503     34105.0   29000.0     5310.0      0    50000.0\n",
              "9252      2855.0    2855.0     8069.0      0   170000.0\n",
              "13555    61742.0    3000.0    79453.0      0   210000.0\n",
              "23465    28718.0       1.0    29498.0      2    30000.0\n",
              "10139    31472.0    2000.0    36406.0      0    80000.0\n",
              "121          0.0       0.0        0.0      1   450000.0\n",
              "4187     50428.0    2200.0    50764.0      0    50000.0\n",
              "16438     3147.0    3147.0     8280.0      0   140000.0\n",
              "17891    45103.0    2600.0    43531.0      2   100000.0\n",
              "13674    13808.0       0.0    14320.0      1    30000.0\n",
              "12779        0.0       0.0        0.0      1   300000.0\n",
              "20828    20089.0    1257.0    19195.0      0    20000.0\n",
              "16225    31231.0    2005.0    33436.0      0    50000.0\n",
              "13851    27206.0       0.0    27934.0      1    30000.0\n",
              "13127      325.0     650.0        0.0      1   100000.0\n",
              "25721     5529.0    5575.0    22145.0      0   220000.0\n",
              "20388    19403.0    2919.0    16771.0      2    20000.0\n",
              "15035        0.0       0.0        0.0      0   200000.0\n",
              "3241     92989.0    4000.0    91368.0      2   200000.0\n",
              "22021    26896.0    1500.0    26133.0      0    40000.0\n",
              "21181    20526.0    1500.0    19649.0      1    50000.0\n",
              "5746     78642.0    3000.0    77468.0      2   120000.0\n",
              "4517       390.0     390.0      390.0      0    50000.0\n",
              "21003   162743.0    7600.0   160106.0      2   200000.0\n",
              "24617   107689.0    5500.0   105418.0      1   190000.0\n",
              "25876     9283.0    9283.0    31808.0      0   210000.0\n",
              "4757       326.0     326.0      326.0      0   210000.0\n",
              "14521     1598.0    2000.0      -77.0      1   160000.0\n",
              "26582    54218.0    1766.0    99209.0      0   110000.0\n",
              "8599     16071.0       0.0    16626.0      1    20000.0"
            ]
          },
          "metadata": {
            "tags": []
          },
          "execution_count": 56
        }
      ]
    },
    {
      "metadata": {
        "id": "2555_qK7ZV6C",
        "colab_type": "code",
        "outputId": "ac040ae1-c768-4c7d-d9fe-2e42fb8387a7",
        "colab": {
          "base_uri": "https://localhost:8080/",
          "height": 242
        }
      },
      "cell_type": "code",
      "source": [
        "sns.FacetGrid(df, col = 'def_pay').map(plt.hist, 'AGE')\n"
      ],
      "execution_count": 57,
      "outputs": [
        {
          "output_type": "execute_result",
          "data": {
            "text/plain": [
              "<seaborn.axisgrid.FacetGrid at 0x7fa7fbab2198>"
            ]
          },
          "metadata": {
            "tags": []
          },
          "execution_count": 57
        },
        {
          "output_type": "display_data",
          "data": {
            "image/png": "[encoded data removed]",
            "text/plain": [
              "<matplotlib.figure.Figure at 0x7fa7fbab2978>"
            ]
          },
          "metadata": {
            "tags": []
          }
        }
      ]
    },
    {
      "metadata": {
        "id": "zB1UMMgqbBQm",
        "colab_type": "code",
        "outputId": "dbf76cbd-5ff5-49d7-c216-75b5d81590a3",
        "colab": {
          "base_uri": "https://localhost:8080/",
          "height": 297
        }
      },
      "cell_type": "code",
      "source": [
        "df.loc[df.PAY_1 > 0, 'PAY_1'] = 1\n",
        "df.loc[df.PAY_2 > 0, 'PAY_2'] = 1\n",
        "df.loc[df.PAY_3 > 0, 'PAY_3'] = 1\n",
        "df.loc[df.PAY_4 > 0, 'PAY_4'] = 1\n",
        "df.loc[df.PAY_5 > 0, 'PAY_5'] = 1\n",
        "df.loc[df.PAY_6 > 0, 'PAY_6'] = 1\n",
        "late = df[['PAY_1','PAY_2', 'PAY_3', 'PAY_4', 'PAY_5', 'PAY_6']]\n",
        "draw_histograms(late, late.columns, 2, 3, 10)"
      ],
      "execution_count": 58,
      "outputs": [
        {
          "output_type": "display_data",
          "data": {
            "image/png": "[encoded data removed]",
            "text/plain": [
              "<matplotlib.figure.Figure at 0x7fa7fbcf6438>"
            ]
          },
          "metadata": {
            "tags": []
          }
        }
      ]
    },
    {
      "metadata": {
        "id": "ai_z8c9pbfA-",
        "colab_type": "code",
        "outputId": "0750e046-40d3-477f-fa10-ce2e38a054e0",
        "colab": {
          "base_uri": "https://localhost:8080/",
          "height": 242
        }
      },
      "cell_type": "code",
      "source": [
        "g = sns.FacetGrid(df, col='SEX', hue='def_pay')\n",
        "g.map(plt.hist, 'AGE', alpha=0.6, bins=25) #alpha is for opacity\n",
        "g.add_legend()"
      ],
      "execution_count": 59,
      "outputs": [
        {
          "output_type": "execute_result",
          "data": {
            "text/plain": [
              "<seaborn.axisgrid.FacetGrid at 0x7fa7fbc641d0>"
            ]
          },
          "metadata": {
            "tags": []
          },
          "execution_count": 59
        },
        {
          "output_type": "display_data",
          "data": {
            "image/png": "[encoded data removed]",
            "text/plain": [
              "<matplotlib.figure.Figure at 0x7fa7fb9de208>"
            ]
          },
          "metadata": {
            "tags": []
          }
        }
      ]
    },
    {
      "metadata": {
        "id": "AbXPqycBbtnR",
        "colab_type": "code",
        "outputId": "4fe59324-f297-4fa4-c791-7c72e9207963",
        "colab": {
          "base_uri": "https://localhost:8080/",
          "height": 674
        }
      },
      "cell_type": "code",
      "source": [
        "g = sns.FacetGrid(df, col='def_pay', row= \"MARRIAGE\", hue='SEX')\n",
        "g.map(plt.hist, 'AGE', alpha=0.5, bins=25) \n",
        "g.add_legend()"
      ],
      "execution_count": 60,
      "outputs": [
        {
          "output_type": "execute_result",
          "data": {
            "text/plain": [
              "<seaborn.axisgrid.FacetGrid at 0x7fa7fb82cdd8>"
            ]
          },
          "metadata": {
            "tags": []
          },
          "execution_count": 60
        },
        {
          "output_type": "display_data",
          "data": {
            "image/png": "[encoded data removed]",
            "text/plain": [
              "<matplotlib.figure.Figure at 0x7fa7fb846898>"
            ]
          },
          "metadata": {
            "tags": []
          }
        }
      ]
    },
    {
      "metadata": {
        "id": "QlsqlGQItCR1",
        "colab_type": "text"
      },
      "cell_type": "markdown",
      "source": [
        "#Feature Engineering"
      ]
    },
    {
      "metadata": {
        "id": "SAiqNhv2b05l",
        "colab_type": "code",
        "outputId": "139e5ec0-c09b-44d7-f07e-ebec3e079b27",
        "colab": {
          "base_uri": "https://localhost:8080/",
          "height": 235
        }
      },
      "cell_type": "code",
      "source": [
        "df['SE_MA'] = df.SEX * df.MARRIAGE\n",
        "corr_2_cols('SE_MA', 'def_pay')"
      ],
      "execution_count": 61,
      "outputs": [
        {
          "output_type": "execute_result",
          "data": {
            "text/html": [
              "<div>\n",
              "<style scoped>\n",
              "    .dataframe tbody tr th:only-of-type {\n",
              "        vertical-align: middle;\n",
              "    }\n",
              "\n",
              "    .dataframe tbody tr th {\n",
              "        vertical-align: top;\n",
              "    }\n",
              "\n",
              "    .dataframe thead th {\n",
              "        text-align: right;\n",
              "    }\n",
              "</style>\n",
              "<table border=\"1\" class=\"dataframe\">\n",
              "  <thead>\n",
              "    <tr style=\"text-align: right;\">\n",
              "      <th>def_pay</th>\n",
              "      <th>0</th>\n",
              "      <th>1</th>\n",
              "      <th>perc</th>\n",
              "    </tr>\n",
              "    <tr>\n",
              "      <th>SE_MA</th>\n",
              "      <th></th>\n",
              "      <th></th>\n",
              "      <th></th>\n",
              "    </tr>\n",
              "  </thead>\n",
              "  <tbody>\n",
              "    <tr>\n",
              "      <th>1</th>\n",
              "      <td>3844</td>\n",
              "      <td>1346</td>\n",
              "      <td>0.259345</td>\n",
              "    </tr>\n",
              "    <tr>\n",
              "      <th>2</th>\n",
              "      <td>11677</td>\n",
              "      <td>3345</td>\n",
              "      <td>0.222673</td>\n",
              "    </tr>\n",
              "    <tr>\n",
              "      <th>3</th>\n",
              "      <td>103</td>\n",
              "      <td>42</td>\n",
              "      <td>0.289655</td>\n",
              "    </tr>\n",
              "    <tr>\n",
              "      <th>4</th>\n",
              "      <td>7555</td>\n",
              "      <td>1856</td>\n",
              "      <td>0.197216</td>\n",
              "    </tr>\n",
              "    <tr>\n",
              "      <th>6</th>\n",
              "      <td>185</td>\n",
              "      <td>47</td>\n",
              "      <td>0.202586</td>\n",
              "    </tr>\n",
              "  </tbody>\n",
              "</table>\n",
              "</div>"
            ],
            "text/plain": [
              "def_pay      0     1      perc\n",
              "SE_MA                         \n",
              "1         3844  1346  0.259345\n",
              "2        11677  3345  0.222673\n",
              "3          103    42  0.289655\n",
              "4         7555  1856  0.197216\n",
              "6          185    47  0.202586"
            ]
          },
          "metadata": {
            "tags": []
          },
          "execution_count": 61
        }
      ]
    },
    {
      "metadata": {
        "id": "nDiGUOto13Pz",
        "colab_type": "code",
        "colab": {
          "base_uri": "https://localhost:8080/",
          "height": 253
        },
        "outputId": "b1707bab-8a51-43b6-aab3-75f6a3aad907"
      },
      "cell_type": "code",
      "source": [
        "df.head()"
      ],
      "execution_count": 62,
      "outputs": [
        {
          "output_type": "execute_result",
          "data": {
            "text/html": [
              "<div>\n",
              "<style scoped>\n",
              "    .dataframe tbody tr th:only-of-type {\n",
              "        vertical-align: middle;\n",
              "    }\n",
              "\n",
              "    .dataframe tbody tr th {\n",
              "        vertical-align: top;\n",
              "    }\n",
              "\n",
              "    .dataframe thead th {\n",
              "        text-align: right;\n",
              "    }\n",
              "</style>\n",
              "<table border=\"1\" class=\"dataframe\">\n",
              "  <thead>\n",
              "    <tr style=\"text-align: right;\">\n",
              "      <th></th>\n",
              "      <th>ID</th>\n",
              "      <th>LIMIT_BAL</th>\n",
              "      <th>SEX</th>\n",
              "      <th>EDUCATION</th>\n",
              "      <th>MARRIAGE</th>\n",
              "      <th>AGE</th>\n",
              "      <th>PAY_1</th>\n",
              "      <th>PAY_2</th>\n",
              "      <th>PAY_3</th>\n",
              "      <th>PAY_4</th>\n",
              "      <th>...</th>\n",
              "      <th>BILL_AMT5</th>\n",
              "      <th>BILL_AMT6</th>\n",
              "      <th>PAY_AMT1</th>\n",
              "      <th>PAY_AMT2</th>\n",
              "      <th>PAY_AMT3</th>\n",
              "      <th>PAY_AMT4</th>\n",
              "      <th>PAY_AMT5</th>\n",
              "      <th>PAY_AMT6</th>\n",
              "      <th>def_pay</th>\n",
              "      <th>SE_MA</th>\n",
              "    </tr>\n",
              "  </thead>\n",
              "  <tbody>\n",
              "    <tr>\n",
              "      <th>0</th>\n",
              "      <td>1</td>\n",
              "      <td>20000.0</td>\n",
              "      <td>2</td>\n",
              "      <td>2</td>\n",
              "      <td>1</td>\n",
              "      <td>24</td>\n",
              "      <td>1</td>\n",
              "      <td>1</td>\n",
              "      <td>0</td>\n",
              "      <td>0</td>\n",
              "      <td>...</td>\n",
              "      <td>0.0</td>\n",
              "      <td>0.0</td>\n",
              "      <td>0.0</td>\n",
              "      <td>689.0</td>\n",
              "      <td>0.0</td>\n",
              "      <td>0.0</td>\n",
              "      <td>0.0</td>\n",
              "      <td>0.0</td>\n",
              "      <td>1</td>\n",
              "      <td>2</td>\n",
              "    </tr>\n",
              "    <tr>\n",
              "      <th>1</th>\n",
              "      <td>2</td>\n",
              "      <td>120000.0</td>\n",
              "      <td>2</td>\n",
              "      <td>2</td>\n",
              "      <td>2</td>\n",
              "      <td>26</td>\n",
              "      <td>0</td>\n",
              "      <td>1</td>\n",
              "      <td>0</td>\n",
              "      <td>0</td>\n",
              "      <td>...</td>\n",
              "      <td>3455.0</td>\n",
              "      <td>3261.0</td>\n",
              "      <td>0.0</td>\n",
              "      <td>1000.0</td>\n",
              "      <td>1000.0</td>\n",
              "      <td>1000.0</td>\n",
              "      <td>0.0</td>\n",
              "      <td>2000.0</td>\n",
              "      <td>1</td>\n",
              "      <td>4</td>\n",
              "    </tr>\n",
              "    <tr>\n",
              "      <th>2</th>\n",
              "      <td>3</td>\n",
              "      <td>90000.0</td>\n",
              "      <td>2</td>\n",
              "      <td>2</td>\n",
              "      <td>2</td>\n",
              "      <td>34</td>\n",
              "      <td>0</td>\n",
              "      <td>0</td>\n",
              "      <td>0</td>\n",
              "      <td>0</td>\n",
              "      <td>...</td>\n",
              "      <td>14948.0</td>\n",
              "      <td>15549.0</td>\n",
              "      <td>1518.0</td>\n",
              "      <td>1500.0</td>\n",
              "      <td>1000.0</td>\n",
              "      <td>1000.0</td>\n",
              "      <td>1000.0</td>\n",
              "      <td>5000.0</td>\n",
              "      <td>0</td>\n",
              "      <td>4</td>\n",
              "    </tr>\n",
              "    <tr>\n",
              "      <th>3</th>\n",
              "      <td>4</td>\n",
              "      <td>50000.0</td>\n",
              "      <td>2</td>\n",
              "      <td>2</td>\n",
              "      <td>1</td>\n",
              "      <td>37</td>\n",
              "      <td>0</td>\n",
              "      <td>0</td>\n",
              "      <td>0</td>\n",
              "      <td>0</td>\n",
              "      <td>...</td>\n",
              "      <td>28959.0</td>\n",
              "      <td>29547.0</td>\n",
              "      <td>2000.0</td>\n",
              "      <td>2019.0</td>\n",
              "      <td>1200.0</td>\n",
              "      <td>1100.0</td>\n",
              "      <td>1069.0</td>\n",
              "      <td>1000.0</td>\n",
              "      <td>0</td>\n",
              "      <td>2</td>\n",
              "    </tr>\n",
              "    <tr>\n",
              "      <th>4</th>\n",
              "      <td>5</td>\n",
              "      <td>50000.0</td>\n",
              "      <td>1</td>\n",
              "      <td>2</td>\n",
              "      <td>1</td>\n",
              "      <td>57</td>\n",
              "      <td>0</td>\n",
              "      <td>0</td>\n",
              "      <td>0</td>\n",
              "      <td>0</td>\n",
              "      <td>...</td>\n",
              "      <td>19146.0</td>\n",
              "      <td>19131.0</td>\n",
              "      <td>2000.0</td>\n",
              "      <td>36681.0</td>\n",
              "      <td>10000.0</td>\n",
              "      <td>9000.0</td>\n",
              "      <td>689.0</td>\n",
              "      <td>679.0</td>\n",
              "      <td>0</td>\n",
              "      <td>1</td>\n",
              "    </tr>\n",
              "  </tbody>\n",
              "</table>\n",
              "<p>5 rows × 26 columns</p>\n",
              "</div>"
            ],
            "text/plain": [
              "   ID  LIMIT_BAL  SEX  EDUCATION  MARRIAGE  AGE  PAY_1  PAY_2  PAY_3  PAY_4  \\\n",
              "0   1    20000.0    2          2         1   24      1      1      0      0   \n",
              "1   2   120000.0    2          2         2   26      0      1      0      0   \n",
              "2   3    90000.0    2          2         2   34      0      0      0      0   \n",
              "3   4    50000.0    2          2         1   37      0      0      0      0   \n",
              "4   5    50000.0    1          2         1   57      0      0      0      0   \n",
              "\n",
              "   ...    BILL_AMT5  BILL_AMT6  PAY_AMT1  PAY_AMT2  PAY_AMT3  PAY_AMT4  \\\n",
              "0  ...          0.0        0.0       0.0     689.0       0.0       0.0   \n",
              "1  ...       3455.0     3261.0       0.0    1000.0    1000.0    1000.0   \n",
              "2  ...      14948.0    15549.0    1518.0    1500.0    1000.0    1000.0   \n",
              "3  ...      28959.0    29547.0    2000.0    2019.0    1200.0    1100.0   \n",
              "4  ...      19146.0    19131.0    2000.0   36681.0   10000.0    9000.0   \n",
              "\n",
              "   PAY_AMT5  PAY_AMT6  def_pay  SE_MA  \n",
              "0       0.0       0.0        1      2  \n",
              "1       0.0    2000.0        1      4  \n",
              "2    1000.0    5000.0        0      4  \n",
              "3    1069.0    1000.0        0      2  \n",
              "4     689.0     679.0        0      1  \n",
              "\n",
              "[5 rows x 26 columns]"
            ]
          },
          "metadata": {
            "tags": []
          },
          "execution_count": 62
        }
      ]
    },
    {
      "metadata": {
        "id": "3z-iL1CXtI5d",
        "colab_type": "code",
        "outputId": "a00e9ad0-4e54-40f0-a1c8-c1f4292b4ffb",
        "colab": {
          "base_uri": "https://localhost:8080/",
          "height": 257
        }
      },
      "cell_type": "code",
      "source": [
        "df['SE_MA_2'] = 0\n",
        "df.loc[((df.SEX == 1) & (df.MARRIAGE == 1)) , 'SE_MA_2'] = 1 #married man\n",
        "df.loc[((df.SEX == 1) & (df.MARRIAGE == 2)) , 'SE_MA_2'] = 2 #single man\n",
        "df.loc[((df.SEX == 1) & (df.MARRIAGE == 3)) , 'SE_MA_2'] = 3 #divorced man\n",
        "df.loc[((df.SEX == 2) & (df.MARRIAGE == 1)) , 'SE_MA_2'] = 4 #married woman\n",
        "df.loc[((df.SEX == 2) & (df.MARRIAGE == 2)) , 'SE_MA_2'] = 5 #single woman\n",
        "df.loc[((df.SEX == 2) & (df.MARRIAGE == 3)) , 'SE_MA_2'] = 6 #divorced woman\n",
        "corr_2_cols('SE_MA_2', 'def_pay')"
      ],
      "execution_count": 0,
      "outputs": [
        {
          "output_type": "execute_result",
          "data": {
            "text/html": [
              "<div>\n",
              "<style scoped>\n",
              "    .dataframe tbody tr th:only-of-type {\n",
              "        vertical-align: middle;\n",
              "    }\n",
              "\n",
              "    .dataframe tbody tr th {\n",
              "        vertical-align: top;\n",
              "    }\n",
              "\n",
              "    .dataframe thead th {\n",
              "        text-align: right;\n",
              "    }\n",
              "</style>\n",
              "<table border=\"1\" class=\"dataframe\">\n",
              "  <thead>\n",
              "    <tr style=\"text-align: right;\">\n",
              "      <th>def_pay</th>\n",
              "      <th>0</th>\n",
              "      <th>1</th>\n",
              "      <th>perc</th>\n",
              "    </tr>\n",
              "    <tr>\n",
              "      <th>SE_MA_2</th>\n",
              "      <th></th>\n",
              "      <th></th>\n",
              "      <th></th>\n",
              "    </tr>\n",
              "  </thead>\n",
              "  <tbody>\n",
              "    <tr>\n",
              "      <th>1</th>\n",
              "      <td>3844</td>\n",
              "      <td>1346</td>\n",
              "      <td>0.259345</td>\n",
              "    </tr>\n",
              "    <tr>\n",
              "      <th>2</th>\n",
              "      <td>5068</td>\n",
              "      <td>1485</td>\n",
              "      <td>0.226614</td>\n",
              "    </tr>\n",
              "    <tr>\n",
              "      <th>3</th>\n",
              "      <td>103</td>\n",
              "      <td>42</td>\n",
              "      <td>0.289655</td>\n",
              "    </tr>\n",
              "    <tr>\n",
              "      <th>4</th>\n",
              "      <td>6609</td>\n",
              "      <td>1860</td>\n",
              "      <td>0.219625</td>\n",
              "    </tr>\n",
              "    <tr>\n",
              "      <th>5</th>\n",
              "      <td>7555</td>\n",
              "      <td>1856</td>\n",
              "      <td>0.197216</td>\n",
              "    </tr>\n",
              "    <tr>\n",
              "      <th>6</th>\n",
              "      <td>185</td>\n",
              "      <td>47</td>\n",
              "      <td>0.202586</td>\n",
              "    </tr>\n",
              "  </tbody>\n",
              "</table>\n",
              "</div>"
            ],
            "text/plain": [
              "def_pay     0     1      perc\n",
              "SE_MA_2                      \n",
              "1        3844  1346  0.259345\n",
              "2        5068  1485  0.226614\n",
              "3         103    42  0.289655\n",
              "4        6609  1860  0.219625\n",
              "5        7555  1856  0.197216\n",
              "6         185    47  0.202586"
            ]
          },
          "metadata": {
            "tags": []
          },
          "execution_count": 61
        }
      ]
    },
    {
      "metadata": {
        "id": "-1veIofktbR6",
        "colab_type": "code",
        "colab": {}
      },
      "cell_type": "code",
      "source": [
        "del df['SE_MA']\n",
        "df = df.rename(columns={'SE_MA_2': 'SE_MA'})"
      ],
      "execution_count": 0,
      "outputs": []
    },
    {
      "metadata": {
        "id": "6CHFnuaBtsu1",
        "colab_type": "code",
        "outputId": "07ae5c8b-b65c-4a97-a5bb-3120b5158579",
        "colab": {
          "base_uri": "https://localhost:8080/",
          "height": 282
        }
      },
      "cell_type": "code",
      "source": [
        "df['AgeBin'] = 0 #creates a column of 0\n",
        "df.loc[((df['AGE'] > 20) & (df['AGE'] < 30)) , 'AgeBin'] = 1\n",
        "df.loc[((df['AGE'] >= 30) & (df['AGE'] < 40)) , 'AgeBin'] = 2\n",
        "df.loc[((df['AGE'] >= 40) & (df['AGE'] < 50)) , 'AgeBin'] = 3\n",
        "df.loc[((df['AGE'] >= 50) & (df['AGE'] < 60)) , 'AgeBin'] = 4\n",
        "df.loc[((df['AGE'] >= 60) & (df['AGE'] < 70)) , 'AgeBin'] = 5\n",
        "df.loc[((df['AGE'] >= 70) & (df['AGE'] < 81)) , 'AgeBin'] = 6\n",
        "df.AgeBin.hist()"
      ],
      "execution_count": 0,
      "outputs": [
        {
          "output_type": "execute_result",
          "data": {
            "text/plain": [
              "<matplotlib.axes._subplots.AxesSubplot at 0x7fe290f456a0>"
            ]
          },
          "metadata": {
            "tags": []
          },
          "execution_count": 63
        },
        {
          "output_type": "display_data",
          "data": {
            "image/png": "[encoded data removed]",
            "text/plain": [
              "<matplotlib.figure.Figure at 0x7fe29113c860>"
            ]
          },
          "metadata": {
            "tags": []
          }
        }
      ]
    },
    {
      "metadata": {
        "id": "PzIEbiLVuGfw",
        "colab_type": "code",
        "outputId": "c7c2bc79-8b7b-49d0-9df6-c1d810eb50ed",
        "colab": {
          "base_uri": "https://localhost:8080/",
          "height": 257
        }
      },
      "cell_type": "code",
      "source": [
        "corr_2_cols('AgeBin', 'def_pay')"
      ],
      "execution_count": 0,
      "outputs": [
        {
          "output_type": "execute_result",
          "data": {
            "text/html": [
              "<div>\n",
              "<style scoped>\n",
              "    .dataframe tbody tr th:only-of-type {\n",
              "        vertical-align: middle;\n",
              "    }\n",
              "\n",
              "    .dataframe tbody tr th {\n",
              "        vertical-align: top;\n",
              "    }\n",
              "\n",
              "    .dataframe thead th {\n",
              "        text-align: right;\n",
              "    }\n",
              "</style>\n",
              "<table border=\"1\" class=\"dataframe\">\n",
              "  <thead>\n",
              "    <tr style=\"text-align: right;\">\n",
              "      <th>def_pay</th>\n",
              "      <th>0</th>\n",
              "      <th>1</th>\n",
              "      <th>perc</th>\n",
              "    </tr>\n",
              "    <tr>\n",
              "      <th>AgeBin</th>\n",
              "      <th></th>\n",
              "      <th></th>\n",
              "      <th></th>\n",
              "    </tr>\n",
              "  </thead>\n",
              "  <tbody>\n",
              "    <tr>\n",
              "      <th>1</th>\n",
              "      <td>7421</td>\n",
              "      <td>2197</td>\n",
              "      <td>0.228426</td>\n",
              "    </tr>\n",
              "    <tr>\n",
              "      <th>2</th>\n",
              "      <td>8962</td>\n",
              "      <td>2276</td>\n",
              "      <td>0.202527</td>\n",
              "    </tr>\n",
              "    <tr>\n",
              "      <th>3</th>\n",
              "      <td>4979</td>\n",
              "      <td>1485</td>\n",
              "      <td>0.229734</td>\n",
              "    </tr>\n",
              "    <tr>\n",
              "      <th>4</th>\n",
              "      <td>1759</td>\n",
              "      <td>582</td>\n",
              "      <td>0.248612</td>\n",
              "    </tr>\n",
              "    <tr>\n",
              "      <th>5</th>\n",
              "      <td>225</td>\n",
              "      <td>89</td>\n",
              "      <td>0.283439</td>\n",
              "    </tr>\n",
              "    <tr>\n",
              "      <th>6</th>\n",
              "      <td>18</td>\n",
              "      <td>7</td>\n",
              "      <td>0.280000</td>\n",
              "    </tr>\n",
              "  </tbody>\n",
              "</table>\n",
              "</div>"
            ],
            "text/plain": [
              "def_pay     0     1      perc\n",
              "AgeBin                       \n",
              "1        7421  2197  0.228426\n",
              "2        8962  2276  0.202527\n",
              "3        4979  1485  0.229734\n",
              "4        1759   582  0.248612\n",
              "5         225    89  0.283439\n",
              "6          18     7  0.280000"
            ]
          },
          "metadata": {
            "tags": []
          },
          "execution_count": 64
        }
      ]
    },
    {
      "metadata": {
        "id": "aj62CEVwtzrB",
        "colab_type": "code",
        "outputId": "2fba3480-3f63-4e25-ae6e-3241b591220b",
        "colab": {
          "base_uri": "https://localhost:8080/",
          "height": 257
        }
      },
      "cell_type": "code",
      "source": [
        "corr_2_cols('AgeBin', 'SEX')"
      ],
      "execution_count": 0,
      "outputs": [
        {
          "output_type": "execute_result",
          "data": {
            "text/html": [
              "<div>\n",
              "<style scoped>\n",
              "    .dataframe tbody tr th:only-of-type {\n",
              "        vertical-align: middle;\n",
              "    }\n",
              "\n",
              "    .dataframe tbody tr th {\n",
              "        vertical-align: top;\n",
              "    }\n",
              "\n",
              "    .dataframe thead th {\n",
              "        text-align: right;\n",
              "    }\n",
              "</style>\n",
              "<table border=\"1\" class=\"dataframe\">\n",
              "  <thead>\n",
              "    <tr style=\"text-align: right;\">\n",
              "      <th>SEX</th>\n",
              "      <th>1</th>\n",
              "      <th>2</th>\n",
              "      <th>perc</th>\n",
              "    </tr>\n",
              "    <tr>\n",
              "      <th>AgeBin</th>\n",
              "      <th></th>\n",
              "      <th></th>\n",
              "      <th></th>\n",
              "    </tr>\n",
              "  </thead>\n",
              "  <tbody>\n",
              "    <tr>\n",
              "      <th>1</th>\n",
              "      <td>3281</td>\n",
              "      <td>6337</td>\n",
              "      <td>0.658869</td>\n",
              "    </tr>\n",
              "    <tr>\n",
              "      <th>2</th>\n",
              "      <td>4565</td>\n",
              "      <td>6673</td>\n",
              "      <td>0.593789</td>\n",
              "    </tr>\n",
              "    <tr>\n",
              "      <th>3</th>\n",
              "      <td>2771</td>\n",
              "      <td>3693</td>\n",
              "      <td>0.571318</td>\n",
              "    </tr>\n",
              "    <tr>\n",
              "      <th>4</th>\n",
              "      <td>1092</td>\n",
              "      <td>1249</td>\n",
              "      <td>0.533533</td>\n",
              "    </tr>\n",
              "    <tr>\n",
              "      <th>5</th>\n",
              "      <td>166</td>\n",
              "      <td>148</td>\n",
              "      <td>0.471338</td>\n",
              "    </tr>\n",
              "    <tr>\n",
              "      <th>6</th>\n",
              "      <td>13</td>\n",
              "      <td>12</td>\n",
              "      <td>0.480000</td>\n",
              "    </tr>\n",
              "  </tbody>\n",
              "</table>\n",
              "</div>"
            ],
            "text/plain": [
              "SEX        1     2      perc\n",
              "AgeBin                      \n",
              "1       3281  6337  0.658869\n",
              "2       4565  6673  0.593789\n",
              "3       2771  3693  0.571318\n",
              "4       1092  1249  0.533533\n",
              "5        166   148  0.471338\n",
              "6         13    12  0.480000"
            ]
          },
          "metadata": {
            "tags": []
          },
          "execution_count": 65
        }
      ]
    },
    {
      "metadata": {
        "id": "ufcRWp4FvQnr",
        "colab_type": "text"
      },
      "cell_type": "markdown",
      "source": [
        "I see that default probability goes down in your 30's and then goes higher and higher. At the same time, the percentage of men is growing with the age category. Thus I want to combine the two as before and create a combination of the two."
      ]
    },
    {
      "metadata": {
        "id": "Lf50bW3UuMNe",
        "colab_type": "code",
        "outputId": "cba6d089-bc81-4c41-d335-31ab8e58a21d",
        "colab": {
          "base_uri": "https://localhost:8080/",
          "height": 407
        }
      },
      "cell_type": "code",
      "source": [
        "df['SE_AG'] = 0\n",
        "df.loc[((df.SEX == 1) & (df.AgeBin == 1)) , 'SE_AG'] = 1 #man in 20's\n",
        "df.loc[((df.SEX == 1) & (df.AgeBin == 2)) , 'SE_AG'] = 2 #man in 30's\n",
        "df.loc[((df.SEX == 1) & (df.AgeBin == 3)) , 'SE_AG'] = 3 #man in 40's\n",
        "df.loc[((df.SEX == 1) & (df.AgeBin == 4)) , 'SE_AG'] = 4 #man in 50's\n",
        "df.loc[((df.SEX == 1) & (df.AgeBin == 5)) , 'SE_AG'] = 5 #man in 60's and above\n",
        "df.loc[((df.SEX == 2) & (df.AgeBin == 1)) , 'SE_AG'] = 6 #woman in 20's\n",
        "df.loc[((df.SEX == 2) & (df.AgeBin == 2)) , 'SE_AG'] = 7 #woman in 30's\n",
        "df.loc[((df.SEX == 2) & (df.AgeBin == 3)) , 'SE_AG'] = 8 #woman in 40's\n",
        "df.loc[((df.SEX == 2) & (df.AgeBin == 4)) , 'SE_AG'] = 9 #woman in 50's\n",
        "df.loc[((df.SEX == 2) & (df.AgeBin == 5)) , 'SE_AG'] = 10 #woman in 60's and above\n",
        "corr_2_cols('SE_AG', 'def_pay')"
      ],
      "execution_count": 0,
      "outputs": [
        {
          "output_type": "execute_result",
          "data": {
            "text/html": [
              "<div>\n",
              "<style scoped>\n",
              "    .dataframe tbody tr th:only-of-type {\n",
              "        vertical-align: middle;\n",
              "    }\n",
              "\n",
              "    .dataframe tbody tr th {\n",
              "        vertical-align: top;\n",
              "    }\n",
              "\n",
              "    .dataframe thead th {\n",
              "        text-align: right;\n",
              "    }\n",
              "</style>\n",
              "<table border=\"1\" class=\"dataframe\">\n",
              "  <thead>\n",
              "    <tr style=\"text-align: right;\">\n",
              "      <th>def_pay</th>\n",
              "      <th>0</th>\n",
              "      <th>1</th>\n",
              "      <th>perc</th>\n",
              "    </tr>\n",
              "    <tr>\n",
              "      <th>SE_AG</th>\n",
              "      <th></th>\n",
              "      <th></th>\n",
              "      <th></th>\n",
              "    </tr>\n",
              "  </thead>\n",
              "  <tbody>\n",
              "    <tr>\n",
              "      <th>0</th>\n",
              "      <td>18</td>\n",
              "      <td>7</td>\n",
              "      <td>0.280000</td>\n",
              "    </tr>\n",
              "    <tr>\n",
              "      <th>1</th>\n",
              "      <td>2492</td>\n",
              "      <td>789</td>\n",
              "      <td>0.240475</td>\n",
              "    </tr>\n",
              "    <tr>\n",
              "      <th>2</th>\n",
              "      <td>3515</td>\n",
              "      <td>1050</td>\n",
              "      <td>0.230011</td>\n",
              "    </tr>\n",
              "    <tr>\n",
              "      <th>3</th>\n",
              "      <td>2080</td>\n",
              "      <td>691</td>\n",
              "      <td>0.249368</td>\n",
              "    </tr>\n",
              "    <tr>\n",
              "      <th>4</th>\n",
              "      <td>797</td>\n",
              "      <td>295</td>\n",
              "      <td>0.270147</td>\n",
              "    </tr>\n",
              "    <tr>\n",
              "      <th>5</th>\n",
              "      <td>122</td>\n",
              "      <td>44</td>\n",
              "      <td>0.265060</td>\n",
              "    </tr>\n",
              "    <tr>\n",
              "      <th>6</th>\n",
              "      <td>4929</td>\n",
              "      <td>1408</td>\n",
              "      <td>0.222187</td>\n",
              "    </tr>\n",
              "    <tr>\n",
              "      <th>7</th>\n",
              "      <td>5447</td>\n",
              "      <td>1226</td>\n",
              "      <td>0.183725</td>\n",
              "    </tr>\n",
              "    <tr>\n",
              "      <th>8</th>\n",
              "      <td>2899</td>\n",
              "      <td>794</td>\n",
              "      <td>0.215001</td>\n",
              "    </tr>\n",
              "    <tr>\n",
              "      <th>9</th>\n",
              "      <td>962</td>\n",
              "      <td>287</td>\n",
              "      <td>0.229784</td>\n",
              "    </tr>\n",
              "    <tr>\n",
              "      <th>10</th>\n",
              "      <td>103</td>\n",
              "      <td>45</td>\n",
              "      <td>0.304054</td>\n",
              "    </tr>\n",
              "  </tbody>\n",
              "</table>\n",
              "</div>"
            ],
            "text/plain": [
              "def_pay     0     1      perc\n",
              "SE_AG                        \n",
              "0          18     7  0.280000\n",
              "1        2492   789  0.240475\n",
              "2        3515  1050  0.230011\n",
              "3        2080   691  0.249368\n",
              "4         797   295  0.270147\n",
              "5         122    44  0.265060\n",
              "6        4929  1408  0.222187\n",
              "7        5447  1226  0.183725\n",
              "8        2899   794  0.215001\n",
              "9         962   287  0.229784\n",
              "10        103    45  0.304054"
            ]
          },
          "metadata": {
            "tags": []
          },
          "execution_count": 66
        }
      ]
    },
    {
      "metadata": {
        "id": "GQuGSFfhvYg8",
        "colab_type": "text"
      },
      "cell_type": "markdown",
      "source": [
        "Now it is time to do something that indicates being a client at a given month or not. I would say that if PAY, BILL_AMT and PAY_AMT are 0, then we are not talking about a client"
      ]
    },
    {
      "metadata": {
        "id": "22xz2xtBudca",
        "colab_type": "code",
        "outputId": "c48fedeb-17b5-4b74-c2ab-5ae626133d70",
        "colab": {
          "base_uri": "https://localhost:8080/",
          "height": 141
        }
      },
      "cell_type": "code",
      "source": [
        "df['Client_6'] = 1\n",
        "df['Client_5'] = 1\n",
        "df['Client_4'] = 1\n",
        "df['Client_3'] = 1\n",
        "df['Client_2'] = 1\n",
        "df['Client_1'] = 1\n",
        "df.loc[((df.PAY_6 == 0) & (df.BILL_AMT6 == 0) & (df.PAY_AMT6 == 0)) , 'Client_6'] = 0\n",
        "df.loc[((df.PAY_5 == 0) & (df.BILL_AMT5 == 0) & (df.PAY_AMT5 == 0)) , 'Client_5'] = 0\n",
        "df.loc[((df.PAY_4 == 0) & (df.BILL_AMT4 == 0) & (df.PAY_AMT4 == 0)) , 'Client_4'] = 0\n",
        "df.loc[((df.PAY_3 == 0) & (df.BILL_AMT3 == 0) & (df.PAY_AMT3 == 0)) , 'Client_3'] = 0\n",
        "df.loc[((df.PAY_2 == 0) & (df.BILL_AMT2 == 0) & (df.PAY_AMT2 == 0)) , 'Client_2'] = 0\n",
        "df.loc[((df.PAY_1 == 0) & (df.BILL_AMT1 == 0) & (df.PAY_AMT1 == 0)) , 'Client_1'] = 0\n",
        "pd.Series([df[df.Client_6 == 1].def_pay.count(),\n",
        "          df[df.Client_5 == 1].def_pay.count(),\n",
        "          df[df.Client_4 == 1].def_pay.count(),\n",
        "          df[df.Client_3 == 1].def_pay.count(),\n",
        "          df[df.Client_2 == 1].def_pay.count(),\n",
        "          df[df.Client_1 == 1].def_pay.count()], [6,5,4,3,2,1])"
      ],
      "execution_count": 0,
      "outputs": [
        {
          "output_type": "execute_result",
          "data": {
            "text/plain": [
              "6    26700\n",
              "5    27247\n",
              "4    27572\n",
              "3    27810\n",
              "2    28183\n",
              "1    29477\n",
              "dtype: int64"
            ]
          },
          "metadata": {
            "tags": []
          },
          "execution_count": 67
        }
      ]
    },
    {
      "metadata": {
        "id": "eyulV0TTvwwT",
        "colab_type": "text"
      },
      "cell_type": "markdown",
      "source": [
        "I will need these variables if I want to see how my predictions will change if I anticipate them (i. e. if I use data up to june instead of up to september)\n",
        "\n",
        "Next, I want something to describe the expenses of a client, following the idea I have expressed before when I looked at the BILL AMT and the PAY AMT. I am thinking of something like average expenses at any given month (again, for this first prediction I will just care about the last month but I might need the others later). Moreover, I want to give some context to it, so I will divide that number by LIMIT_BAL, so that we have a sort of extimation of how \"careless\" a client is"
      ]
    },
    {
      "metadata": {
        "id": "KW2UL1Hdxzow",
        "colab_type": "text"
      },
      "cell_type": "markdown",
      "source": [
        "To me it seems that it goes like that:\n",
        "\n",
        "I have a BILL of X, I pay Y\n",
        "\n",
        "The month after I have to pay X-Y + X', being X' my new expenses, I pay Y'\n",
        "\n",
        "The month after I have to pay X+X' - Y - Y' + X'' , I pay Y''\n",
        "So on so forth\n",
        "On top of that I may or may not have months of delay.\n",
        "\n",
        "It seems that if by september I have a bill too close to my limit, I generally fail. However, I can already see some dramatic exceptions.\n",
        "\n",
        "Moreover, I can spot some clients that joined our dataset at a later month: they have 0 in BILL and PAY AMT for a while and then they start. I have to keep that in mind as well.\n",
        "\n",
        "Now I want to see how the month of delay gets assigned. To this end, I will consider only people with no delays 6 months ago and see how their payments go."
      ]
    },
    {
      "metadata": {
        "id": "icWyR2T8vC4j",
        "colab_type": "code",
        "outputId": "9012baae-38aa-4c47-f2f6-0e64bfa0e5b1",
        "colab": {
          "base_uri": "https://localhost:8080/",
          "height": 647
        }
      },
      "cell_type": "code",
      "source": [
        "df['Avg_exp_5'] = ((df['BILL_AMT5'] - (df['BILL_AMT6'] - df['PAY_AMT5']))) / df['LIMIT_BAL']\n",
        "df['Avg_exp_4'] = (((df['BILL_AMT5'] - (df['BILL_AMT6'] - df['PAY_AMT5'])) +\n",
        "                 (df['BILL_AMT4'] - (df['BILL_AMT5'] - df['PAY_AMT4']))) / 2) / df['LIMIT_BAL']\n",
        "df['Avg_exp_3'] = (((df['BILL_AMT5'] - (df['BILL_AMT6'] - df['PAY_AMT5'])) +\n",
        "                 (df['BILL_AMT4'] - (df['BILL_AMT5'] - df['PAY_AMT4'])) +\n",
        "                 (df['BILL_AMT3'] - (df['BILL_AMT4'] - df['PAY_AMT3']))) / 3) / df['LIMIT_BAL']\n",
        "df['Avg_exp_2'] = (((df['BILL_AMT5'] - (df['BILL_AMT6'] - df['PAY_AMT5'])) +\n",
        "                 (df['BILL_AMT4'] - (df['BILL_AMT5'] - df['PAY_AMT4'])) +\n",
        "                 (df['BILL_AMT3'] - (df['BILL_AMT4'] - df['PAY_AMT3'])) +\n",
        "                 (df['BILL_AMT2'] - (df['BILL_AMT3'] - df['PAY_AMT2']))) / 4) / df['LIMIT_BAL']\n",
        "df['Avg_exp_1'] = (((df['BILL_AMT5'] - (df['BILL_AMT6'] - df['PAY_AMT5'])) +\n",
        "                 (df['BILL_AMT4'] - (df['BILL_AMT5'] - df['PAY_AMT4'])) +\n",
        "                 (df['BILL_AMT3'] - (df['BILL_AMT4'] - df['PAY_AMT3'])) +\n",
        "                 (df['BILL_AMT2'] - (df['BILL_AMT3'] - df['PAY_AMT2'])) +\n",
        "                 (df['BILL_AMT1'] - (df['BILL_AMT2'] - df['PAY_AMT1']))) / 5) / df['LIMIT_BAL']\n",
        "df[['LIMIT_BAL', 'Avg_exp_5', 'BILL_AMT5', 'Avg_exp_4', 'BILL_AMT4','Avg_exp_3', 'BILL_AMT3',\n",
        "    'Avg_exp_2', 'BILL_AMT2', 'Avg_exp_1', 'BILL_AMT1', 'def_pay']].sample(20)"
      ],
      "execution_count": 0,
      "outputs": [
        {
          "output_type": "execute_result",
          "data": {
            "text/html": [
              "<div>\n",
              "<style scoped>\n",
              "    .dataframe tbody tr th:only-of-type {\n",
              "        vertical-align: middle;\n",
              "    }\n",
              "\n",
              "    .dataframe tbody tr th {\n",
              "        vertical-align: top;\n",
              "    }\n",
              "\n",
              "    .dataframe thead th {\n",
              "        text-align: right;\n",
              "    }\n",
              "</style>\n",
              "<table border=\"1\" class=\"dataframe\">\n",
              "  <thead>\n",
              "    <tr style=\"text-align: right;\">\n",
              "      <th></th>\n",
              "      <th>LIMIT_BAL</th>\n",
              "      <th>Avg_exp_5</th>\n",
              "      <th>BILL_AMT5</th>\n",
              "      <th>Avg_exp_4</th>\n",
              "      <th>BILL_AMT4</th>\n",
              "      <th>Avg_exp_3</th>\n",
              "      <th>BILL_AMT3</th>\n",
              "      <th>Avg_exp_2</th>\n",
              "      <th>BILL_AMT2</th>\n",
              "      <th>Avg_exp_1</th>\n",
              "      <th>BILL_AMT1</th>\n",
              "      <th>def_pay</th>\n",
              "    </tr>\n",
              "  </thead>\n",
              "  <tbody>\n",
              "    <tr>\n",
              "      <th>11504</th>\n",
              "      <td>50000.0</td>\n",
              "      <td>0.000000</td>\n",
              "      <td>0.0</td>\n",
              "      <td>0.036600</td>\n",
              "      <td>3660.0</td>\n",
              "      <td>0.043987</td>\n",
              "      <td>6525.0</td>\n",
              "      <td>0.058415</td>\n",
              "      <td>10610.0</td>\n",
              "      <td>0.047548</td>\n",
              "      <td>9659.0</td>\n",
              "      <td>0</td>\n",
              "    </tr>\n",
              "    <tr>\n",
              "      <th>10074</th>\n",
              "      <td>180000.0</td>\n",
              "      <td>0.003333</td>\n",
              "      <td>228.0</td>\n",
              "      <td>0.001667</td>\n",
              "      <td>0.0</td>\n",
              "      <td>0.007963</td>\n",
              "      <td>3700.0</td>\n",
              "      <td>0.069111</td>\n",
              "      <td>45460.0</td>\n",
              "      <td>0.076078</td>\n",
              "      <td>18710.0</td>\n",
              "      <td>0</td>\n",
              "    </tr>\n",
              "    <tr>\n",
              "      <th>7141</th>\n",
              "      <td>30000.0</td>\n",
              "      <td>0.051700</td>\n",
              "      <td>1551.0</td>\n",
              "      <td>0.097700</td>\n",
              "      <td>4311.0</td>\n",
              "      <td>0.101356</td>\n",
              "      <td>3260.0</td>\n",
              "      <td>0.082517</td>\n",
              "      <td>780.0</td>\n",
              "      <td>0.066013</td>\n",
              "      <td>0.0</td>\n",
              "      <td>0</td>\n",
              "    </tr>\n",
              "    <tr>\n",
              "      <th>10128</th>\n",
              "      <td>130000.0</td>\n",
              "      <td>0.009900</td>\n",
              "      <td>70369.0</td>\n",
              "      <td>0.009700</td>\n",
              "      <td>68904.0</td>\n",
              "      <td>0.010826</td>\n",
              "      <td>70604.0</td>\n",
              "      <td>0.011375</td>\n",
              "      <td>65997.0</td>\n",
              "      <td>0.011585</td>\n",
              "      <td>67612.0</td>\n",
              "      <td>1</td>\n",
              "    </tr>\n",
              "    <tr>\n",
              "      <th>6379</th>\n",
              "      <td>70000.0</td>\n",
              "      <td>0.009257</td>\n",
              "      <td>30379.0</td>\n",
              "      <td>0.007986</td>\n",
              "      <td>28449.0</td>\n",
              "      <td>0.008967</td>\n",
              "      <td>28184.0</td>\n",
              "      <td>0.009436</td>\n",
              "      <td>28943.0</td>\n",
              "      <td>0.008777</td>\n",
              "      <td>25773.0</td>\n",
              "      <td>1</td>\n",
              "    </tr>\n",
              "    <tr>\n",
              "      <th>2763</th>\n",
              "      <td>20000.0</td>\n",
              "      <td>0.096700</td>\n",
              "      <td>10962.0</td>\n",
              "      <td>0.145650</td>\n",
              "      <td>14354.0</td>\n",
              "      <td>0.196800</td>\n",
              "      <td>19836.0</td>\n",
              "      <td>0.164912</td>\n",
              "      <td>16221.0</td>\n",
              "      <td>0.142210</td>\n",
              "      <td>15749.0</td>\n",
              "      <td>0</td>\n",
              "    </tr>\n",
              "    <tr>\n",
              "      <th>15495</th>\n",
              "      <td>30000.0</td>\n",
              "      <td>0.009000</td>\n",
              "      <td>7972.0</td>\n",
              "      <td>0.006500</td>\n",
              "      <td>7092.0</td>\n",
              "      <td>0.007233</td>\n",
              "      <td>6353.0</td>\n",
              "      <td>0.007450</td>\n",
              "      <td>5096.0</td>\n",
              "      <td>0.007440</td>\n",
              "      <td>4318.0</td>\n",
              "      <td>0</td>\n",
              "    </tr>\n",
              "    <tr>\n",
              "      <th>2655</th>\n",
              "      <td>260000.0</td>\n",
              "      <td>0.014300</td>\n",
              "      <td>3718.0</td>\n",
              "      <td>0.013260</td>\n",
              "      <td>6895.0</td>\n",
              "      <td>0.008840</td>\n",
              "      <td>0.0</td>\n",
              "      <td>0.006630</td>\n",
              "      <td>0.0</td>\n",
              "      <td>0.006083</td>\n",
              "      <td>1013.0</td>\n",
              "      <td>1</td>\n",
              "    </tr>\n",
              "    <tr>\n",
              "      <th>22218</th>\n",
              "      <td>250000.0</td>\n",
              "      <td>0.005192</td>\n",
              "      <td>33246.0</td>\n",
              "      <td>0.020866</td>\n",
              "      <td>41381.0</td>\n",
              "      <td>0.018341</td>\n",
              "      <td>43194.0</td>\n",
              "      <td>0.017324</td>\n",
              "      <td>44742.0</td>\n",
              "      <td>0.019785</td>\n",
              "      <td>50122.0</td>\n",
              "      <td>0</td>\n",
              "    </tr>\n",
              "    <tr>\n",
              "      <th>22680</th>\n",
              "      <td>360000.0</td>\n",
              "      <td>0.016489</td>\n",
              "      <td>5935.0</td>\n",
              "      <td>0.043000</td>\n",
              "      <td>24472.0</td>\n",
              "      <td>0.036288</td>\n",
              "      <td>7486.0</td>\n",
              "      <td>0.032180</td>\n",
              "      <td>6571.0</td>\n",
              "      <td>0.028231</td>\n",
              "      <td>3899.0</td>\n",
              "      <td>0</td>\n",
              "    </tr>\n",
              "    <tr>\n",
              "      <th>24634</th>\n",
              "      <td>60000.0</td>\n",
              "      <td>0.129733</td>\n",
              "      <td>7784.0</td>\n",
              "      <td>0.209750</td>\n",
              "      <td>25163.0</td>\n",
              "      <td>0.348844</td>\n",
              "      <td>42778.0</td>\n",
              "      <td>0.358554</td>\n",
              "      <td>45987.0</td>\n",
              "      <td>0.417573</td>\n",
              "      <td>39212.0</td>\n",
              "      <td>0</td>\n",
              "    </tr>\n",
              "    <tr>\n",
              "      <th>6516</th>\n",
              "      <td>10000.0</td>\n",
              "      <td>0.000000</td>\n",
              "      <td>660.0</td>\n",
              "      <td>0.050000</td>\n",
              "      <td>1660.0</td>\n",
              "      <td>0.033333</td>\n",
              "      <td>0.0</td>\n",
              "      <td>0.094925</td>\n",
              "      <td>2797.0</td>\n",
              "      <td>0.104260</td>\n",
              "      <td>3213.0</td>\n",
              "      <td>0</td>\n",
              "    </tr>\n",
              "    <tr>\n",
              "      <th>1019</th>\n",
              "      <td>180000.0</td>\n",
              "      <td>0.000000</td>\n",
              "      <td>0.0</td>\n",
              "      <td>0.000000</td>\n",
              "      <td>0.0</td>\n",
              "      <td>0.000000</td>\n",
              "      <td>0.0</td>\n",
              "      <td>0.000000</td>\n",
              "      <td>0.0</td>\n",
              "      <td>0.004609</td>\n",
              "      <td>4148.0</td>\n",
              "      <td>0</td>\n",
              "    </tr>\n",
              "    <tr>\n",
              "      <th>23377</th>\n",
              "      <td>550000.0</td>\n",
              "      <td>0.690707</td>\n",
              "      <td>530672.0</td>\n",
              "      <td>0.373852</td>\n",
              "      <td>548020.0</td>\n",
              "      <td>0.343241</td>\n",
              "      <td>535509.0</td>\n",
              "      <td>0.272929</td>\n",
              "      <td>546741.0</td>\n",
              "      <td>0.226672</td>\n",
              "      <td>548551.0</td>\n",
              "      <td>1</td>\n",
              "    </tr>\n",
              "    <tr>\n",
              "      <th>7729</th>\n",
              "      <td>190000.0</td>\n",
              "      <td>0.011495</td>\n",
              "      <td>2184.0</td>\n",
              "      <td>0.005747</td>\n",
              "      <td>2184.0</td>\n",
              "      <td>0.003832</td>\n",
              "      <td>2184.0</td>\n",
              "      <td>0.003158</td>\n",
              "      <td>2400.0</td>\n",
              "      <td>0.002526</td>\n",
              "      <td>-1600.0</td>\n",
              "      <td>0</td>\n",
              "    </tr>\n",
              "    <tr>\n",
              "      <th>25015</th>\n",
              "      <td>170000.0</td>\n",
              "      <td>0.023265</td>\n",
              "      <td>3955.0</td>\n",
              "      <td>0.011632</td>\n",
              "      <td>0.0</td>\n",
              "      <td>0.007755</td>\n",
              "      <td>0.0</td>\n",
              "      <td>0.008743</td>\n",
              "      <td>1990.0</td>\n",
              "      <td>0.007222</td>\n",
              "      <td>2184.0</td>\n",
              "      <td>0</td>\n",
              "    </tr>\n",
              "    <tr>\n",
              "      <th>16948</th>\n",
              "      <td>80000.0</td>\n",
              "      <td>0.198937</td>\n",
              "      <td>15915.0</td>\n",
              "      <td>0.104881</td>\n",
              "      <td>15948.0</td>\n",
              "      <td>0.178379</td>\n",
              "      <td>40502.0</td>\n",
              "      <td>0.138750</td>\n",
              "      <td>40061.0</td>\n",
              "      <td>0.113615</td>\n",
              "      <td>39298.0</td>\n",
              "      <td>0</td>\n",
              "    </tr>\n",
              "    <tr>\n",
              "      <th>8210</th>\n",
              "      <td>300000.0</td>\n",
              "      <td>0.000000</td>\n",
              "      <td>0.0</td>\n",
              "      <td>0.019833</td>\n",
              "      <td>11900.0</td>\n",
              "      <td>0.013222</td>\n",
              "      <td>10841.0</td>\n",
              "      <td>0.012460</td>\n",
              "      <td>12893.0</td>\n",
              "      <td>0.010123</td>\n",
              "      <td>11613.0</td>\n",
              "      <td>0</td>\n",
              "    </tr>\n",
              "    <tr>\n",
              "      <th>5190</th>\n",
              "      <td>100000.0</td>\n",
              "      <td>0.000350</td>\n",
              "      <td>1209.0</td>\n",
              "      <td>0.001020</td>\n",
              "      <td>1378.0</td>\n",
              "      <td>0.000680</td>\n",
              "      <td>0.0</td>\n",
              "      <td>0.000510</td>\n",
              "      <td>0.0</td>\n",
              "      <td>0.000408</td>\n",
              "      <td>0.0</td>\n",
              "      <td>0</td>\n",
              "    </tr>\n",
              "    <tr>\n",
              "      <th>9978</th>\n",
              "      <td>200000.0</td>\n",
              "      <td>0.001980</td>\n",
              "      <td>396.0</td>\n",
              "      <td>0.001980</td>\n",
              "      <td>396.0</td>\n",
              "      <td>0.001980</td>\n",
              "      <td>396.0</td>\n",
              "      <td>0.001980</td>\n",
              "      <td>396.0</td>\n",
              "      <td>0.001980</td>\n",
              "      <td>396.0</td>\n",
              "      <td>0</td>\n",
              "    </tr>\n",
              "  </tbody>\n",
              "</table>\n",
              "</div>"
            ],
            "text/plain": [
              "       LIMIT_BAL  Avg_exp_5  BILL_AMT5  Avg_exp_4  BILL_AMT4  Avg_exp_3  \\\n",
              "11504    50000.0   0.000000        0.0   0.036600     3660.0   0.043987   \n",
              "10074   180000.0   0.003333      228.0   0.001667        0.0   0.007963   \n",
              "7141     30000.0   0.051700     1551.0   0.097700     4311.0   0.101356   \n",
              "10128   130000.0   0.009900    70369.0   0.009700    68904.0   0.010826   \n",
              "6379     70000.0   0.009257    30379.0   0.007986    28449.0   0.008967   \n",
              "2763     20000.0   0.096700    10962.0   0.145650    14354.0   0.196800   \n",
              "15495    30000.0   0.009000     7972.0   0.006500     7092.0   0.007233   \n",
              "2655    260000.0   0.014300     3718.0   0.013260     6895.0   0.008840   \n",
              "22218   250000.0   0.005192    33246.0   0.020866    41381.0   0.018341   \n",
              "22680   360000.0   0.016489     5935.0   0.043000    24472.0   0.036288   \n",
              "24634    60000.0   0.129733     7784.0   0.209750    25163.0   0.348844   \n",
              "6516     10000.0   0.000000      660.0   0.050000     1660.0   0.033333   \n",
              "1019    180000.0   0.000000        0.0   0.000000        0.0   0.000000   \n",
              "23377   550000.0   0.690707   530672.0   0.373852   548020.0   0.343241   \n",
              "7729    190000.0   0.011495     2184.0   0.005747     2184.0   0.003832   \n",
              "25015   170000.0   0.023265     3955.0   0.011632        0.0   0.007755   \n",
              "16948    80000.0   0.198937    15915.0   0.104881    15948.0   0.178379   \n",
              "8210    300000.0   0.000000        0.0   0.019833    11900.0   0.013222   \n",
              "5190    100000.0   0.000350     1209.0   0.001020     1378.0   0.000680   \n",
              "9978    200000.0   0.001980      396.0   0.001980      396.0   0.001980   \n",
              "\n",
              "       BILL_AMT3  Avg_exp_2  BILL_AMT2  Avg_exp_1  BILL_AMT1  def_pay  \n",
              "11504     6525.0   0.058415    10610.0   0.047548     9659.0        0  \n",
              "10074     3700.0   0.069111    45460.0   0.076078    18710.0        0  \n",
              "7141      3260.0   0.082517      780.0   0.066013        0.0        0  \n",
              "10128    70604.0   0.011375    65997.0   0.011585    67612.0        1  \n",
              "6379     28184.0   0.009436    28943.0   0.008777    25773.0        1  \n",
              "2763     19836.0   0.164912    16221.0   0.142210    15749.0        0  \n",
              "15495     6353.0   0.007450     5096.0   0.007440     4318.0        0  \n",
              "2655         0.0   0.006630        0.0   0.006083     1013.0        1  \n",
              "22218    43194.0   0.017324    44742.0   0.019785    50122.0        0  \n",
              "22680     7486.0   0.032180     6571.0   0.028231     3899.0        0  \n",
              "24634    42778.0   0.358554    45987.0   0.417573    39212.0        0  \n",
              "6516         0.0   0.094925     2797.0   0.104260     3213.0        0  \n",
              "1019         0.0   0.000000        0.0   0.004609     4148.0        0  \n",
              "23377   535509.0   0.272929   546741.0   0.226672   548551.0        1  \n",
              "7729      2184.0   0.003158     2400.0   0.002526    -1600.0        0  \n",
              "25015        0.0   0.008743     1990.0   0.007222     2184.0        0  \n",
              "16948    40502.0   0.138750    40061.0   0.113615    39298.0        0  \n",
              "8210     10841.0   0.012460    12893.0   0.010123    11613.0        0  \n",
              "5190         0.0   0.000510        0.0   0.000408        0.0        0  \n",
              "9978       396.0   0.001980      396.0   0.001980      396.0        0  "
            ]
          },
          "metadata": {
            "tags": []
          },
          "execution_count": 68
        }
      ]
    },
    {
      "metadata": {
        "id": "zXsXcsf3weGz",
        "colab_type": "text"
      },
      "cell_type": "markdown",
      "source": [
        "One last thing: how far the bill is from the limit should matter, thus I will create that variable. Since the result can vary a lot from one client to the other (the LIMIT_BAL variable has a very wide range), I will again weight this difference on the LIMIT_BAL feature (in my mind it has more meaning, maybe I am wrong). Again, I want to keep the historical trend of the variable"
      ]
    },
    {
      "metadata": {
        "id": "DmwZMWfDv5BG",
        "colab_type": "code",
        "outputId": "7c3eecc1-9b82-4078-ba59-eb521633d2d5",
        "colab": {
          "base_uri": "https://localhost:8080/",
          "height": 647
        }
      },
      "cell_type": "code",
      "source": [
        "df['Closeness_6'] = (df.LIMIT_BAL - df.BILL_AMT6) / df.LIMIT_BAL\n",
        "df['Closeness_5'] = (df.LIMIT_BAL - df.BILL_AMT5) / df.LIMIT_BAL\n",
        "df['Closeness_4'] = (df.LIMIT_BAL - df.BILL_AMT4) / df.LIMIT_BAL\n",
        "df['Closeness_3'] = (df.LIMIT_BAL - df.BILL_AMT3) / df.LIMIT_BAL\n",
        "df['Closeness_2'] = (df.LIMIT_BAL - df.BILL_AMT2) / df.LIMIT_BAL\n",
        "df['Closeness_1'] = (df.LIMIT_BAL - df.BILL_AMT1) / df.LIMIT_BAL\n",
        "df[['Closeness_6', 'Closeness_5', 'Closeness_4', 'Closeness_3', 'Closeness_2',\n",
        "   'Closeness_1', 'def_pay']].sample(20)"
      ],
      "execution_count": 0,
      "outputs": [
        {
          "output_type": "execute_result",
          "data": {
            "text/html": [
              "<div>\n",
              "<style scoped>\n",
              "    .dataframe tbody tr th:only-of-type {\n",
              "        vertical-align: middle;\n",
              "    }\n",
              "\n",
              "    .dataframe tbody tr th {\n",
              "        vertical-align: top;\n",
              "    }\n",
              "\n",
              "    .dataframe thead th {\n",
              "        text-align: right;\n",
              "    }\n",
              "</style>\n",
              "<table border=\"1\" class=\"dataframe\">\n",
              "  <thead>\n",
              "    <tr style=\"text-align: right;\">\n",
              "      <th></th>\n",
              "      <th>Closeness_6</th>\n",
              "      <th>Closeness_5</th>\n",
              "      <th>Closeness_4</th>\n",
              "      <th>Closeness_3</th>\n",
              "      <th>Closeness_2</th>\n",
              "      <th>Closeness_1</th>\n",
              "      <th>def_pay</th>\n",
              "    </tr>\n",
              "  </thead>\n",
              "  <tbody>\n",
              "    <tr>\n",
              "      <th>5778</th>\n",
              "      <td>0.455933</td>\n",
              "      <td>0.328983</td>\n",
              "      <td>0.333400</td>\n",
              "      <td>0.332400</td>\n",
              "      <td>0.335233</td>\n",
              "      <td>0.084667</td>\n",
              "      <td>0</td>\n",
              "    </tr>\n",
              "    <tr>\n",
              "      <th>6269</th>\n",
              "      <td>0.999405</td>\n",
              "      <td>0.962987</td>\n",
              "      <td>0.968400</td>\n",
              "      <td>0.968683</td>\n",
              "      <td>0.999650</td>\n",
              "      <td>0.999650</td>\n",
              "      <td>0</td>\n",
              "    </tr>\n",
              "    <tr>\n",
              "      <th>14130</th>\n",
              "      <td>0.640881</td>\n",
              "      <td>0.598741</td>\n",
              "      <td>0.618433</td>\n",
              "      <td>0.578626</td>\n",
              "      <td>0.574781</td>\n",
              "      <td>0.589196</td>\n",
              "      <td>0</td>\n",
              "    </tr>\n",
              "    <tr>\n",
              "      <th>9127</th>\n",
              "      <td>0.932960</td>\n",
              "      <td>0.917645</td>\n",
              "      <td>0.902365</td>\n",
              "      <td>0.876940</td>\n",
              "      <td>0.413540</td>\n",
              "      <td>0.397425</td>\n",
              "      <td>0</td>\n",
              "    </tr>\n",
              "    <tr>\n",
              "      <th>24716</th>\n",
              "      <td>0.105650</td>\n",
              "      <td>0.167050</td>\n",
              "      <td>0.279550</td>\n",
              "      <td>0.252700</td>\n",
              "      <td>0.381400</td>\n",
              "      <td>0.421350</td>\n",
              "      <td>1</td>\n",
              "    </tr>\n",
              "    <tr>\n",
              "      <th>7827</th>\n",
              "      <td>0.336717</td>\n",
              "      <td>0.360175</td>\n",
              "      <td>0.375850</td>\n",
              "      <td>0.390583</td>\n",
              "      <td>0.390475</td>\n",
              "      <td>0.742292</td>\n",
              "      <td>0</td>\n",
              "    </tr>\n",
              "    <tr>\n",
              "      <th>26335</th>\n",
              "      <td>1.000000</td>\n",
              "      <td>0.964927</td>\n",
              "      <td>0.995503</td>\n",
              "      <td>0.964193</td>\n",
              "      <td>0.997373</td>\n",
              "      <td>0.997067</td>\n",
              "      <td>1</td>\n",
              "    </tr>\n",
              "    <tr>\n",
              "      <th>13754</th>\n",
              "      <td>0.091200</td>\n",
              "      <td>0.067820</td>\n",
              "      <td>0.083647</td>\n",
              "      <td>0.052407</td>\n",
              "      <td>0.030613</td>\n",
              "      <td>0.056933</td>\n",
              "      <td>0</td>\n",
              "    </tr>\n",
              "    <tr>\n",
              "      <th>15649</th>\n",
              "      <td>1.000000</td>\n",
              "      <td>1.000000</td>\n",
              "      <td>1.000000</td>\n",
              "      <td>1.000000</td>\n",
              "      <td>0.987424</td>\n",
              "      <td>0.873067</td>\n",
              "      <td>0</td>\n",
              "    </tr>\n",
              "    <tr>\n",
              "      <th>1717</th>\n",
              "      <td>0.941441</td>\n",
              "      <td>0.990553</td>\n",
              "      <td>0.991812</td>\n",
              "      <td>0.993659</td>\n",
              "      <td>0.992100</td>\n",
              "      <td>0.974506</td>\n",
              "      <td>1</td>\n",
              "    </tr>\n",
              "    <tr>\n",
              "      <th>1547</th>\n",
              "      <td>0.402080</td>\n",
              "      <td>0.449420</td>\n",
              "      <td>0.437700</td>\n",
              "      <td>0.320660</td>\n",
              "      <td>0.337740</td>\n",
              "      <td>0.389980</td>\n",
              "      <td>0</td>\n",
              "    </tr>\n",
              "    <tr>\n",
              "      <th>14271</th>\n",
              "      <td>0.872714</td>\n",
              "      <td>0.885614</td>\n",
              "      <td>0.898636</td>\n",
              "      <td>0.906144</td>\n",
              "      <td>0.913736</td>\n",
              "      <td>0.921414</td>\n",
              "      <td>0</td>\n",
              "    </tr>\n",
              "    <tr>\n",
              "      <th>20634</th>\n",
              "      <td>1.000000</td>\n",
              "      <td>1.000000</td>\n",
              "      <td>0.233725</td>\n",
              "      <td>0.756550</td>\n",
              "      <td>0.188587</td>\n",
              "      <td>0.329663</td>\n",
              "      <td>0</td>\n",
              "    </tr>\n",
              "    <tr>\n",
              "      <th>13163</th>\n",
              "      <td>1.000000</td>\n",
              "      <td>1.000000</td>\n",
              "      <td>1.000000</td>\n",
              "      <td>0.870167</td>\n",
              "      <td>0.911867</td>\n",
              "      <td>0.879767</td>\n",
              "      <td>1</td>\n",
              "    </tr>\n",
              "    <tr>\n",
              "      <th>7332</th>\n",
              "      <td>0.921159</td>\n",
              "      <td>0.929891</td>\n",
              "      <td>0.935768</td>\n",
              "      <td>0.922091</td>\n",
              "      <td>0.929086</td>\n",
              "      <td>0.935245</td>\n",
              "      <td>0</td>\n",
              "    </tr>\n",
              "    <tr>\n",
              "      <th>18538</th>\n",
              "      <td>0.009900</td>\n",
              "      <td>0.051200</td>\n",
              "      <td>-0.022200</td>\n",
              "      <td>0.977800</td>\n",
              "      <td>0.831650</td>\n",
              "      <td>0.474350</td>\n",
              "      <td>0</td>\n",
              "    </tr>\n",
              "    <tr>\n",
              "      <th>8234</th>\n",
              "      <td>0.135500</td>\n",
              "      <td>0.154533</td>\n",
              "      <td>0.171867</td>\n",
              "      <td>0.054700</td>\n",
              "      <td>0.087467</td>\n",
              "      <td>0.123300</td>\n",
              "      <td>0</td>\n",
              "    </tr>\n",
              "    <tr>\n",
              "      <th>16436</th>\n",
              "      <td>0.989200</td>\n",
              "      <td>0.978400</td>\n",
              "      <td>0.484500</td>\n",
              "      <td>0.510240</td>\n",
              "      <td>0.532400</td>\n",
              "      <td>0.552460</td>\n",
              "      <td>0</td>\n",
              "    </tr>\n",
              "    <tr>\n",
              "      <th>22280</th>\n",
              "      <td>0.389336</td>\n",
              "      <td>0.401545</td>\n",
              "      <td>0.006759</td>\n",
              "      <td>0.022095</td>\n",
              "      <td>0.040741</td>\n",
              "      <td>0.059641</td>\n",
              "      <td>1</td>\n",
              "    </tr>\n",
              "    <tr>\n",
              "      <th>28991</th>\n",
              "      <td>0.263675</td>\n",
              "      <td>0.203962</td>\n",
              "      <td>0.039381</td>\n",
              "      <td>0.011525</td>\n",
              "      <td>0.031231</td>\n",
              "      <td>0.002269</td>\n",
              "      <td>0</td>\n",
              "    </tr>\n",
              "  </tbody>\n",
              "</table>\n",
              "</div>"
            ],
            "text/plain": [
              "       Closeness_6  Closeness_5  Closeness_4  Closeness_3  Closeness_2  \\\n",
              "5778      0.455933     0.328983     0.333400     0.332400     0.335233   \n",
              "6269      0.999405     0.962987     0.968400     0.968683     0.999650   \n",
              "14130     0.640881     0.598741     0.618433     0.578626     0.574781   \n",
              "9127      0.932960     0.917645     0.902365     0.876940     0.413540   \n",
              "24716     0.105650     0.167050     0.279550     0.252700     0.381400   \n",
              "7827      0.336717     0.360175     0.375850     0.390583     0.390475   \n",
              "26335     1.000000     0.964927     0.995503     0.964193     0.997373   \n",
              "13754     0.091200     0.067820     0.083647     0.052407     0.030613   \n",
              "15649     1.000000     1.000000     1.000000     1.000000     0.987424   \n",
              "1717      0.941441     0.990553     0.991812     0.993659     0.992100   \n",
              "1547      0.402080     0.449420     0.437700     0.320660     0.337740   \n",
              "14271     0.872714     0.885614     0.898636     0.906144     0.913736   \n",
              "20634     1.000000     1.000000     0.233725     0.756550     0.188587   \n",
              "13163     1.000000     1.000000     1.000000     0.870167     0.911867   \n",
              "7332      0.921159     0.929891     0.935768     0.922091     0.929086   \n",
              "18538     0.009900     0.051200    -0.022200     0.977800     0.831650   \n",
              "8234      0.135500     0.154533     0.171867     0.054700     0.087467   \n",
              "16436     0.989200     0.978400     0.484500     0.510240     0.532400   \n",
              "22280     0.389336     0.401545     0.006759     0.022095     0.040741   \n",
              "28991     0.263675     0.203962     0.039381     0.011525     0.031231   \n",
              "\n",
              "       Closeness_1  def_pay  \n",
              "5778      0.084667        0  \n",
              "6269      0.999650        0  \n",
              "14130     0.589196        0  \n",
              "9127      0.397425        0  \n",
              "24716     0.421350        1  \n",
              "7827      0.742292        0  \n",
              "26335     0.997067        1  \n",
              "13754     0.056933        0  \n",
              "15649     0.873067        0  \n",
              "1717      0.974506        1  \n",
              "1547      0.389980        0  \n",
              "14271     0.921414        0  \n",
              "20634     0.329663        0  \n",
              "13163     0.879767        1  \n",
              "7332      0.935245        0  \n",
              "18538     0.474350        0  \n",
              "8234      0.123300        0  \n",
              "16436     0.552460        0  \n",
              "22280     0.059641        1  \n",
              "28991     0.002269        0  "
            ]
          },
          "metadata": {
            "tags": []
          },
          "execution_count": 69
        }
      ]
    },
    {
      "metadata": {
        "id": "hmIFsxNuw3nr",
        "colab_type": "text"
      },
      "cell_type": "markdown",
      "source": [
        "#Feature Selection"
      ]
    },
    {
      "metadata": {
        "id": "jNzWrXvuxK27",
        "colab_type": "text"
      },
      "cell_type": "markdown",
      "source": [
        "First, I decide which features I want to include in my models and split the data into training and testing set. It is very important to never let the learning algorithm \"see\" the testing set or you will always be considered a cheater.\n",
        "\n",
        "I will not include the PAY_n features because I don't know how they appear, I will use AgeBin rather than AGE, I will not include SEX because the small correlation do not make sense to me and I have created two categories that include SEX"
      ]
    },
    {
      "metadata": {
        "id": "TjjZy_dNwbs9",
        "colab_type": "code",
        "outputId": "350fecc6-1472-46bc-c8e6-597780e3d841",
        "colab": {
          "base_uri": "https://localhost:8080/",
          "height": 72
        }
      },
      "cell_type": "code",
      "source": [
        "features = ['LIMIT_BAL', 'EDUCATION', 'MARRIAGE', 'PAY_1','PAY_2', 'PAY_3', \n",
        "            'PAY_4', 'PAY_5', 'PAY_6','BILL_AMT1', 'BILL_AMT2',\n",
        "            'BILL_AMT3', 'BILL_AMT4', 'BILL_AMT5', 'BILL_AMT6', 'PAY_AMT1',\n",
        "            'PAY_AMT2', 'PAY_AMT3', 'PAY_AMT4', 'PAY_AMT5', 'PAY_AMT6', \n",
        "            'SE_MA', 'AgeBin', 'SE_AG', 'Avg_exp_5', 'Avg_exp_4',\n",
        "            'Avg_exp_3', 'Avg_exp_2', 'Avg_exp_1', 'Closeness_5',\n",
        "            'Closeness_4', 'Closeness_3', 'Closeness_2','Closeness_1']\n",
        "y = df['def_pay'].copy() # target\n",
        "X = df[features].copy()\n",
        "from sklearn.cross_validation import train_test_split\n",
        "X_train, X_test, y_train, y_test = train_test_split(X, y, test_size=0.20, random_state=42)"
      ],
      "execution_count": 0,
      "outputs": [
        {
          "output_type": "stream",
          "text": [
            "/usr/local/lib/python3.6/dist-packages/sklearn/cross_validation.py:41: DeprecationWarning: This module was deprecated in version 0.18 in favor of the model_selection module into which all the refactored classes and functions are moved. Also note that the interface of the new CV iterators are different from that of this module. This module will be removed in 0.20.\n",
            "  \"This module will be removed in 0.20.\", DeprecationWarning)\n"
          ],
          "name": "stderr"
        }
      ]
    },
    {
      "metadata": {
        "id": "akYitsLaxeiu",
        "colab_type": "code",
        "outputId": "1dcbaec1-4037-48f2-a502-7f32ff377c8a",
        "colab": {
          "base_uri": "https://localhost:8080/",
          "height": 52
        }
      },
      "cell_type": "code",
      "source": [
        "print(X_train.shape)\n",
        "print(X_test.shape)"
      ],
      "execution_count": 0,
      "outputs": [
        {
          "output_type": "stream",
          "text": [
            "(24000, 34)\n",
            "(6000, 34)\n"
          ],
          "name": "stdout"
        }
      ]
    },
    {
      "metadata": {
        "id": "ZF0GQXHYEWCE",
        "colab_type": "text"
      },
      "cell_type": "markdown",
      "source": [
        "#Sampling"
      ]
    },
    {
      "metadata": {
        "id": "N0kRt-MMEaaG",
        "colab_type": "text"
      },
      "cell_type": "markdown",
      "source": [
        "Samples,\n",
        "\n",
        "Within my train dataset I still have a certain unbalance in the target class,\n",
        "\n",
        "thus I can do the following:\n",
        "\n",
        "I don't care, I will just pick the best model\n",
        "\n",
        "I upsample the minority class\n",
        "\n",
        "I downsample the majority class\n",
        "\n",
        "I create a syntetic sample\n",
        "\n",
        "I will just do all of it and see how it goes.\n",
        "\n",
        "IMPORTANT: everything will happen on the train dataset"
      ]
    },
    {
      "metadata": {
        "id": "kNg-Ng9uEZu7",
        "colab_type": "code",
        "outputId": "2229c834-ebfc-41ad-d343-cdc7bf381e1d",
        "colab": {
          "base_uri": "https://localhost:8080/",
          "height": 396
        }
      },
      "cell_type": "code",
      "source": [
        "df_train = X_train.join(y_train)\n",
        "df_train.sample(10)"
      ],
      "execution_count": 0,
      "outputs": [
        {
          "output_type": "execute_result",
          "data": {
            "text/html": [
              "<div>\n",
              "<style scoped>\n",
              "    .dataframe tbody tr th:only-of-type {\n",
              "        vertical-align: middle;\n",
              "    }\n",
              "\n",
              "    .dataframe tbody tr th {\n",
              "        vertical-align: top;\n",
              "    }\n",
              "\n",
              "    .dataframe thead th {\n",
              "        text-align: right;\n",
              "    }\n",
              "</style>\n",
              "<table border=\"1\" class=\"dataframe\">\n",
              "  <thead>\n",
              "    <tr style=\"text-align: right;\">\n",
              "      <th></th>\n",
              "      <th>LIMIT_BAL</th>\n",
              "      <th>EDUCATION</th>\n",
              "      <th>MARRIAGE</th>\n",
              "      <th>PAY_1</th>\n",
              "      <th>PAY_2</th>\n",
              "      <th>PAY_3</th>\n",
              "      <th>PAY_4</th>\n",
              "      <th>PAY_5</th>\n",
              "      <th>PAY_6</th>\n",
              "      <th>BILL_AMT1</th>\n",
              "      <th>...</th>\n",
              "      <th>Avg_exp_4</th>\n",
              "      <th>Avg_exp_3</th>\n",
              "      <th>Avg_exp_2</th>\n",
              "      <th>Avg_exp_1</th>\n",
              "      <th>Closeness_5</th>\n",
              "      <th>Closeness_4</th>\n",
              "      <th>Closeness_3</th>\n",
              "      <th>Closeness_2</th>\n",
              "      <th>Closeness_1</th>\n",
              "      <th>def_pay</th>\n",
              "    </tr>\n",
              "  </thead>\n",
              "  <tbody>\n",
              "    <tr>\n",
              "      <th>13386</th>\n",
              "      <td>150000.0</td>\n",
              "      <td>3</td>\n",
              "      <td>1</td>\n",
              "      <td>0</td>\n",
              "      <td>0</td>\n",
              "      <td>0</td>\n",
              "      <td>0</td>\n",
              "      <td>0</td>\n",
              "      <td>0</td>\n",
              "      <td>108755.0</td>\n",
              "      <td>...</td>\n",
              "      <td>0.010200</td>\n",
              "      <td>0.010136</td>\n",
              "      <td>0.012553</td>\n",
              "      <td>0.011861</td>\n",
              "      <td>0.210873</td>\n",
              "      <td>0.227693</td>\n",
              "      <td>0.242780</td>\n",
              "      <td>0.249640</td>\n",
              "      <td>0.274967</td>\n",
              "      <td>0</td>\n",
              "    </tr>\n",
              "    <tr>\n",
              "      <th>9369</th>\n",
              "      <td>360000.0</td>\n",
              "      <td>2</td>\n",
              "      <td>2</td>\n",
              "      <td>0</td>\n",
              "      <td>0</td>\n",
              "      <td>0</td>\n",
              "      <td>0</td>\n",
              "      <td>0</td>\n",
              "      <td>0</td>\n",
              "      <td>336179.0</td>\n",
              "      <td>...</td>\n",
              "      <td>0.043592</td>\n",
              "      <td>0.048582</td>\n",
              "      <td>0.050176</td>\n",
              "      <td>0.134129</td>\n",
              "      <td>0.635150</td>\n",
              "      <td>0.596744</td>\n",
              "      <td>0.552158</td>\n",
              "      <td>0.517275</td>\n",
              "      <td>0.066169</td>\n",
              "      <td>0</td>\n",
              "    </tr>\n",
              "    <tr>\n",
              "      <th>18681</th>\n",
              "      <td>20000.0</td>\n",
              "      <td>1</td>\n",
              "      <td>2</td>\n",
              "      <td>0</td>\n",
              "      <td>0</td>\n",
              "      <td>0</td>\n",
              "      <td>0</td>\n",
              "      <td>0</td>\n",
              "      <td>0</td>\n",
              "      <td>4734.0</td>\n",
              "      <td>...</td>\n",
              "      <td>0.000000</td>\n",
              "      <td>0.000000</td>\n",
              "      <td>0.000000</td>\n",
              "      <td>0.047340</td>\n",
              "      <td>1.000000</td>\n",
              "      <td>1.000000</td>\n",
              "      <td>1.000000</td>\n",
              "      <td>1.000000</td>\n",
              "      <td>0.763300</td>\n",
              "      <td>1</td>\n",
              "    </tr>\n",
              "    <tr>\n",
              "      <th>6265</th>\n",
              "      <td>90000.0</td>\n",
              "      <td>2</td>\n",
              "      <td>1</td>\n",
              "      <td>0</td>\n",
              "      <td>0</td>\n",
              "      <td>0</td>\n",
              "      <td>0</td>\n",
              "      <td>0</td>\n",
              "      <td>0</td>\n",
              "      <td>88758.0</td>\n",
              "      <td>...</td>\n",
              "      <td>0.063844</td>\n",
              "      <td>0.196574</td>\n",
              "      <td>0.156572</td>\n",
              "      <td>0.131876</td>\n",
              "      <td>0.485533</td>\n",
              "      <td>0.445311</td>\n",
              "      <td>0.001378</td>\n",
              "      <td>0.003556</td>\n",
              "      <td>0.013800</td>\n",
              "      <td>0</td>\n",
              "    </tr>\n",
              "    <tr>\n",
              "      <th>22308</th>\n",
              "      <td>20000.0</td>\n",
              "      <td>2</td>\n",
              "      <td>2</td>\n",
              "      <td>0</td>\n",
              "      <td>0</td>\n",
              "      <td>0</td>\n",
              "      <td>0</td>\n",
              "      <td>0</td>\n",
              "      <td>0</td>\n",
              "      <td>14248.0</td>\n",
              "      <td>...</td>\n",
              "      <td>0.095150</td>\n",
              "      <td>0.073650</td>\n",
              "      <td>0.062275</td>\n",
              "      <td>0.055270</td>\n",
              "      <td>0.069750</td>\n",
              "      <td>0.093650</td>\n",
              "      <td>0.143000</td>\n",
              "      <td>0.214850</td>\n",
              "      <td>0.287600</td>\n",
              "      <td>0</td>\n",
              "    </tr>\n",
              "    <tr>\n",
              "      <th>5531</th>\n",
              "      <td>190000.0</td>\n",
              "      <td>2</td>\n",
              "      <td>2</td>\n",
              "      <td>1</td>\n",
              "      <td>0</td>\n",
              "      <td>0</td>\n",
              "      <td>0</td>\n",
              "      <td>0</td>\n",
              "      <td>0</td>\n",
              "      <td>0.0</td>\n",
              "      <td>...</td>\n",
              "      <td>0.011734</td>\n",
              "      <td>0.007823</td>\n",
              "      <td>0.005867</td>\n",
              "      <td>0.004694</td>\n",
              "      <td>0.997384</td>\n",
              "      <td>0.988153</td>\n",
              "      <td>0.988153</td>\n",
              "      <td>1.000000</td>\n",
              "      <td>1.000000</td>\n",
              "      <td>0</td>\n",
              "    </tr>\n",
              "    <tr>\n",
              "      <th>25999</th>\n",
              "      <td>20000.0</td>\n",
              "      <td>2</td>\n",
              "      <td>1</td>\n",
              "      <td>0</td>\n",
              "      <td>0</td>\n",
              "      <td>0</td>\n",
              "      <td>0</td>\n",
              "      <td>0</td>\n",
              "      <td>0</td>\n",
              "      <td>10001.0</td>\n",
              "      <td>...</td>\n",
              "      <td>0.083750</td>\n",
              "      <td>0.112900</td>\n",
              "      <td>0.291975</td>\n",
              "      <td>0.145150</td>\n",
              "      <td>0.924500</td>\n",
              "      <td>0.832850</td>\n",
              "      <td>0.712000</td>\n",
              "      <td>-0.042200</td>\n",
              "      <td>0.499950</td>\n",
              "      <td>0</td>\n",
              "    </tr>\n",
              "    <tr>\n",
              "      <th>8132</th>\n",
              "      <td>310000.0</td>\n",
              "      <td>2</td>\n",
              "      <td>2</td>\n",
              "      <td>0</td>\n",
              "      <td>0</td>\n",
              "      <td>0</td>\n",
              "      <td>0</td>\n",
              "      <td>0</td>\n",
              "      <td>0</td>\n",
              "      <td>107.0</td>\n",
              "      <td>...</td>\n",
              "      <td>0.000379</td>\n",
              "      <td>0.000253</td>\n",
              "      <td>0.000190</td>\n",
              "      <td>0.000221</td>\n",
              "      <td>1.000000</td>\n",
              "      <td>0.999242</td>\n",
              "      <td>1.000000</td>\n",
              "      <td>1.000000</td>\n",
              "      <td>0.999655</td>\n",
              "      <td>0</td>\n",
              "    </tr>\n",
              "    <tr>\n",
              "      <th>1753</th>\n",
              "      <td>60000.0</td>\n",
              "      <td>2</td>\n",
              "      <td>1</td>\n",
              "      <td>0</td>\n",
              "      <td>0</td>\n",
              "      <td>0</td>\n",
              "      <td>0</td>\n",
              "      <td>0</td>\n",
              "      <td>0</td>\n",
              "      <td>33147.0</td>\n",
              "      <td>...</td>\n",
              "      <td>0.038617</td>\n",
              "      <td>0.273289</td>\n",
              "      <td>0.223067</td>\n",
              "      <td>0.188943</td>\n",
              "      <td>0.539000</td>\n",
              "      <td>0.523183</td>\n",
              "      <td>0.063883</td>\n",
              "      <td>0.091483</td>\n",
              "      <td>0.447550</td>\n",
              "      <td>0</td>\n",
              "    </tr>\n",
              "    <tr>\n",
              "      <th>15186</th>\n",
              "      <td>80000.0</td>\n",
              "      <td>2</td>\n",
              "      <td>2</td>\n",
              "      <td>0</td>\n",
              "      <td>0</td>\n",
              "      <td>0</td>\n",
              "      <td>0</td>\n",
              "      <td>0</td>\n",
              "      <td>0</td>\n",
              "      <td>60423.0</td>\n",
              "      <td>...</td>\n",
              "      <td>0.117744</td>\n",
              "      <td>0.089254</td>\n",
              "      <td>0.181669</td>\n",
              "      <td>0.163610</td>\n",
              "      <td>0.952375</td>\n",
              "      <td>0.764513</td>\n",
              "      <td>0.744912</td>\n",
              "      <td>0.311000</td>\n",
              "      <td>0.244712</td>\n",
              "      <td>0</td>\n",
              "    </tr>\n",
              "  </tbody>\n",
              "</table>\n",
              "<p>10 rows × 35 columns</p>\n",
              "</div>"
            ],
            "text/plain": [
              "       LIMIT_BAL  EDUCATION  MARRIAGE  PAY_1  PAY_2  PAY_3  PAY_4  PAY_5  \\\n",
              "13386   150000.0          3         1      0      0      0      0      0   \n",
              "9369    360000.0          2         2      0      0      0      0      0   \n",
              "18681    20000.0          1         2      0      0      0      0      0   \n",
              "6265     90000.0          2         1      0      0      0      0      0   \n",
              "22308    20000.0          2         2      0      0      0      0      0   \n",
              "5531    190000.0          2         2      1      0      0      0      0   \n",
              "25999    20000.0          2         1      0      0      0      0      0   \n",
              "8132    310000.0          2         2      0      0      0      0      0   \n",
              "1753     60000.0          2         1      0      0      0      0      0   \n",
              "15186    80000.0          2         2      0      0      0      0      0   \n",
              "\n",
              "       PAY_6  BILL_AMT1   ...     Avg_exp_4  Avg_exp_3  Avg_exp_2  Avg_exp_1  \\\n",
              "13386      0   108755.0   ...      0.010200   0.010136   0.012553   0.011861   \n",
              "9369       0   336179.0   ...      0.043592   0.048582   0.050176   0.134129   \n",
              "18681      0     4734.0   ...      0.000000   0.000000   0.000000   0.047340   \n",
              "6265       0    88758.0   ...      0.063844   0.196574   0.156572   0.131876   \n",
              "22308      0    14248.0   ...      0.095150   0.073650   0.062275   0.055270   \n",
              "5531       0        0.0   ...      0.011734   0.007823   0.005867   0.004694   \n",
              "25999      0    10001.0   ...      0.083750   0.112900   0.291975   0.145150   \n",
              "8132       0      107.0   ...      0.000379   0.000253   0.000190   0.000221   \n",
              "1753       0    33147.0   ...      0.038617   0.273289   0.223067   0.188943   \n",
              "15186      0    60423.0   ...      0.117744   0.089254   0.181669   0.163610   \n",
              "\n",
              "       Closeness_5  Closeness_4  Closeness_3  Closeness_2  Closeness_1  \\\n",
              "13386     0.210873     0.227693     0.242780     0.249640     0.274967   \n",
              "9369      0.635150     0.596744     0.552158     0.517275     0.066169   \n",
              "18681     1.000000     1.000000     1.000000     1.000000     0.763300   \n",
              "6265      0.485533     0.445311     0.001378     0.003556     0.013800   \n",
              "22308     0.069750     0.093650     0.143000     0.214850     0.287600   \n",
              "5531      0.997384     0.988153     0.988153     1.000000     1.000000   \n",
              "25999     0.924500     0.832850     0.712000    -0.042200     0.499950   \n",
              "8132      1.000000     0.999242     1.000000     1.000000     0.999655   \n",
              "1753      0.539000     0.523183     0.063883     0.091483     0.447550   \n",
              "15186     0.952375     0.764513     0.744912     0.311000     0.244712   \n",
              "\n",
              "       def_pay  \n",
              "13386        0  \n",
              "9369         0  \n",
              "18681        1  \n",
              "6265         0  \n",
              "22308        0  \n",
              "5531         0  \n",
              "25999        0  \n",
              "8132         0  \n",
              "1753         0  \n",
              "15186        0  \n",
              "\n",
              "[10 rows x 35 columns]"
            ]
          },
          "metadata": {
            "tags": []
          },
          "execution_count": 72
        }
      ]
    },
    {
      "metadata": {
        "id": "cM1gUVMREZqM",
        "colab_type": "code",
        "outputId": "30ec08dd-b52e-4e17-ef1a-f3d312212607",
        "colab": {
          "base_uri": "https://localhost:8080/",
          "height": 141
        }
      },
      "cell_type": "code",
      "source": [
        "from sklearn.utils import resample\n",
        "\n",
        "df_majority = df_train[df_train.def_pay==0]\n",
        "df_minority = df_train[df_train.def_pay==1]\n",
        "\n",
        "print(df_majority.def_pay.count())\n",
        "print(\"-----------\")\n",
        "print(df_minority.def_pay.count())\n",
        "print(\"-----------\")\n",
        "print(df_train.def_pay.value_counts())"
      ],
      "execution_count": 0,
      "outputs": [
        {
          "output_type": "stream",
          "text": [
            "18677\n",
            "-----------\n",
            "5323\n",
            "-----------\n",
            "0    18677\n",
            "1     5323\n",
            "Name: def_pay, dtype: int64\n"
          ],
          "name": "stdout"
        }
      ]
    },
    {
      "metadata": {
        "id": "5bBgSw_mFs5T",
        "colab_type": "code",
        "outputId": "73f2b957-c34a-4560-d34c-af0b8cc6c4bd",
        "colab": {
          "base_uri": "https://localhost:8080/",
          "height": 70
        }
      },
      "cell_type": "code",
      "source": [
        "df_minority_upsampled = resample(df_minority, \n",
        "                                 replace=True,     # sample with replacement\n",
        "                                 n_samples=18677,    # to match majority class\n",
        "                                 random_state=0) # reproducible results\n",
        "# Combine majority class with upsampled minority class\n",
        "df_upsampled = pd.concat([df_majority, df_minority_upsampled])\n",
        "# Display new class counts\n",
        "df_upsampled.def_pay.value_counts()"
      ],
      "execution_count": 0,
      "outputs": [
        {
          "output_type": "execute_result",
          "data": {
            "text/plain": [
              "1    18677\n",
              "0    18677\n",
              "Name: def_pay, dtype: int64"
            ]
          },
          "metadata": {
            "tags": []
          },
          "execution_count": 74
        }
      ]
    },
    {
      "metadata": {
        "id": "aQo7DpMYF4Bk",
        "colab_type": "code",
        "outputId": "87a2fd98-7fd5-4ad5-8106-7fbda85cbcea",
        "colab": {
          "base_uri": "https://localhost:8080/",
          "height": 70
        }
      },
      "cell_type": "code",
      "source": [
        "df_majority_downsampled = resample(df_majority, \n",
        "                                 replace=False,    # sample without replacement\n",
        "                                 n_samples=5323,     # to match minority class\n",
        "                                 random_state=0) # reproducible results\n",
        "# Combine minority class with downsampled majority class\n",
        "df_downsampled = pd.concat([df_majority_downsampled, df_minority])\n",
        "# Display new class counts\n",
        "df_downsampled.def_pay.value_counts()"
      ],
      "execution_count": 0,
      "outputs": [
        {
          "output_type": "execute_result",
          "data": {
            "text/plain": [
              "1    5323\n",
              "0    5323\n",
              "Name: def_pay, dtype: int64"
            ]
          },
          "metadata": {
            "tags": []
          },
          "execution_count": 75
        }
      ]
    },
    {
      "metadata": {
        "id": "3K6h1a0Q5Pfu",
        "colab_type": "text"
      },
      "cell_type": "markdown",
      "source": [
        "#Model Selection and Model Evaluation"
      ]
    },
    {
      "metadata": {
        "id": "Wu16eYR95WXG",
        "colab_type": "text"
      },
      "cell_type": "markdown",
      "source": [
        "##KNN"
      ]
    },
    {
      "metadata": {
        "id": "5Lc9JucB01Cy",
        "colab_type": "code",
        "outputId": "d31bbe58-b6e4-4342-e182-0c00bc4825a2",
        "colab": {
          "base_uri": "https://localhost:8080/",
          "height": 72
        }
      },
      "cell_type": "code",
      "source": [
        "from sklearn.neighbors import KNeighborsClassifier\n",
        "from sklearn.cross_validation import cross_val_score"
      ],
      "execution_count": 0,
      "outputs": [
        {
          "output_type": "stream",
          "text": [
            "/usr/local/lib/python3.6/dist-packages/sklearn/cross_validation.py:41: DeprecationWarning: This module was deprecated in version 0.18 in favor of the model_selection module into which all the refactored classes and functions are moved. Also note that the interface of the new CV iterators are different from that of this module. This module will be removed in 0.20.\n",
            "  \"This module will be removed in 0.20.\", DeprecationWarning)\n"
          ],
          "name": "stderr"
        }
      ]
    },
    {
      "metadata": {
        "id": "PI_lYEQWz177",
        "colab_type": "code",
        "outputId": "b310b7e6-553f-467a-e153-301780f2dc44",
        "colab": {
          "base_uri": "https://localhost:8080/",
          "height": 367
        }
      },
      "cell_type": "code",
      "source": [
        "\n",
        "\n",
        "\n",
        "myList = list(range(0,30,2))\n",
        "neighbors = list(filter(lambda x: x % 2 != 0, myList))\n",
        "\n",
        "cv_scores = []\n",
        "for k in neighbors:\n",
        "    knn = KNeighborsClassifier(n_neighbors=k)\n",
        "    scores = cross_val_score(knn, X_train, y_train, cv=10, scoring='f1')\n",
        "    cv_scores.append(scores.mean())\n",
        "\n",
        "MSE = [1 - x for x in cv_scores]\n",
        "optimal_k = neighbors[MSE.index(min(MSE))]\n",
        "print('\\nThe optimal number of neighbors is %d.' % optimal_k)\n",
        "\n",
        "plt.plot(neighbors, MSE)\n",
        "\n",
        "for xy in zip(neighbors, np.round(MSE,3)):\n",
        "    plt.annotate('(%s, %s)' % xy, xy=xy, textcoords='data')\n",
        "\n",
        "plt.xlabel('Number of Neighbors K')\n",
        "plt.ylabel('Misclassification Error')\n",
        "plt.show()\n",
        "\n",
        "print(\"the misclassification error for each k value is : \", np.round(MSE,3))"
      ],
      "execution_count": 0,
      "outputs": [
        {
          "output_type": "stream",
          "text": [
            "\n",
            "The optimal number of neighbors is 29.\n"
          ],
          "name": "stdout"
        },
        {
          "output_type": "display_data",
          "data": {
            "image/png": "[encoded data removed]",
            "text/plain": [
              "<matplotlib.figure.Figure at 0x7f958c34fda0>"
            ]
          },
          "metadata": {
            "tags": []
          }
        },
        {
          "output_type": "stream",
          "text": [
            "the misclassification error for each k value is :  [0.306 0.269 0.249 0.241 0.236 0.232 0.229 0.228 0.228 0.228 0.227 0.225\n",
            " 0.225 0.224 0.223]\n"
          ],
          "name": "stdout"
        }
      ]
    },
    {
      "metadata": {
        "id": "s5KxsrcV0yw6",
        "colab_type": "code",
        "outputId": "6a61ed08-6fb1-4520-96e0-71b4fe561aad",
        "colab": {
          "base_uri": "https://localhost:8080/",
          "height": 68
        }
      },
      "cell_type": "code",
      "source": [
        "knn = KNeighborsClassifier(n_neighbors=29)\n",
        "knn.fit( X_train, y_train)"
      ],
      "execution_count": 0,
      "outputs": [
        {
          "output_type": "execute_result",
          "data": {
            "text/plain": [
              "KNeighborsClassifier(algorithm='auto', leaf_size=30, metric='minkowski',\n",
              "           metric_params=None, n_jobs=1, n_neighbors=29, p=2,\n",
              "           weights='uniform')"
            ]
          },
          "metadata": {
            "tags": []
          },
          "execution_count": 83
        }
      ]
    },
    {
      "metadata": {
        "id": "mP6gy5tu3iBO",
        "colab_type": "code",
        "colab": {}
      },
      "cell_type": "code",
      "source": [
        "cv_scores"
      ],
      "execution_count": 0,
      "outputs": []
    },
    {
      "metadata": {
        "id": "cwemFRpy168c",
        "colab_type": "code",
        "colab": {}
      },
      "cell_type": "code",
      "source": [
        "pred=knn.predict(X_test)"
      ],
      "execution_count": 0,
      "outputs": []
    },
    {
      "metadata": {
        "id": "ghMG7dEK2Fj5",
        "colab_type": "code",
        "outputId": "178e0e18-f86e-4796-f590-6e933eff37ec",
        "colab": {
          "base_uri": "https://localhost:8080/",
          "height": 68
        }
      },
      "cell_type": "code",
      "source": [
        "from sklearn.metrics import confusion_matrix\n",
        "from sklearn.metrics import accuracy_score\n",
        "from sklearn.metrics import f1_score\n",
        "cm=confusion_matrix(y_test,pred)\n",
        "acc=accuracy_score(y_test,pred)\n",
        "print(cm)\n",
        "print(acc)"
      ],
      "execution_count": 0,
      "outputs": [
        {
          "output_type": "stream",
          "text": [
            "[[6879  181]\n",
            " [1745  195]]\n",
            "0.786\n"
          ],
          "name": "stdout"
        }
      ]
    },
    {
      "metadata": {
        "id": "DMuXvODd2nC3",
        "colab_type": "code",
        "outputId": "07968d74-9201-4381-b7df-b16093b375b0",
        "colab": {
          "base_uri": "https://localhost:8080/",
          "height": 561
        }
      },
      "cell_type": "code",
      "source": [
        "\n",
        "X_1, X_test, y_1, y_test =train_test_split(X, y, test_size=0.3, random_state=0)\n",
        "\n",
        "X_tr, X_cv, y_tr, y_cv =train_test_split(X_1, y_1, test_size=0.3)\n",
        "\n",
        "for i in range(1,30,2):\n",
        "\n",
        "    knn = KNeighborsClassifier(n_neighbors=i)\n",
        "    knn.fit(X_tr, y_tr)\n",
        "    pred = knn.predict(X_cv)\n",
        "    f1 =f1_score(y_cv, pred) * float(100)\n",
        "    acc = accuracy_score(y_cv, pred, normalize=True) * float(100)\n",
        "    print('\\nCV accuracy for k = {} is {} and f1 score is {}' .format (i,acc,f1))\n",
        "    \n",
        "knn = KNeighborsClassifier(1)\n",
        "knn.fit(X_tr,y_tr)\n",
        "pred = knn.predict(X_test)\n",
        "acc = accuracy_score(y_test, pred, normalize=True) * float(100)\n",
        "print('\\n****Test accuracy for k = 1 is %d%%' % (acc))"
      ],
      "execution_count": 0,
      "outputs": [
        {
          "output_type": "stream",
          "text": [
            "\n",
            "CV accuracy for k = 1 is 68.53968253968254 and f1 score is 30.309423347398027\n",
            "\n",
            "CV accuracy for k = 3 is 72.26984126984128 and f1 score is 26.689047419219474\n",
            "\n",
            "CV accuracy for k = 5 is 74.53968253968254 and f1 score is 23.253588516746408\n",
            "\n",
            "CV accuracy for k = 7 is 75.68253968253968 and f1 score is 23.015075376884422\n",
            "\n",
            "CV accuracy for k = 9 is 76.25396825396825 and f1 score is 22.164412070759624\n",
            "\n",
            "CV accuracy for k = 11 is 76.5873015873016 and f1 score is 21.500798296966472\n",
            "\n",
            "CV accuracy for k = 13 is 76.87301587301587 and f1 score is 20.772158781946708\n",
            "\n",
            "CV accuracy for k = 15 is 76.5079365079365 and f1 score is 17.777777777777775\n",
            "\n",
            "CV accuracy for k = 17 is 77.03174603174602 and f1 score is 18.29474872953134\n",
            "\n",
            "CV accuracy for k = 19 is 76.93650793650794 and f1 score is 16.73352435530086\n",
            "\n",
            "CV accuracy for k = 21 is 77.04761904761904 and f1 score is 16.22247972190035\n",
            "\n",
            "CV accuracy for k = 23 is 76.93650793650794 and f1 score is 15.474112856311809\n",
            "\n",
            "CV accuracy for k = 25 is 77.14285714285715 and f1 score is 15.69086651053864\n",
            "\n",
            "CV accuracy for k = 27 is 77.0 and f1 score is 14.614024749558045\n",
            "\n",
            "CV accuracy for k = 29 is 77.09523809523809 and f1 score is 14.463544754001184\n",
            "\n",
            "****Test accuracy for k = 1 is 69%\n"
          ],
          "name": "stdout"
        }
      ]
    },
    {
      "metadata": {
        "id": "wWZjgzLO2_sf",
        "colab_type": "code",
        "outputId": "8ae15ebe-13d1-4cd5-d391-f1126dfc203a",
        "colab": {
          "base_uri": "https://localhost:8080/",
          "height": 68
        }
      },
      "cell_type": "code",
      "source": [
        "knn = KNeighborsClassifier(n_neighbors=3,weights='distance')\n",
        "knn.fit( X_train, y_train)"
      ],
      "execution_count": 0,
      "outputs": [
        {
          "output_type": "execute_result",
          "data": {
            "text/plain": [
              "KNeighborsClassifier(algorithm='auto', leaf_size=30, metric='minkowski',\n",
              "           metric_params=None, n_jobs=1, n_neighbors=3, p=2,\n",
              "           weights='distance')"
            ]
          },
          "metadata": {
            "tags": []
          },
          "execution_count": 88
        }
      ]
    },
    {
      "metadata": {
        "id": "cd0-lealIZEh",
        "colab_type": "code",
        "colab": {}
      },
      "cell_type": "code",
      "source": [
        "pred=knn.predict(X_test)"
      ],
      "execution_count": 0,
      "outputs": []
    },
    {
      "metadata": {
        "id": "UYzB8nq2KVpo",
        "colab_type": "code",
        "outputId": "5af34745-db5b-4a8a-f354-fa5a05ae3952",
        "colab": {
          "base_uri": "https://localhost:8080/",
          "height": 34
        }
      },
      "cell_type": "code",
      "source": [
        "X_test.shape"
      ],
      "execution_count": 0,
      "outputs": [
        {
          "output_type": "execute_result",
          "data": {
            "text/plain": [
              "(9000, 34)"
            ]
          },
          "metadata": {
            "tags": []
          },
          "execution_count": 90
        }
      ]
    },
    {
      "metadata": {
        "id": "a_S03RO96moV",
        "colab_type": "code",
        "outputId": "46a8a44f-d414-413b-9dc3-3e607b43ea88",
        "colab": {
          "base_uri": "https://localhost:8080/",
          "height": 68
        }
      },
      "cell_type": "code",
      "source": [
        "cm=confusion_matrix(y_test,pred)\n",
        "acc=accuracy_score(y_test,pred)\n",
        "print(cm)\n",
        "print(acc)"
      ],
      "execution_count": 0,
      "outputs": [
        {
          "output_type": "stream",
          "text": [
            "[[6873  187]\n",
            " [ 328 1612]]\n",
            "0.9427777777777778\n"
          ],
          "name": "stdout"
        }
      ]
    },
    {
      "metadata": {
        "id": "scHpxeAW6oFf",
        "colab_type": "code",
        "outputId": "ead5d492-d620-4744-fe68-1b68e86ca9c4",
        "colab": {
          "base_uri": "https://localhost:8080/",
          "height": 282
        }
      },
      "cell_type": "code",
      "source": [
        "sns.heatmap(cm,annot=True)"
      ],
      "execution_count": 0,
      "outputs": [
        {
          "output_type": "execute_result",
          "data": {
            "text/plain": [
              "<matplotlib.axes._subplots.AxesSubplot at 0x7f958c01eb00>"
            ]
          },
          "metadata": {
            "tags": []
          },
          "execution_count": 92
        },
        {
          "output_type": "display_data",
          "data": {
            "image/png": "[encoded data removed]",
            "text/plain": [
              "<matplotlib.figure.Figure at 0x7f958c0abe80>"
            ]
          },
          "metadata": {
            "tags": []
          }
        }
      ]
    },
    {
      "metadata": {
        "id": "Hzz-2mwIG-x7",
        "colab_type": "code",
        "colab": {}
      },
      "cell_type": "code",
      "source": [
        "X1=df_upsampled.drop('def_pay',axis=1)\n",
        "y1=df_upsampled['def_pay']"
      ],
      "execution_count": 0,
      "outputs": []
    },
    {
      "metadata": {
        "id": "-7qd4sam79AG",
        "colab_type": "code",
        "outputId": "86e73d58-93f8-4a3d-e51b-8c2b1688a3c0",
        "colab": {
          "base_uri": "https://localhost:8080/",
          "height": 527
        }
      },
      "cell_type": "code",
      "source": [
        "X_1, X_cv1, y_1, y_cv1 =train_test_split(X1, y1, test_size=0.3, random_state=0)\n",
        "\n",
        "\n",
        "for i in range(1,30,2):\n",
        "\n",
        "    knn = KNeighborsClassifier(n_neighbors=i)\n",
        "    knn.fit(X_1, y_1)\n",
        "    pred = knn.predict(X_cv1)\n",
        "    f1 =f1_score(y_cv1, pred) * float(100)\n",
        "    acc = accuracy_score(y_cv1, pred, normalize=True) * float(100)\n",
        "    print('\\nCV accuracy for k = {} is {} and f1 score is {}' .format (i,acc,f1))\n",
        "    \n",
        "knn = KNeighborsClassifier(1)\n",
        "knn.fit(X_tr,y_tr)\n",
        "pred = knn.predict(X_test)\n",
        "acc = accuracy_score(y_test, pred, normalize=True) * float(100)\n",
        "print('\\n****Test accuracy for k = 1 is %d%%' % (acc))"
      ],
      "execution_count": 0,
      "outputs": [
        {
          "output_type": "stream",
          "text": [
            "\n",
            "CV accuracy for k = 1 is 85.58044079593111 and f1 score is 86.70396577258515\n",
            "\n",
            "CV accuracy for k = 3 is 75.42607299009548 and f1 score is 77.70401554404145\n",
            "\n",
            "CV accuracy for k = 5 is 70.27750513072188 and f1 score is 72.53689504493363\n",
            "\n",
            "CV accuracy for k = 9 is 67.52922280717408 and f1 score is 69.272988263109\n",
            "\n",
            "CV accuracy for k = 11 is 66.81538324261622 and f1 score is 68.48037969319434\n",
            "\n",
            "CV accuracy for k = 13 is 66.17292763451414 and f1 score is 67.79373035426048\n",
            "\n",
            "CV accuracy for k = 15 is 65.6197019719818 and f1 score is 67.23918034180767\n",
            "\n",
            "CV accuracy for k = 17 is 65.6197019719818 and f1 score is 67.22803436250744\n",
            "\n",
            "CV accuracy for k = 19 is 65.12893727134826 and f1 score is 66.80258239891266\n",
            "\n",
            "CV accuracy for k = 21 is 64.78986347818328 and f1 score is 66.45128379527291\n",
            "\n",
            "CV accuracy for k = 23 is 64.40617471223342 and f1 score is 65.93800700196397\n",
            "\n",
            "CV accuracy for k = 25 is 64.71847952172749 and f1 score is 66.36611092208234\n",
            "\n",
            "CV accuracy for k = 27 is 64.26340679932186 and f1 score is 65.99303727604652\n",
            "\n",
            "CV accuracy for k = 29 is 64.43294369590434 and f1 score is 66.2946051073905\n",
            "\n",
            "****Test accuracy for k = 1 is 69%\n"
          ],
          "name": "stdout"
        }
      ]
    },
    {
      "metadata": {
        "id": "Qu1rXdD7HdY2",
        "colab_type": "code",
        "outputId": "e6cb0aa6-89b1-4d47-fbba-0f5f9d747eca",
        "colab": {
          "base_uri": "https://localhost:8080/",
          "height": 68
        }
      },
      "cell_type": "code",
      "source": [
        "knn = KNeighborsClassifier(n_neighbors=3,weights='distance')\n",
        "knn.fit( X_train, y_train)"
      ],
      "execution_count": 0,
      "outputs": [
        {
          "output_type": "execute_result",
          "data": {
            "text/plain": [
              "KNeighborsClassifier(algorithm='auto', leaf_size=30, metric='minkowski',\n",
              "           metric_params=None, n_jobs=1, n_neighbors=3, p=2,\n",
              "           weights='distance')"
            ]
          },
          "metadata": {
            "tags": []
          },
          "execution_count": 104
        }
      ]
    },
    {
      "metadata": {
        "id": "ztM0EEWRH6c3",
        "colab_type": "code",
        "colab": {}
      },
      "cell_type": "code",
      "source": [
        "pred=knn.predict(X_test)"
      ],
      "execution_count": 0,
      "outputs": []
    },
    {
      "metadata": {
        "id": "ZFUtbeURHne9",
        "colab_type": "code",
        "outputId": "6327e823-b7b5-4d7b-cc51-9740442a5662",
        "colab": {
          "base_uri": "https://localhost:8080/",
          "height": 68
        }
      },
      "cell_type": "code",
      "source": [
        "cm=confusion_matrix(y_test,pred)\n",
        "acc=accuracy_score(y_test,pred)\n",
        "print(cm)\n",
        "print(acc)"
      ],
      "execution_count": 0,
      "outputs": [
        {
          "output_type": "stream",
          "text": [
            "[[6873  187]\n",
            " [ 328 1612]]\n",
            "0.9427777777777778\n"
          ],
          "name": "stdout"
        }
      ]
    },
    {
      "metadata": {
        "id": "wFVsbx5gHwPS",
        "colab_type": "code",
        "outputId": "7cdd9019-e35e-4f77-8bdc-ee170e89fae2",
        "colab": {
          "base_uri": "https://localhost:8080/",
          "height": 282
        }
      },
      "cell_type": "code",
      "source": [
        "sns.heatmap(cm,cmap='coolwarm',annot=True)"
      ],
      "execution_count": 0,
      "outputs": [
        {
          "output_type": "execute_result",
          "data": {
            "text/plain": [
              "<matplotlib.axes._subplots.AxesSubplot at 0x7f958becfef0>"
            ]
          },
          "metadata": {
            "tags": []
          },
          "execution_count": 112
        },
        {
          "output_type": "display_data",
          "data": {
            "image/png": "[encoded data removed]",
            "text/plain": [
              "<matplotlib.figure.Figure at 0x7f958bdbd128>"
            ]
          },
          "metadata": {
            "tags": []
          }
        }
      ]
    },
    {
      "metadata": {
        "id": "tsQHZfnEVkF_",
        "colab_type": "code",
        "outputId": "38a2942e-fcb6-413e-b9c3-e901796e3dd7",
        "colab": {
          "base_uri": "https://localhost:8080/",
          "height": 221
        }
      },
      "cell_type": "code",
      "source": [
        "predictions = knn.predict(X_test)\n",
        "print(\"-------------\")\n",
        "print(\"f1 score: {}\".format(round(f1_score(y_true = y_test, y_pred = predictions),3)))\n",
        "print(\"Accuracy: {}\".format(round(accuracy_score(y_true = y_test, y_pred = predictions),3)))\n",
        "print(\"-------------\")\n",
        "#print(get_feature_importance(ada_downsampled, features))\n",
        "print(\"-------------\")\n",
        "TP = np.sum(np.logical_and(predictions == 1, y_test == 1))#cm[0,0]\n",
        "\n",
        "TN = np.sum(np.logical_and(predictions == 0, y_test == 0))\n",
        "FP = np.sum(np.logical_and(predictions == 1, y_test == 0))\n",
        "FN = np.sum(np.logical_and(predictions == 0, y_test == 1))\n",
        "#pred = len(predictions)\n",
        "\n",
        "print('True Positives: {}'.format(TP))\n",
        "print('False Positive: {}'.format(FP))\n",
        "print('True Negative: {}'.format(TN))\n",
        "print('False Negative: {}'.format(FN))\n",
        "print('Precision: {}'.format(round(TP/(TP+FP),2)))\n",
        "print('Recall: {}'.format(round(TP/(TP+FN),2)))\n",
        "print('Problematic ratio: {}'.format(round(FN/(FN+TP),2)))"
      ],
      "execution_count": 0,
      "outputs": [
        {
          "output_type": "stream",
          "text": [
            "-------------\n",
            "f1 score: 0.862\n",
            "Accuracy: 0.943\n",
            "-------------\n",
            "-------------\n",
            "True Positives: 1612\n",
            "False Positive: 187\n",
            "True Negative: 6873\n",
            "False Negative: 328\n",
            "Precision: 0.9\n",
            "Recall: 0.83\n",
            "Problematic ratio: 0.17\n"
          ],
          "name": "stdout"
        }
      ]
    },
    {
      "metadata": {
        "id": "WHPlpWu2kebn",
        "colab_type": "text"
      },
      "cell_type": "markdown",
      "source": [
        ""
      ]
    },
    {
      "metadata": {
        "id": "iCaW2xyrknKg",
        "colab_type": "text"
      },
      "cell_type": "markdown",
      "source": [
        "##Decision Trees"
      ]
    },
    {
      "metadata": {
        "id": "YrOZDViYkuZP",
        "colab_type": "code",
        "colab": {}
      },
      "cell_type": "code",
      "source": [
        "from sklearn.tree import DecisionTreeClassifier\n",
        "from sklearn.tree import DecisionTreeClassifier\n",
        "from sklearn.ensemble import RandomForestClassifier , GradientBoostingClassifier, AdaBoostClassifier\n",
        "from xgboost import XGBClassifier\n",
        "from sklearn.metrics import f1_score\n",
        "from sklearn.metrics import accuracy_score\n",
        "from sklearn.metrics import confusion_matrix"
      ],
      "execution_count": 0,
      "outputs": []
    },
    {
      "metadata": {
        "id": "j8k98iBZl1LK",
        "colab_type": "code",
        "outputId": "94bdef1e-96df-4022-febc-93b99b401746",
        "colab": {
          "base_uri": "https://localhost:8080/",
          "height": 336
        }
      },
      "cell_type": "code",
      "source": [
        "depths=[3,5,10,20,30,50,100,150,200]\n",
        "X_1, X_test, y_1, y_test =train_test_split(X, y, test_size=0.3, random_state=0)\n",
        "\n",
        "X_tr, X_cv, y_tr, y_cv =train_test_split(X_1, y_1, test_size=0.3)\n",
        "\n",
        "for i in depths:\n",
        "\n",
        "    clf = DecisionTreeClassifier(max_depth=i)\n",
        "    clf.fit(X_tr, y_tr)\n",
        "    pred = clf.predict(X_cv)\n",
        "    f1 =f1_score(y_cv, pred) * float(100)\n",
        "    #cm =f1_score(y_cv, pred) \n",
        "    acc = accuracy_score(y_cv, pred, normalize=True) * float(100)\n",
        "    print('\\nCV accuracy for depth = {} is {} and f1 score is {}' .format (i,acc,f1))\n",
        "   # print(cm)\n",
        "    \n"
      ],
      "execution_count": 0,
      "outputs": [
        {
          "output_type": "stream",
          "text": [
            "\n",
            "CV accuracy for depth = 3 is 80.33333333333333 and f1 score is 49.44920440636475\n",
            "\n",
            "CV accuracy for depth = 5 is 80.44444444444444 and f1 score is 45.293072824156305\n",
            "\n",
            "CV accuracy for depth = 10 is 78.74603174603175 and f1 score is 43.857442348008384\n",
            "\n",
            "CV accuracy for depth = 20 is 74.60317460317461 and f1 score is 39.43981831945496\n",
            "\n",
            "CV accuracy for depth = 30 is 73.06349206349206 and f1 score is 39.92920353982301\n",
            "\n",
            "CV accuracy for depth = 50 is 73.12698412698413 and f1 score is 40.1555319901025\n",
            "\n",
            "CV accuracy for depth = 100 is 72.79365079365078 and f1 score is 38.82940756602427\n",
            "\n",
            "CV accuracy for depth = 150 is 72.33333333333334 and f1 score is 38.3881230116649\n",
            "\n",
            "CV accuracy for depth = 200 is 72.60317460317461 and f1 score is 38.620199146514935\n"
          ],
          "name": "stdout"
        }
      ]
    },
    {
      "metadata": {
        "id": "0iPPnArhmvAJ",
        "colab_type": "code",
        "outputId": "32b950d1-fa76-434d-d796-32992c35df85",
        "colab": {
          "base_uri": "https://localhost:8080/",
          "height": 87
        }
      },
      "cell_type": "code",
      "source": [
        "clf = DecisionTreeClassifier(max_depth=3)\n",
        "clf.fit(X_tr,y_tr)\n",
        "pred = clf.predict(X_test)\n",
        "acc = accuracy_score(y_test, pred, normalize=True) * float(100)\n",
        "print('\\n****Test accuracy for depth =3 is %d%%' % (acc))\n",
        "cm=confusion_matrix(y_test,pred)\n",
        "print(cm)"
      ],
      "execution_count": 0,
      "outputs": [
        {
          "output_type": "stream",
          "text": [
            "\n",
            "****Test accuracy for depth =3 is 81%\n",
            "[[6464  596]\n",
            " [1097  843]]\n"
          ],
          "name": "stdout"
        }
      ]
    },
    {
      "metadata": {
        "id": "x3PZhpZ4q7Ho",
        "colab_type": "code",
        "outputId": "a2b49640-96f7-49e6-bd03-6886d306bb16",
        "colab": {
          "base_uri": "https://localhost:8080/",
          "height": 230
        }
      },
      "cell_type": "code",
      "source": [
        "predictions = clf.predict(X_test)\n",
        "print(\"-------------\")\n",
        "print(\"f1 score: {}\".format(round(f1_score(y_true = y_test, y_pred = predictions),3)))\n",
        "print(\"Accuracy: {}\".format(round(accuracy_score(y_true = y_test, y_pred = predictions),3)))\n",
        "print(\"-------------\")\n",
        "#print(get_feature_importance(ada_downsampled, features))\n",
        "print(\"-------------\")\n",
        "TP = np.sum(np.logical_and(predictions == 1, y_test == 1))#cm[0,0]\n",
        "\n",
        "TN = np.sum(np.logical_and(predictions == 0, y_test == 0))\n",
        "FP = np.sum(np.logical_and(predictions == 1, y_test == 0))\n",
        "FN = np.sum(np.logical_and(predictions == 0, y_test == 1))\n",
        "#pred = len(predictions)\n",
        "\n",
        "print('True Positives: {}'.format(TP))\n",
        "print('False Positive: {}'.format(FP))\n",
        "print('True Negative: {}'.format(TN))\n",
        "print('False Negative: {}'.format(FN))\n",
        "print('Precision: {}'.format(round(TP/(TP+FP),2)))\n",
        "print('Recall: {}'.format(round(TP/(TP+FN),2)))\n",
        "print('Problematic ratio: {}'.format(round(FN/(FN+TP),2)))"
      ],
      "execution_count": 0,
      "outputs": [
        {
          "output_type": "stream",
          "text": [
            "-------------\n",
            "f1 score: 0.499\n",
            "Accuracy: 0.812\n",
            "-------------\n",
            "-------------\n",
            "True Positives: 843\n",
            "False Positive: 596\n",
            "True Negative: 6464\n",
            "False Negative: 1097\n",
            "Precision: 0.59\n",
            "Recall: 0.43\n",
            "Problematic ratio: 0.57\n"
          ],
          "name": "stdout"
        }
      ]
    },
    {
      "metadata": {
        "id": "TU9PdwPWoi7s",
        "colab_type": "code",
        "colab": {}
      },
      "cell_type": "code",
      "source": [
        "!pip install graphviz"
      ],
      "execution_count": 0,
      "outputs": []
    },
    {
      "metadata": {
        "id": "wSspq2e0poGo",
        "colab_type": "code",
        "outputId": "e32924bf-8a34-485a-d1ec-9272a09a92e8",
        "colab": {
          "base_uri": "https://localhost:8080/",
          "height": 336
        }
      },
      "cell_type": "code",
      "source": [
        "depths=[3,5,10,20,30,50,100,150,200]\n",
        "\n",
        "for i in depths:\n",
        "\n",
        "    clf = DecisionTreeClassifier(max_depth=i)\n",
        "    clf.fit(X1, y1)\n",
        "    pred = clf.predict(X_cv)\n",
        "    f1 =f1_score(y_cv, pred) * float(100)\n",
        "    #cm =f1_score(y_cv, pred) \n",
        "    acc = accuracy_score(y_cv, pred, normalize=True) * float(100)\n",
        "    print('\\nCV accuracy for depth = {} is {} and f1 score is {}' .format (i,acc,f1))\n",
        "   # print(cm)\n",
        "    \n"
      ],
      "execution_count": 0,
      "outputs": [
        {
          "output_type": "stream",
          "text": [
            "\n",
            "CV accuracy for depth = 3 is 77.7936507936508 and f1 score is 51.10101363159734\n",
            "\n",
            "CV accuracy for depth = 5 is 76.53968253968254 and f1 score is 52.29180116204003\n",
            "\n",
            "CV accuracy for depth = 10 is 78.46031746031747 and f1 score is 58.130206726319045\n",
            "\n",
            "CV accuracy for depth = 20 is 89.23809523809524 and f1 score is 77.72667542706965\n",
            "\n",
            "CV accuracy for depth = 30 is 92.98412698412697 and f1 score is 84.57780879274252\n",
            "\n",
            "CV accuracy for depth = 50 is 93.65079365079364 and f1 score is 85.82565556343019\n",
            "\n",
            "CV accuracy for depth = 100 is 93.74603174603175 and f1 score is 86.04815864022663\n",
            "\n",
            "CV accuracy for depth = 150 is 93.71428571428572 and f1 score is 85.9275053304904\n",
            "\n",
            "CV accuracy for depth = 200 is 93.7936507936508 and f1 score is 86.14948636202621\n"
          ],
          "name": "stdout"
        }
      ]
    },
    {
      "metadata": {
        "id": "631HjNzbqIyk",
        "colab_type": "code",
        "outputId": "c174f08d-aa52-48d2-9685-de9eb8ac1554",
        "colab": {
          "base_uri": "https://localhost:8080/",
          "height": 87
        }
      },
      "cell_type": "code",
      "source": [
        "clf = DecisionTreeClassifier(max_depth=100)\n",
        "clf.fit(X_tr,y_tr)\n",
        "pred = clf.predict(X_test)\n",
        "acc = accuracy_score(y_test, pred, normalize=True) * float(100)\n",
        "print('\\n****Test accuracy for depth =3 is %d%%' % (acc))\n",
        "cm=confusion_matrix(y_test,pred)\n",
        "print(cm)"
      ],
      "execution_count": 0,
      "outputs": [
        {
          "output_type": "stream",
          "text": [
            "\n",
            "****Test accuracy for depth =3 is 72%\n",
            "[[5744 1316]\n",
            " [1183  757]]\n"
          ],
          "name": "stdout"
        }
      ]
    },
    {
      "metadata": {
        "id": "xIQnSJs10soM",
        "colab_type": "code",
        "outputId": "b11021d1-3ce8-434f-da2d-c5e0fab2a6db",
        "colab": {
          "base_uri": "https://localhost:8080/",
          "height": 87
        }
      },
      "cell_type": "code",
      "source": [
        "clf = DecisionTreeClassifier(max_depth=20)\n",
        "clf.fit(X_tr,y_tr)\n",
        "pred = clf.predict(X_test)\n",
        "acc = accuracy_score(y_test, pred, normalize=True) * float(100)\n",
        "print('\\n****Test accuracy for depth =3 is %d%%' % (acc))\n",
        "cm=confusion_matrix(y_test,pred)\n",
        "print(cm)"
      ],
      "execution_count": 0,
      "outputs": [
        {
          "output_type": "stream",
          "text": [
            "\n",
            "****Test accuracy for depth =3 is 74%\n",
            "[[6009 1051]\n",
            " [1206  734]]\n"
          ],
          "name": "stdout"
        }
      ]
    },
    {
      "metadata": {
        "id": "OTPrbrIIqXvP",
        "colab_type": "code",
        "outputId": "6014ad26-ecb6-48ad-e497-6654f8e14e8b",
        "colab": {
          "base_uri": "https://localhost:8080/",
          "height": 230
        }
      },
      "cell_type": "code",
      "source": [
        "predictions = knn.predict(X_test)\n",
        "print(\"-------------\")\n",
        "print(\"f1 score: {}\".format(round(f1_score(y_true = y_test, y_pred = predictions),3)))\n",
        "print(\"Accuracy: {}\".format(round(accuracy_score(y_true = y_test, y_pred = predictions),3)))\n",
        "print(\"-------------\")\n",
        "#print(get_feature_importance(ada_downsampled, features))\n",
        "print(\"-------------\")\n",
        "TP = np.sum(np.logical_and(predictions == 1, y_test == 1))#cm[0,0]\n",
        "\n",
        "TN = np.sum(np.logical_and(predictions == 0, y_test == 0))\n",
        "FP = np.sum(np.logical_and(predictions == 1, y_test == 0))\n",
        "FN = np.sum(np.logical_and(predictions == 0, y_test == 1))\n",
        "#pred = len(predictions)\n",
        "\n",
        "print('True Positives: {}'.format(TP))\n",
        "print('False Positive: {}'.format(FP))\n",
        "print('True Negative: {}'.format(TN))\n",
        "print('False Negative: {}'.format(FN))\n",
        "print('Precision: {}'.format(round(TP/(TP+FP),2)))\n",
        "print('Recall: {}'.format(round(TP/(TP+FN),2)))\n",
        "print('Problematic ratio: {}'.format(round(FN/(FN+TP),2)))"
      ],
      "execution_count": 0,
      "outputs": [
        {
          "output_type": "stream",
          "text": [
            "-------------\n",
            "f1 score: 0.5\n",
            "Accuracy: 0.812\n",
            "-------------\n",
            "-------------\n",
            "True Positives: 847\n",
            "False Positive: 599\n",
            "True Negative: 6461\n",
            "False Negative: 1093\n",
            "Precision: 0.59\n",
            "Recall: 0.44\n",
            "Problematic ratio: 0.56\n"
          ],
          "name": "stdout"
        }
      ]
    },
    {
      "metadata": {
        "id": "ywJQPgbLsesS",
        "colab_type": "text"
      },
      "cell_type": "markdown",
      "source": [
        "##Random Forests"
      ]
    },
    {
      "metadata": {
        "id": "UfkbKunHqgIT",
        "colab_type": "code",
        "outputId": "e15e44e5-0f0c-4df8-f4fd-5163b4ce5447",
        "colab": {
          "base_uri": "https://localhost:8080/",
          "height": 72
        }
      },
      "cell_type": "code",
      "source": [
        "from sklearn.grid_search import GridSearchCV\n",
        "from sklearn.ensemble import RandomForestClassifier"
      ],
      "execution_count": 0,
      "outputs": [
        {
          "output_type": "stream",
          "text": [
            "/usr/local/lib/python3.6/dist-packages/sklearn/grid_search.py:42: DeprecationWarning: This module was deprecated in version 0.18 in favor of the model_selection module into which all the refactored classes and functions are moved. This module will be removed in 0.20.\n",
            "  DeprecationWarning)\n"
          ],
          "name": "stderr"
        }
      ]
    },
    {
      "metadata": {
        "id": "oZKpO9EssySb",
        "colab_type": "code",
        "colab": {}
      },
      "cell_type": "code",
      "source": [
        "X_1, X_test, y_1, y_test =train_test_split(X, y, test_size=0.3, random_state=0)\n",
        "\n",
        "X_tr, X_cv, y_tr, y_cv =train_test_split(X_1, y_1, test_size=0.3)"
      ],
      "execution_count": 0,
      "outputs": []
    },
    {
      "metadata": {
        "id": "uXn8dB8IspMY",
        "colab_type": "code",
        "colab": {}
      },
      "cell_type": "code",
      "source": [
        "accuracy=[]\n",
        "f1score=[]\n",
        "n_est=[5,10,20,30,20,70,100,120,150,200]\n",
        "for n_estimator in n_est:\n",
        "  clf=RandomForestClassifier(n_estimators=n_estimator)\n",
        "  clf.fit(X_tr,y_tr)\n",
        "  pred=clf.predict(X_cv)\n",
        "  acc=accuracy_score(pred,y_cv)\n",
        "  f1=f1_score(pred,y_cv)\n",
        "  accuracy.append(acc)\n",
        "  f1score.append(f1)\n"
      ],
      "execution_count": 0,
      "outputs": []
    },
    {
      "metadata": {
        "id": "xNyMvDnUtK8i",
        "colab_type": "code",
        "outputId": "336bdffe-5481-467c-c955-04e2f10e865e",
        "colab": {
          "base_uri": "https://localhost:8080/",
          "height": 296
        }
      },
      "cell_type": "code",
      "source": [
        "\n",
        "plt.plot(n_est,f1score)\n",
        "plt.xlabel(\"No of Base Models\")\n",
        "plt.ylabel(\"F1-Score\")"
      ],
      "execution_count": 0,
      "outputs": [
        {
          "output_type": "execute_result",
          "data": {
            "text/plain": [
              "Text(0,0.5,'F1-Score')"
            ]
          },
          "metadata": {
            "tags": []
          },
          "execution_count": 109
        },
        {
          "output_type": "display_data",
          "data": {
            "image/png": "[encoded data removed]",
            "text/plain": [
              "<matplotlib.figure.Figure at 0x7fdf7eee78d0>"
            ]
          },
          "metadata": {
            "tags": []
          }
        }
      ]
    },
    {
      "metadata": {
        "id": "5jimKKhos6Ms",
        "colab_type": "code",
        "outputId": "7050220e-c3d9-49b4-b20a-b2a360609227",
        "colab": {
          "base_uri": "https://localhost:8080/",
          "height": 296
        }
      },
      "cell_type": "code",
      "source": [
        "Error=[1-x for x in accuracy]\n",
        "\n",
        "plt.plot(n_est,Error)\n",
        "plt.xlabel(\"No of Base Models\")\n",
        "plt.ylabel(\"Error\")\n",
        "plt.show()\n",
        "index=np.array(Error).argmin()\n",
        "print(\"Optimal no of base Estimators are {}\".format(n_est[index]))"
      ],
      "execution_count": 0,
      "outputs": [
        {
          "output_type": "display_data",
          "data": {
            "image/png": "[encoded data removed]",
            "text/plain": [
              "<matplotlib.figure.Figure at 0x7fdf7edcfbe0>"
            ]
          },
          "metadata": {
            "tags": []
          }
        },
        {
          "output_type": "stream",
          "text": [
            "Optimal no of base Estimators are 200\n"
          ],
          "name": "stdout"
        }
      ]
    },
    {
      "metadata": {
        "id": "GzBUdPR3tei0",
        "colab_type": "code",
        "outputId": "3ba5a513-994a-47ed-ab5c-83bd8241a480",
        "colab": {
          "base_uri": "https://localhost:8080/",
          "height": 141
        }
      },
      "cell_type": "code",
      "source": [
        "clf=RandomForestClassifier(n_estimators=120)\n",
        "clf.fit(X_tr,y_tr)"
      ],
      "execution_count": 0,
      "outputs": [
        {
          "output_type": "execute_result",
          "data": {
            "text/plain": [
              "RandomForestClassifier(bootstrap=True, class_weight=None, criterion='gini',\n",
              "            max_depth=None, max_features='auto', max_leaf_nodes=None,\n",
              "            min_impurity_decrease=0.0, min_impurity_split=None,\n",
              "            min_samples_leaf=1, min_samples_split=2,\n",
              "            min_weight_fraction_leaf=0.0, n_estimators=120, n_jobs=1,\n",
              "            oob_score=False, random_state=None, verbose=0,\n",
              "            warm_start=False)"
            ]
          },
          "metadata": {
            "tags": []
          },
          "execution_count": 111
        }
      ]
    },
    {
      "metadata": {
        "id": "poWLV463tziy",
        "colab_type": "code",
        "colab": {}
      },
      "cell_type": "code",
      "source": [
        "pred=clf.predict(X_test)"
      ],
      "execution_count": 0,
      "outputs": []
    },
    {
      "metadata": {
        "id": "-5Nclh2ytmil",
        "colab_type": "code",
        "colab": {}
      },
      "cell_type": "code",
      "source": [
        "  \n",
        "  acc=accuracy_score(pred,y_test)\n",
        "  f1=f1_score(pred,y_test)\n",
        "  cm=confusion_matrix(pred,y_test)"
      ],
      "execution_count": 0,
      "outputs": []
    },
    {
      "metadata": {
        "id": "PAk_BgqouAg-",
        "colab_type": "code",
        "outputId": "0768ee7f-6b89-4eb3-cbc0-6d6776921651",
        "colab": {
          "base_uri": "https://localhost:8080/",
          "height": 87
        }
      },
      "cell_type": "code",
      "source": [
        "print(acc)\n",
        "print(f1)\n",
        "print(cm)"
      ],
      "execution_count": 0,
      "outputs": [
        {
          "output_type": "stream",
          "text": [
            "0.8115555555555556\n",
            "0.44429882044560937\n",
            "[[6626 1262]\n",
            " [ 434  678]]\n"
          ],
          "name": "stdout"
        }
      ]
    },
    {
      "metadata": {
        "id": "F9Ygb-y9uJQo",
        "colab_type": "code",
        "outputId": "c458b5e5-aeb5-4924-98e3-20bbeea297a2",
        "colab": {
          "base_uri": "https://localhost:8080/",
          "height": 230
        }
      },
      "cell_type": "code",
      "source": [
        "predictions = clf.predict(X_test)\n",
        "print(\"-------------\")\n",
        "print(\"f1 score: {}\".format(round(f1_score(y_true = y_test, y_pred = predictions),3)))\n",
        "print(\"Accuracy: {}\".format(round(accuracy_score(y_true = y_test, y_pred = predictions),3)))\n",
        "print(\"-------------\")\n",
        "#print(get_feature_importance(ada_downsampled, features))\n",
        "print(\"-------------\")\n",
        "TP = np.sum(np.logical_and(predictions == 1, y_test == 1))#cm[0,0]\n",
        "\n",
        "TN = np.sum(np.logical_and(predictions == 0, y_test == 0))\n",
        "FP = np.sum(np.logical_and(predictions == 1, y_test == 0))\n",
        "FN = np.sum(np.logical_and(predictions == 0, y_test == 1))\n",
        "#pred = len(predictions)\n",
        "\n",
        "print('True Positives: {}'.format(TP))\n",
        "print('False Positive: {}'.format(FP))\n",
        "print('True Negative: {}'.format(TN))\n",
        "print('False Negative: {}'.format(FN))\n",
        "print('Precision: {}'.format(round(TP/(TP+FP),2)))\n",
        "print('Recall: {}'.format(round(TP/(TP+FN),2)))\n",
        "print('Problematic ratio: {}'.format(round(FN/(FN+TP),2)))"
      ],
      "execution_count": 0,
      "outputs": [
        {
          "output_type": "stream",
          "text": [
            "-------------\n",
            "f1 score: 0.444\n",
            "Accuracy: 0.812\n",
            "-------------\n",
            "-------------\n",
            "True Positives: 678\n",
            "False Positive: 434\n",
            "True Negative: 6626\n",
            "False Negative: 1262\n",
            "Precision: 0.61\n",
            "Recall: 0.35\n",
            "Problematic ratio: 0.65\n"
          ],
          "name": "stdout"
        }
      ]
    },
    {
      "metadata": {
        "id": "74rJ_tQBtOWs",
        "colab_type": "code",
        "colab": {}
      },
      "cell_type": "code",
      "source": [
        "accuracy=[]\n",
        "f1score=[]\n",
        "n_est=[5,10,20,30,20,70,100,120,150,200]\n",
        "for n_estimator in n_est:\n",
        "  clf=RandomForestClassifier(n_estimators=n_estimator)\n",
        "  clf.fit(X1,y1)\n",
        "  pred=clf.predict(X_cv)\n",
        "  acc=accuracy_score(pred,y_cv)\n",
        "  f1=f1_score(pred,y_cv)\n",
        "  accuracy.append(acc)\n",
        "  f1score.append(f1)\n"
      ],
      "execution_count": 0,
      "outputs": []
    },
    {
      "metadata": {
        "id": "imCYc_i8ulaG",
        "colab_type": "code",
        "outputId": "41ba046f-ba1e-41fb-fba0-9eda0b2f4f6f",
        "colab": {
          "base_uri": "https://localhost:8080/",
          "height": 296
        }
      },
      "cell_type": "code",
      "source": [
        "\n",
        "plt.plot(n_est,f1score)\n",
        "plt.xlabel(\"No of Base Models\")\n",
        "plt.ylabel(\"F1-Score\")"
      ],
      "execution_count": 0,
      "outputs": [
        {
          "output_type": "execute_result",
          "data": {
            "text/plain": [
              "Text(0,0.5,'F1-Score')"
            ]
          },
          "metadata": {
            "tags": []
          },
          "execution_count": 102
        },
        {
          "output_type": "display_data",
          "data": {
            "image/png": "[encoded data removed]",
            "text/plain": [
              "<matplotlib.figure.Figure at 0x7fdf7eebca20>"
            ]
          },
          "metadata": {
            "tags": []
          }
        }
      ]
    },
    {
      "metadata": {
        "id": "Bp32MA6KvD6q",
        "colab_type": "code",
        "outputId": "721db948-de29-42c3-c221-fc7f6ccc9229",
        "colab": {
          "base_uri": "https://localhost:8080/",
          "height": 296
        }
      },
      "cell_type": "code",
      "source": [
        "Error=[1-x for x in accuracy]\n",
        "\n",
        "plt.plot(n_est,Error)\n",
        "plt.xlabel(\"No of Base Models\")\n",
        "plt.ylabel(\"Error\")\n",
        "plt.show()\n",
        "index=np.array(Error).argmin()\n",
        "print(\"Optimal no of base Estimators are {}\".format(n_est[index]))"
      ],
      "execution_count": 0,
      "outputs": [
        {
          "output_type": "display_data",
          "data": {
            "image/png": "[encoded data removed]",
            "text/plain": [
              "<matplotlib.figure.Figure at 0x7fdf7ee7ccc0>"
            ]
          },
          "metadata": {
            "tags": []
          }
        },
        {
          "output_type": "stream",
          "text": [
            "Optimal no of base Estimators are 100\n"
          ],
          "name": "stdout"
        }
      ]
    },
    {
      "metadata": {
        "id": "-xfMk3MfvK2g",
        "colab_type": "code",
        "outputId": "ed5dd5ca-80be-48fc-b846-6ead9239718e",
        "colab": {
          "base_uri": "https://localhost:8080/",
          "height": 141
        }
      },
      "cell_type": "code",
      "source": [
        "clf=RandomForestClassifier(n_estimators=120)\n",
        "clf.fit(X1,y1)"
      ],
      "execution_count": 0,
      "outputs": [
        {
          "output_type": "execute_result",
          "data": {
            "text/plain": [
              "RandomForestClassifier(bootstrap=True, class_weight=None, criterion='gini',\n",
              "            max_depth=None, max_features='auto', max_leaf_nodes=None,\n",
              "            min_impurity_decrease=0.0, min_impurity_split=None,\n",
              "            min_samples_leaf=1, min_samples_split=2,\n",
              "            min_weight_fraction_leaf=0.0, n_estimators=120, n_jobs=1,\n",
              "            oob_score=False, random_state=None, verbose=0,\n",
              "            warm_start=False)"
            ]
          },
          "metadata": {
            "tags": []
          },
          "execution_count": 104
        }
      ]
    },
    {
      "metadata": {
        "id": "Bdy36QODvV44",
        "colab_type": "code",
        "outputId": "c38f6ab1-af0c-4c28-85b0-13a97354a509",
        "colab": {
          "base_uri": "https://localhost:8080/",
          "height": 87
        }
      },
      "cell_type": "code",
      "source": [
        "pred=clf.predict(X_test) \n",
        "acc=accuracy_score(pred,y_test)\n",
        "f1=f1_score(pred,y_test)\n",
        "cm=confusion_matrix(pred,y_test)\n",
        "print(acc)\n",
        "print(f1)\n",
        "print(cm)"
      ],
      "execution_count": 0,
      "outputs": [
        {
          "output_type": "stream",
          "text": [
            "0.9555555555555556\n",
            "0.893560404470463\n",
            "[[6921  261]\n",
            " [ 139 1679]]\n"
          ],
          "name": "stdout"
        }
      ]
    },
    {
      "metadata": {
        "id": "eZY73qz5vkCn",
        "colab_type": "code",
        "outputId": "b31c804d-6588-4af8-9501-fe636a79af92",
        "colab": {
          "base_uri": "https://localhost:8080/",
          "height": 230
        }
      },
      "cell_type": "code",
      "source": [
        "predictions = clf.predict(X_test)\n",
        "print(\"-------------\")\n",
        "print(\"f1 score: {}\".format(round(f1_score(y_true = y_test, y_pred = predictions),3)))\n",
        "print(\"Accuracy: {}\".format(round(accuracy_score(y_true = y_test, y_pred = predictions),3)))\n",
        "print(\"-------------\")\n",
        "#print(get_feature_importance(ada_downsampled, features))\n",
        "print(\"-------------\")\n",
        "TP = np.sum(np.logical_and(predictions == 1, y_test == 1))#cm[0,0]\n",
        "\n",
        "TN = np.sum(np.logical_and(predictions == 0, y_test == 0))\n",
        "FP = np.sum(np.logical_and(predictions == 1, y_test == 0))\n",
        "FN = np.sum(np.logical_and(predictions == 0, y_test == 1))\n",
        "#pred = len(predictions)\n",
        "\n",
        "print('True Positives: {}'.format(TP))\n",
        "print('False Positive: {}'.format(FP))\n",
        "print('True Negative: {}'.format(TN))\n",
        "print('False Negative: {}'.format(FN))\n",
        "print('Precision: {}'.format(round(TP/(TP+FP),2)))\n",
        "print('Recall: {}'.format(round(TP/(TP+FN),2)))\n",
        "print('Problematic ratio: {}'.format(round(FN/(FN+TP),2)))"
      ],
      "execution_count": 0,
      "outputs": [
        {
          "output_type": "stream",
          "text": [
            "-------------\n",
            "f1 score: 0.894\n",
            "Accuracy: 0.956\n",
            "-------------\n",
            "-------------\n",
            "True Positives: 1679\n",
            "False Positive: 139\n",
            "True Negative: 6921\n",
            "False Negative: 261\n",
            "Precision: 0.92\n",
            "Recall: 0.87\n",
            "Problematic ratio: 0.13\n"
          ],
          "name": "stdout"
        }
      ]
    },
    {
      "metadata": {
        "id": "kL9It4e0z1db",
        "colab_type": "code",
        "colab": {}
      },
      "cell_type": "code",
      "source": [
        "#GDBT"
      ],
      "execution_count": 0,
      "outputs": []
    },
    {
      "metadata": {
        "id": "gjHASPj2z2kQ",
        "colab_type": "text"
      },
      "cell_type": "markdown",
      "source": [
        "##GDBT"
      ]
    },
    {
      "metadata": {
        "id": "WrokBQLWUCXP",
        "colab_type": "text"
      },
      "cell_type": "markdown",
      "source": [
        ""
      ]
    },
    {
      "metadata": {
        "id": "mamb7pN5vsqT",
        "colab_type": "code",
        "outputId": "cd626228-41e8-44f1-ea55-ad3d1cf9dcb9",
        "colab": {
          "base_uri": "https://localhost:8080/",
          "height": 194
        }
      },
      "cell_type": "code",
      "source": [
        "import xgboost as xgb\n",
        "clf=xgb.XGBClassifier()\n",
        "tuned_parameters = {'learning_rate': [10**-1, 10**-2],'n_estimators':[10,30,50,100],'max_depth':[5,10,20]}\n",
        "model = GridSearchCV(clf, tuned_parameters, scoring = 'f1', cv=3,n_jobs=-1)\n",
        "model.fit(X1, y1)"
      ],
      "execution_count": 0,
      "outputs": [
        {
          "output_type": "execute_result",
          "data": {
            "text/plain": [
              "GridSearchCV(cv=3, error_score='raise',\n",
              "       estimator=XGBClassifier(base_score=0.5, booster='gbtree', colsample_bylevel=1,\n",
              "       colsample_bytree=1, gamma=0, learning_rate=0.1, max_delta_step=0,\n",
              "       max_depth=3, min_child_weight=1, missing=None, n_estimators=100,\n",
              "       n_jobs=1, nthread=None, objective='binary:logistic', random_state=0,\n",
              "       reg_alpha=0, reg_lambda=1, scale_pos_weight=1, seed=None,\n",
              "       silent=True, subsample=1),\n",
              "       fit_params={}, iid=True, n_jobs=-1,\n",
              "       param_grid={'learning_rate': [0.1, 0.01], 'n_estimators': [10, 30, 50, 100], 'max_depth': [5, 10, 20]},\n",
              "       pre_dispatch='2*n_jobs', refit=True, scoring='f1', verbose=0)"
            ]
          },
          "metadata": {
            "tags": []
          },
          "execution_count": 118
        }
      ]
    },
    {
      "metadata": {
        "id": "dhVoRFD1xiB_",
        "colab_type": "code",
        "outputId": "afbcf79b-7003-407d-82f6-9c7fc56c790b",
        "colab": {
          "base_uri": "https://localhost:8080/",
          "height": 443
        }
      },
      "cell_type": "code",
      "source": [
        "model.grid_scores_"
      ],
      "execution_count": 0,
      "outputs": [
        {
          "output_type": "execute_result",
          "data": {
            "text/plain": [
              "[mean: 0.69236, std: 0.00830, params: {'learning_rate': 0.1, 'max_depth': 5, 'n_estimators': 10},\n",
              " mean: 0.70981, std: 0.00590, params: {'learning_rate': 0.1, 'max_depth': 5, 'n_estimators': 30},\n",
              " mean: 0.72394, std: 0.00666, params: {'learning_rate': 0.1, 'max_depth': 5, 'n_estimators': 50},\n",
              " mean: 0.74611, std: 0.00490, params: {'learning_rate': 0.1, 'max_depth': 5, 'n_estimators': 100},\n",
              " mean: 0.78480, std: 0.00594, params: {'learning_rate': 0.1, 'max_depth': 10, 'n_estimators': 10},\n",
              " mean: 0.81768, std: 0.00782, params: {'learning_rate': 0.1, 'max_depth': 10, 'n_estimators': 30},\n",
              " mean: 0.83625, std: 0.00584, params: {'learning_rate': 0.1, 'max_depth': 10, 'n_estimators': 50},\n",
              " mean: 0.86284, std: 0.00471, params: {'learning_rate': 0.1, 'max_depth': 10, 'n_estimators': 100},\n",
              " mean: 0.87826, std: 0.00173, params: {'learning_rate': 0.1, 'max_depth': 20, 'n_estimators': 10},\n",
              " mean: 0.90627, std: 0.00343, params: {'learning_rate': 0.1, 'max_depth': 20, 'n_estimators': 30},\n",
              " mean: 0.91086, std: 0.00382, params: {'learning_rate': 0.1, 'max_depth': 20, 'n_estimators': 50},\n",
              " mean: 0.91371, std: 0.00368, params: {'learning_rate': 0.1, 'max_depth': 20, 'n_estimators': 100},\n",
              " mean: 0.67272, std: 0.00395, params: {'learning_rate': 0.01, 'max_depth': 5, 'n_estimators': 10},\n",
              " mean: 0.67928, std: 0.00521, params: {'learning_rate': 0.01, 'max_depth': 5, 'n_estimators': 30},\n",
              " mean: 0.68269, std: 0.00669, params: {'learning_rate': 0.01, 'max_depth': 5, 'n_estimators': 50},\n",
              " mean: 0.69015, std: 0.00643, params: {'learning_rate': 0.01, 'max_depth': 5, 'n_estimators': 100},\n",
              " mean: 0.74289, std: 0.00350, params: {'learning_rate': 0.01, 'max_depth': 10, 'n_estimators': 10},\n",
              " mean: 0.75860, std: 0.01024, params: {'learning_rate': 0.01, 'max_depth': 10, 'n_estimators': 30},\n",
              " mean: 0.76959, std: 0.00712, params: {'learning_rate': 0.01, 'max_depth': 10, 'n_estimators': 50},\n",
              " mean: 0.78806, std: 0.00594, params: {'learning_rate': 0.01, 'max_depth': 10, 'n_estimators': 100},\n",
              " mean: 0.82902, std: 0.00146, params: {'learning_rate': 0.01, 'max_depth': 20, 'n_estimators': 10},\n",
              " mean: 0.84984, std: 0.00422, params: {'learning_rate': 0.01, 'max_depth': 20, 'n_estimators': 30},\n",
              " mean: 0.86178, std: 0.00520, params: {'learning_rate': 0.01, 'max_depth': 20, 'n_estimators': 50},\n",
              " mean: 0.87904, std: 0.00297, params: {'learning_rate': 0.01, 'max_depth': 20, 'n_estimators': 100}]"
            ]
          },
          "metadata": {
            "tags": []
          },
          "execution_count": 122
        }
      ]
    },
    {
      "metadata": {
        "id": "QwrlJD22wuwk",
        "colab_type": "code",
        "outputId": "ed3da88e-11b4-470a-b3be-303ec0487718",
        "colab": {
          "base_uri": "https://localhost:8080/",
          "height": 123
        }
      },
      "cell_type": "code",
      "source": [
        "print(model.best_estimator_)"
      ],
      "execution_count": 0,
      "outputs": [
        {
          "output_type": "stream",
          "text": [
            "XGBClassifier(base_score=0.5, booster='gbtree', colsample_bylevel=1,\n",
            "       colsample_bytree=1, gamma=0, learning_rate=0.1, max_delta_step=0,\n",
            "       max_depth=20, min_child_weight=1, missing=None, n_estimators=100,\n",
            "       n_jobs=1, nthread=None, objective='binary:logistic', random_state=0,\n",
            "       reg_alpha=0, reg_lambda=1, scale_pos_weight=1, seed=None,\n",
            "       silent=True, subsample=1)\n"
          ],
          "name": "stdout"
        }
      ]
    },
    {
      "metadata": {
        "id": "JUny6L5hyyWS",
        "colab_type": "code",
        "outputId": "1e6d95be-1fa4-479f-b746-140a380d3592",
        "colab": {
          "base_uri": "https://localhost:8080/",
          "height": 123
        }
      },
      "cell_type": "code",
      "source": [
        "clf=xgb.XGBClassifier(base_score=0.5, booster='gbtree', colsample_bylevel=1,\n",
        "       colsample_bytree=1, gamma=0, learning_rate=0.1, max_delta_step=0,\n",
        "       max_depth=20, min_child_weight=1, missing=None, n_estimators=100,\n",
        "       n_jobs=1, nthread=None, objective='binary:logistic', random_state=0,\n",
        "       reg_alpha=0, reg_lambda=1, scale_pos_weight=1, seed=None,\n",
        "       silent=True, subsample=1)\n",
        "clf.fit(X1,y1)"
      ],
      "execution_count": 0,
      "outputs": [
        {
          "output_type": "execute_result",
          "data": {
            "text/plain": [
              "XGBClassifier(base_score=0.5, booster='gbtree', colsample_bylevel=1,\n",
              "       colsample_bytree=1, gamma=0, learning_rate=0.1, max_delta_step=0,\n",
              "       max_depth=20, min_child_weight=1, missing=None, n_estimators=100,\n",
              "       n_jobs=1, nthread=None, objective='binary:logistic', random_state=0,\n",
              "       reg_alpha=0, reg_lambda=1, scale_pos_weight=1, seed=None,\n",
              "       silent=True, subsample=1)"
            ]
          },
          "metadata": {
            "tags": []
          },
          "execution_count": 124
        }
      ]
    },
    {
      "metadata": {
        "id": "xgrbWpVizS5Y",
        "colab_type": "code",
        "outputId": "c0d963e5-e1b6-4b47-c8b6-41afc71aa246",
        "colab": {
          "base_uri": "https://localhost:8080/",
          "height": 143
        }
      },
      "cell_type": "code",
      "source": [
        "pred=clf.predict(X_test) \n",
        "acc=accuracy_score(pred,y_test)\n",
        "f1=f1_score(pred,y_test)\n",
        "cm=confusion_matrix(pred,y_test)\n",
        "print(acc)\n",
        "print(f1)\n",
        "print(cm)"
      ],
      "execution_count": 0,
      "outputs": [
        {
          "output_type": "stream",
          "text": [
            "0.9523333333333334\n",
            "0.8873720136518772\n",
            "[[6881  250]\n",
            " [ 179 1690]]\n"
          ],
          "name": "stdout"
        },
        {
          "output_type": "stream",
          "text": [
            "/usr/local/lib/python3.6/dist-packages/sklearn/preprocessing/label.py:151: DeprecationWarning: The truth value of an empty array is ambiguous. Returning False, but in future this will result in an error. Use `array.size > 0` to check that an array is not empty.\n",
            "  if diff:\n"
          ],
          "name": "stderr"
        }
      ]
    },
    {
      "metadata": {
        "id": "7w2bbOCLzKWZ",
        "colab_type": "code",
        "outputId": "6898c306-7533-4725-cfb6-484ba0a52aa8",
        "colab": {
          "base_uri": "https://localhost:8080/",
          "height": 285
        }
      },
      "cell_type": "code",
      "source": [
        "predictions = clf.predict(X_test)\n",
        "print(\"-------------\")\n",
        "print(\"f1 score: {}\".format(round(f1_score(y_true = y_test, y_pred = predictions),3)))\n",
        "print(\"Accuracy: {}\".format(round(accuracy_score(y_true = y_test, y_pred = predictions),3)))\n",
        "print(\"-------------\")\n",
        "#print(get_feature_importance(ada_downsampled, features))\n",
        "print(\"-------------\")\n",
        "TP = np.sum(np.logical_and(predictions == 1, y_test == 1))#cm[0,0]\n",
        "\n",
        "TN = np.sum(np.logical_and(predictions == 0, y_test == 0))\n",
        "FP = np.sum(np.logical_and(predictions == 1, y_test == 0))\n",
        "FN = np.sum(np.logical_and(predictions == 0, y_test == 1))\n",
        "#pred = len(predictions)\n",
        "\n",
        "print('True Positives: {}'.format(TP))\n",
        "print('False Positive: {}'.format(FP))\n",
        "print('True Negative: {}'.format(TN))\n",
        "print('False Negative: {}'.format(FN))\n",
        "print('Precision: {}'.format(round(TP/(TP+FP),2)))\n",
        "print('Recall: {}'.format(round(TP/(TP+FN),2)))\n",
        "print('Problematic ratio: {}'.format(round(FN/(FN+TP),2)))"
      ],
      "execution_count": 0,
      "outputs": [
        {
          "output_type": "stream",
          "text": [
            "-------------\n",
            "f1 score: 0.887\n",
            "Accuracy: 0.952\n",
            "-------------\n",
            "-------------\n",
            "True Positives: 1690\n",
            "False Positive: 179\n",
            "True Negative: 6881\n",
            "False Negative: 250\n",
            "Precision: 0.9\n",
            "Recall: 0.87\n",
            "Problematic ratio: 0.13\n"
          ],
          "name": "stdout"
        },
        {
          "output_type": "stream",
          "text": [
            "/usr/local/lib/python3.6/dist-packages/sklearn/preprocessing/label.py:151: DeprecationWarning: The truth value of an empty array is ambiguous. Returning False, but in future this will result in an error. Use `array.size > 0` to check that an array is not empty.\n",
            "  if diff:\n"
          ],
          "name": "stderr"
        }
      ]
    },
    {
      "metadata": {
        "id": "iZCh3bH8UEib",
        "colab_type": "text"
      },
      "cell_type": "markdown",
      "source": [
        "##Logistic Regression"
      ]
    },
    {
      "metadata": {
        "id": "hRYMgP7k4HwO",
        "colab_type": "code",
        "colab": {}
      },
      "cell_type": "code",
      "source": [
        "from sklearn.linear_model import LogisticRegression"
      ],
      "execution_count": 0,
      "outputs": []
    },
    {
      "metadata": {
        "id": "vg1_9Wjp5Wnt",
        "colab_type": "code",
        "colab": {}
      },
      "cell_type": "code",
      "source": [
        "def transform(x):\n",
        "  if x==0:\n",
        "    return -1\n",
        "  return 1"
      ],
      "execution_count": 0,
      "outputs": []
    },
    {
      "metadata": {
        "id": "HsnXww-w5nMi",
        "colab_type": "code",
        "colab": {}
      },
      "cell_type": "code",
      "source": [
        "y=y.apply(transform)"
      ],
      "execution_count": 0,
      "outputs": []
    },
    {
      "metadata": {
        "id": "oIYqTgiYzm-c",
        "colab_type": "code",
        "outputId": "098a251d-1ceb-4993-8787-a8383a413f5d",
        "colab": {
          "base_uri": "https://localhost:8080/",
          "height": 158
        }
      },
      "cell_type": "code",
      "source": [
        "tuned_parameters = [{'C': [10**-4, 10**-2, 10**0, 10**2, 10**4]}]\n",
        "clf=LogisticRegression()\n",
        "model = GridSearchCV(clf, tuned_parameters, scoring ='accuracy', cv=10,n_jobs=-1)\n",
        "model.fit(X, y)"
      ],
      "execution_count": 0,
      "outputs": [
        {
          "output_type": "execute_result",
          "data": {
            "text/plain": [
              "GridSearchCV(cv=10, error_score='raise',\n",
              "       estimator=LogisticRegression(C=1.0, class_weight=None, dual=False, fit_intercept=True,\n",
              "          intercept_scaling=1, max_iter=100, multi_class='ovr', n_jobs=1,\n",
              "          penalty='l2', random_state=None, solver='liblinear', tol=0.0001,\n",
              "          verbose=0, warm_start=False),\n",
              "       fit_params={}, iid=True, n_jobs=-1,\n",
              "       param_grid=[{'C': [0.0001, 0.01, 1, 100, 10000]}],\n",
              "       pre_dispatch='2*n_jobs', refit=True, scoring='accuracy', verbose=0)"
            ]
          },
          "metadata": {
            "tags": []
          },
          "execution_count": 92
        }
      ]
    },
    {
      "metadata": {
        "id": "O_MTQFnDUVCd",
        "colab_type": "code",
        "outputId": "3b071f98-9591-4502-aef5-c7b6901f0563",
        "colab": {
          "base_uri": "https://localhost:8080/",
          "height": 87
        }
      },
      "cell_type": "code",
      "source": [
        "print(model.best_estimator_)"
      ],
      "execution_count": 0,
      "outputs": [
        {
          "output_type": "stream",
          "text": [
            "LogisticRegression(C=0.0001, class_weight=None, dual=False,\n",
            "          fit_intercept=True, intercept_scaling=1, max_iter=100,\n",
            "          multi_class='ovr', n_jobs=1, penalty='l2', random_state=None,\n",
            "          solver='liblinear', tol=0.0001, verbose=0, warm_start=False)\n"
          ],
          "name": "stdout"
        }
      ]
    },
    {
      "metadata": {
        "id": "x_K93U_zUjnL",
        "colab_type": "code",
        "outputId": "a658c48e-a2a2-41db-e1d1-da86d03a1d72",
        "colab": {
          "base_uri": "https://localhost:8080/",
          "height": 105
        }
      },
      "cell_type": "code",
      "source": [
        "model.grid_scores_"
      ],
      "execution_count": 0,
      "outputs": [
        {
          "output_type": "execute_result",
          "data": {
            "text/plain": [
              "[mean: 0.77867, std: 0.00025, params: {'C': 0.0001},\n",
              " mean: 0.77867, std: 0.00025, params: {'C': 0.01},\n",
              " mean: 0.77867, std: 0.00025, params: {'C': 1},\n",
              " mean: 0.77867, std: 0.00025, params: {'C': 100},\n",
              " mean: 0.77867, std: 0.00025, params: {'C': 10000}]"
            ]
          },
          "metadata": {
            "tags": []
          },
          "execution_count": 93
        }
      ]
    },
    {
      "metadata": {
        "id": "U3Xv5vggUdtk",
        "colab_type": "code",
        "outputId": "077f260b-22d6-44a4-c0a6-f81165c7d09f",
        "colab": {
          "base_uri": "https://localhost:8080/",
          "height": 34
        }
      },
      "cell_type": "code",
      "source": [
        "print(model.score(X_test, y_test))"
      ],
      "execution_count": 0,
      "outputs": [
        {
          "output_type": "stream",
          "text": [
            "0.0\n"
          ],
          "name": "stdout"
        }
      ]
    },
    {
      "metadata": {
        "id": "1R7T1jhNUm5Z",
        "colab_type": "code",
        "colab": {}
      },
      "cell_type": "code",
      "source": [
        "clf=LogisticRegression()\n",
        "#penalty = ['l1', 'l2']\n",
        "#uniform(loc=10**-4, scale=10**2)\n",
        "C=np.random.uniform(10**-4,10**4,size=20)\n",
        "hyperparameters = dict(C=C)\n",
        "#params={'C': [randint.rvs(10**-4,200)]}\n",
        "model = RandomizedSearchCV(clf,param_distributions=hyperparameters, refit=True,scoring ='f1', cv=5,n_jobs="
      ],
      "execution_count": 0,
      "outputs": []
    },
    {
      "metadata": {
        "id": "Ng2xPGNbU5Uk",
        "colab_type": "code",
        "colab": {}
      },
      "cell_type": "code",
      "source": [
        "lgr=LogisticRegression()\n",
        "lgr.fit(X_train_2,y_train)\n",
        "y_pred=lgr.predict(X_test_2)\n",
        "cm=confusion_matrix(y_test,y_pred)\n",
        "print(cm)"
      ],
      "execution_count": 0,
      "outputs": []
    },
    {
      "metadata": {
        "id": "moiXT2e5U_1O",
        "colab_type": "code",
        "outputId": "5e556046-37dc-406e-839f-a57d096f3c04",
        "colab": {
          "base_uri": "https://localhost:8080/",
          "height": 123
        }
      },
      "cell_type": "code",
      "source": [
        "C_values=[1000,100,1,0.01,0.001,0.0001]\n",
        "for val in C_values:\n",
        "  clf=LogisticRegression(C=val,penalty='l1')\n",
        "  clf.fit(X,y)\n",
        "  w=clf.coef_\n",
        "  count = np.count_nonzero(w)\n",
        "  lamda=1/val\n",
        "  print(\"Number of Non-Zero Coefficients for lamda = {} is {}\".format(lamda,count))"
      ],
      "execution_count": 0,
      "outputs": [
        {
          "output_type": "stream",
          "text": [
            "Number of Non-Zero Coefficients for lamda = 0.001 is 34\n",
            "Number of Non-Zero Coefficients for lamda = 0.01 is 34\n",
            "Number of Non-Zero Coefficients for lamda = 1.0 is 33\n",
            "Number of Non-Zero Coefficients for lamda = 100.0 is 22\n",
            "Number of Non-Zero Coefficients for lamda = 1000.0 is 16\n",
            "Number of Non-Zero Coefficients for lamda = 10000.0 is 13\n"
          ],
          "name": "stdout"
        }
      ]
    },
    {
      "metadata": {
        "id": "EK-8t5H9WNgu",
        "colab_type": "code",
        "colab": {}
      },
      "cell_type": "code",
      "source": [
        "coef=lgr.coef_.flatten()"
      ],
      "execution_count": 0,
      "outputs": []
    },
    {
      "metadata": {
        "id": "IjhX0_0_Vxsz",
        "colab_type": "code",
        "outputId": "68844549-5596-477d-ffb3-aa539e8be368",
        "colab": {
          "base_uri": "https://localhost:8080/",
          "height": 87
        }
      },
      "cell_type": "code",
      "source": [
        "estimator1=LogisticRegression(C=0.0001, class_weight=None, dual=False,\n",
        "          fit_intercept=True, intercept_scaling=1, max_iter=100,\n",
        "          multi_class='ovr', n_jobs=1, penalty='l2', random_state=None,\n",
        "          solver='liblinear', tol=0.0001, verbose=0, warm_start=False)\n",
        "estimator1.fit(X,y)"
      ],
      "execution_count": 0,
      "outputs": [
        {
          "output_type": "execute_result",
          "data": {
            "text/plain": [
              "LogisticRegression(C=0.0001, class_weight=None, dual=False,\n",
              "          fit_intercept=True, intercept_scaling=1, max_iter=100,\n",
              "          multi_class='ovr', n_jobs=1, penalty='l2', random_state=None,\n",
              "          solver='liblinear', tol=0.0001, verbose=0, warm_start=False)"
            ]
          },
          "metadata": {
            "tags": []
          },
          "execution_count": 96
        }
      ]
    },
    {
      "metadata": {
        "id": "SI2ItGntWh7E",
        "colab_type": "code",
        "colab": {}
      },
      "cell_type": "code",
      "source": [
        "Noice = np.random.normal(0, 0.01,X.shape[0] )\n",
        "Noice=Noice.reshape(-1,1)\n",
        "X_train_new=np.array(X)+Noice"
      ],
      "execution_count": 0,
      "outputs": []
    },
    {
      "metadata": {
        "id": "7Q7JNEQGV8tr",
        "colab_type": "code",
        "outputId": "f2b36ab3-faf7-4728-d149-711bd5a8dad1",
        "colab": {
          "base_uri": "https://localhost:8080/",
          "height": 87
        }
      },
      "cell_type": "code",
      "source": [
        "estimator2=LogisticRegression(C=0.0001, class_weight=None, dual=False,\n",
        "          fit_intercept=True, intercept_scaling=1, max_iter=100,\n",
        "          multi_class='ovr', n_jobs=1, penalty='l2', random_state=None,\n",
        "          solver='liblinear', tol=0.0001, verbose=0, warm_start=False)\n",
        "estimator2.fit(X_train_new,y)"
      ],
      "execution_count": 0,
      "outputs": [
        {
          "output_type": "execute_result",
          "data": {
            "text/plain": [
              "LogisticRegression(C=0.0001, class_weight=None, dual=False,\n",
              "          fit_intercept=True, intercept_scaling=1, max_iter=100,\n",
              "          multi_class='ovr', n_jobs=1, penalty='l2', random_state=None,\n",
              "          solver='liblinear', tol=0.0001, verbose=0, warm_start=False)"
            ]
          },
          "metadata": {
            "tags": []
          },
          "execution_count": 109
        }
      ]
    },
    {
      "metadata": {
        "id": "CyxQzd0A9bY3",
        "colab_type": "code",
        "outputId": "aeed089e-b264-4dce-cd8c-a7f0157d9778",
        "colab": {
          "base_uri": "https://localhost:8080/",
          "height": 34
        }
      },
      "cell_type": "code",
      "source": [
        "(estimator2.coef_).shape"
      ],
      "execution_count": 0,
      "outputs": [
        {
          "output_type": "execute_result",
          "data": {
            "text/plain": [
              "(1, 34)"
            ]
          },
          "metadata": {
            "tags": []
          },
          "execution_count": 110
        }
      ]
    },
    {
      "metadata": {
        "id": "Vef4zb4GWz6v",
        "colab_type": "code",
        "colab": {}
      },
      "cell_type": "code",
      "source": [
        "coef1=estimator1.coef_.flatten()\n",
        "coef2=estimator2.coef_.flatten()\n",
        "percentage_changes=[]\n",
        "for i in range(len(coef1)):\n",
        "  diff=(coef1[i]-coef2[i])/coef1[i]\n",
        "  percentage_changes.append(diff*100)"
      ],
      "execution_count": 0,
      "outputs": []
    },
    {
      "metadata": {
        "id": "aFDvuQ1ZW7Qf",
        "colab_type": "code",
        "outputId": "771fcf92-b6c3-4cf1-9196-278d845d6a1f",
        "colab": {
          "base_uri": "https://localhost:8080/",
          "height": 282
        }
      },
      "cell_type": "code",
      "source": [
        "sns.kdeplot(np.array(percentage_changes))"
      ],
      "execution_count": 0,
      "outputs": [
        {
          "output_type": "execute_result",
          "data": {
            "text/plain": [
              "<matplotlib.axes._subplots.AxesSubplot at 0x7fe28a2b8080>"
            ]
          },
          "metadata": {
            "tags": []
          },
          "execution_count": 112
        },
        {
          "output_type": "display_data",
          "data": {
            "image/png": "[encoded data removed]",
            "text/plain": [
              "<matplotlib.figure.Figure at 0x7fe28a2ad7f0>"
            ]
          },
          "metadata": {
            "tags": []
          }
        }
      ]
    },
    {
      "metadata": {
        "id": "Ov2JzkDAXGVA",
        "colab_type": "code",
        "outputId": "2daf253f-7802-489d-9afb-ad20f92edb4c",
        "colab": {
          "base_uri": "https://localhost:8080/",
          "height": 296
        }
      },
      "cell_type": "code",
      "source": [
        "plt.plot(range(0,34),percentage_changes)\n",
        "plt.xlabel(\"Index of weights\")\n",
        "plt.ylabel(\"% change in weights\")"
      ],
      "execution_count": 0,
      "outputs": [
        {
          "output_type": "execute_result",
          "data": {
            "text/plain": [
              "Text(0,0.5,'% change in weights')"
            ]
          },
          "metadata": {
            "tags": []
          },
          "execution_count": 114
        },
        {
          "output_type": "display_data",
          "data": {
            "image/png": "[encoded data removed]",
            "text/plain": [
              "<matplotlib.figure.Figure at 0x7fe294305ac8>"
            ]
          },
          "metadata": {
            "tags": []
          }
        }
      ]
    },
    {
      "metadata": {
        "id": "FG1H9v29jXad",
        "colab_type": "text"
      },
      "cell_type": "markdown",
      "source": [
        "#Database"
      ]
    },
    {
      "metadata": {
        "id": "zhKm9yOnjcO5",
        "colab_type": "code",
        "colab": {}
      },
      "cell_type": "code",
      "source": [
        "import sqlite3\n",
        "from sqlalchemy import create_engine\n",
        "import datetime as dt\n",
        "import os"
      ],
      "execution_count": 0,
      "outputs": []
    },
    {
      "metadata": {
        "id": "F9dlmh2-kJde",
        "colab_type": "code",
        "colab": {}
      },
      "cell_type": "code",
      "source": [
        "!pip install sqlalchemy"
      ],
      "execution_count": 0,
      "outputs": []
    },
    {
      "metadata": {
        "id": "znFYnBZqklET",
        "colab_type": "code",
        "outputId": "b4d5984e-99f4-4578-ccc7-f31b56ba4971",
        "colab": {
          "base_uri": "https://localhost:8080/",
          "height": 123
        }
      },
      "cell_type": "code",
      "source": [
        "df.columns"
      ],
      "execution_count": 0,
      "outputs": [
        {
          "output_type": "execute_result",
          "data": {
            "text/plain": [
              "Index(['ID', 'LIMIT_BAL', 'SEX', 'EDUCATION', 'MARRIAGE', 'AGE', 'PAY_0',\n",
              "       'PAY_2', 'PAY_3', 'PAY_4', 'PAY_5', 'PAY_6', 'BILL_AMT1', 'BILL_AMT2',\n",
              "       'BILL_AMT3', 'BILL_AMT4', 'BILL_AMT5', 'BILL_AMT6', 'PAY_AMT1',\n",
              "       'PAY_AMT2', 'PAY_AMT3', 'PAY_AMT4', 'PAY_AMT5', 'PAY_AMT6',\n",
              "       'default.payment.next.month'],\n",
              "      dtype='object')"
            ]
          },
          "metadata": {
            "tags": []
          },
          "execution_count": 15
        }
      ]
    },
    {
      "metadata": {
        "id": "8YowUHfrkN8n",
        "colab_type": "code",
        "outputId": "fc795079-7979-4b0f-c32a-4894596cdda4",
        "colab": {
          "base_uri": "https://localhost:8080/",
          "height": 158
        }
      },
      "cell_type": "code",
      "source": [
        "if not os.path.isfile('data.db'):\n",
        "    \n",
        "    disk_engine = create_engine('sqlite:///data.db')\n",
        "    start = dt.datetime.now()\n",
        "    chunksize = 5000\n",
        "    j = 0\n",
        "    index_start = 1\n",
        "    for df in pd.read_csv('./Creditcard_raw_data/UCI_Credit_Card.csv', names=df.columns, chunksize=chunksize, iterator=True, encoding='utf-8', ):\n",
        "        df.index += index_start\n",
        "        j+=1\n",
        "        print('{} rows'.format(j*chunksize))\n",
        "        df.to_sql('data', disk_engine, if_exists='append')\n",
        "        index_start = df.index[-1] + 1\n",
        "    print(\"Time taken to run this cell :\", dt.datetime.now() - start)"
      ],
      "execution_count": 0,
      "outputs": [
        {
          "output_type": "stream",
          "text": [
            "5000 rows\n",
            "10000 rows\n",
            "15000 rows\n",
            "20000 rows\n",
            "25000 rows\n",
            "30000 rows\n",
            "35000 rows\n",
            "Time taken to run this cell : 0:00:01.446886\n"
          ],
          "name": "stdout"
        }
      ]
    },
    {
      "metadata": {
        "id": "6Xgt88gjl1Ex",
        "colab_type": "code",
        "outputId": "f091fdc8-0dd9-421d-d3c4-eedba956f901",
        "colab": {
          "base_uri": "https://localhost:8080/",
          "height": 70
        }
      },
      "cell_type": "code",
      "source": [
        "if os.path.isfile('data.db'):\n",
        "    start = dt.datetime.now()\n",
        "    con = sqlite3.connect('data.db')\n",
        "    num_rows = pd.read_sql_query(\"\"\"SELECT count(*) FROM data\"\"\", con)\n",
        "    #Always remember to close the database\n",
        "    print(\"Number of rows in the database :\",\"\\n\",num_rows['count(*)'].values[0])\n",
        "    con.close()\n",
        "    print(\"Time taken to count the number of rows :\", dt.datetime.now() - start)\n",
        "else:\n",
        "    print(\"Please download the train.db file from drive or run the above cell to genarate train.db file\")"
      ],
      "execution_count": 0,
      "outputs": [
        {
          "output_type": "stream",
          "text": [
            "Number of rows in the database : \n",
            " 30001\n",
            "Time taken to count the number of rows : 0:00:00.005493\n"
          ],
          "name": "stdout"
        }
      ]
    },
    {
      "metadata": {
        "id": "mCR-BvEPmHdx",
        "colab_type": "code",
        "outputId": "c2aba5c3-cf84-4ec1-8d99-8288eb055646",
        "colab": {
          "base_uri": "https://localhost:8080/",
          "height": 77
        }
      },
      "cell_type": "code",
      "source": [
        "num_rows"
      ],
      "execution_count": 0,
      "outputs": [
        {
          "output_type": "execute_result",
          "data": {
            "text/html": [
              "<div>\n",
              "<style scoped>\n",
              "    .dataframe tbody tr th:only-of-type {\n",
              "        vertical-align: middle;\n",
              "    }\n",
              "\n",
              "    .dataframe tbody tr th {\n",
              "        vertical-align: top;\n",
              "    }\n",
              "\n",
              "    .dataframe thead th {\n",
              "        text-align: right;\n",
              "    }\n",
              "</style>\n",
              "<table border=\"1\" class=\"dataframe\">\n",
              "  <thead>\n",
              "    <tr style=\"text-align: right;\">\n",
              "      <th></th>\n",
              "      <th>count(*)</th>\n",
              "    </tr>\n",
              "  </thead>\n",
              "  <tbody>\n",
              "    <tr>\n",
              "      <th>0</th>\n",
              "      <td>30001</td>\n",
              "    </tr>\n",
              "  </tbody>\n",
              "</table>\n",
              "</div>"
            ],
            "text/plain": [
              "   count(*)\n",
              "0     30001"
            ]
          },
          "metadata": {
            "tags": []
          },
          "execution_count": 31
        }
      ]
    },
    {
      "metadata": {
        "id": "6pe56gy4knBs",
        "colab_type": "code",
        "outputId": "c56c4480-b6cb-4ada-f8cd-042ebb019d1f",
        "colab": {
          "base_uri": "https://localhost:8080/",
          "height": 34
        }
      },
      "cell_type": "code",
      "source": [
        "if os.path.isfile('data.db'):\n",
        "    start = dt.datetime.now()\n",
        "    con = sqlite3.connect('data.db')\n",
        "\n",
        "    df_no_dup = pd.read_sql_query(\"\"\"SELECT *, COUNT(*) as cnt_dup FROM data GROUP BY ID\"\"\", con)\n",
        "    con.close()\n",
        "    print(\"Time taken to run this cell :\", dt.datetime.now() - start)\n",
        "else:\n",
        "    print(\"Please download the train.db file from drive or run the first to genarate train.db file\")"
      ],
      "execution_count": 0,
      "outputs": [
        {
          "output_type": "stream",
          "text": [
            "Time taken to run this cell : 0:00:00.420869\n"
          ],
          "name": "stdout"
        }
      ]
    },
    {
      "metadata": {
        "id": "fZOV2UcJnADP",
        "colab_type": "code",
        "outputId": "f11fc7a7-2e3c-4511-9e85-44d241640925",
        "colab": {
          "base_uri": "https://localhost:8080/",
          "height": 34
        }
      },
      "cell_type": "code",
      "source": [
        "len(df_no_dup)"
      ],
      "execution_count": 0,
      "outputs": [
        {
          "output_type": "execute_result",
          "data": {
            "text/plain": [
              "30001"
            ]
          },
          "metadata": {
            "tags": []
          },
          "execution_count": 44
        }
      ]
    },
    {
      "metadata": {
        "id": "VJhuf6AHnROQ",
        "colab_type": "code",
        "outputId": "7682fb9f-ff5e-463f-f5c4-3591ab0605fd",
        "colab": {
          "base_uri": "https://localhost:8080/",
          "height": 246
        }
      },
      "cell_type": "code",
      "source": [
        "df_no_dup.head(5)"
      ],
      "execution_count": 0,
      "outputs": [
        {
          "output_type": "execute_result",
          "data": {
            "text/html": [
              "<div>\n",
              "<style scoped>\n",
              "    .dataframe tbody tr th:only-of-type {\n",
              "        vertical-align: middle;\n",
              "    }\n",
              "\n",
              "    .dataframe tbody tr th {\n",
              "        vertical-align: top;\n",
              "    }\n",
              "\n",
              "    .dataframe thead th {\n",
              "        text-align: right;\n",
              "    }\n",
              "</style>\n",
              "<table border=\"1\" class=\"dataframe\">\n",
              "  <thead>\n",
              "    <tr style=\"text-align: right;\">\n",
              "      <th></th>\n",
              "      <th>index</th>\n",
              "      <th>ID</th>\n",
              "      <th>LIMIT_BAL</th>\n",
              "      <th>SEX</th>\n",
              "      <th>EDUCATION</th>\n",
              "      <th>MARRIAGE</th>\n",
              "      <th>AGE</th>\n",
              "      <th>PAY_0</th>\n",
              "      <th>PAY_2</th>\n",
              "      <th>PAY_3</th>\n",
              "      <th>...</th>\n",
              "      <th>BILL_AMT5</th>\n",
              "      <th>BILL_AMT6</th>\n",
              "      <th>PAY_AMT1</th>\n",
              "      <th>PAY_AMT2</th>\n",
              "      <th>PAY_AMT3</th>\n",
              "      <th>PAY_AMT4</th>\n",
              "      <th>PAY_AMT5</th>\n",
              "      <th>PAY_AMT6</th>\n",
              "      <th>default.payment.next.month</th>\n",
              "      <th>cnt_dup</th>\n",
              "    </tr>\n",
              "  </thead>\n",
              "  <tbody>\n",
              "    <tr>\n",
              "      <th>0</th>\n",
              "      <td>2</td>\n",
              "      <td>1</td>\n",
              "      <td>20000</td>\n",
              "      <td>2</td>\n",
              "      <td>2</td>\n",
              "      <td>1</td>\n",
              "      <td>24</td>\n",
              "      <td>2</td>\n",
              "      <td>2</td>\n",
              "      <td>-1</td>\n",
              "      <td>...</td>\n",
              "      <td>0</td>\n",
              "      <td>0</td>\n",
              "      <td>0</td>\n",
              "      <td>689</td>\n",
              "      <td>0</td>\n",
              "      <td>0</td>\n",
              "      <td>0</td>\n",
              "      <td>0</td>\n",
              "      <td>1</td>\n",
              "      <td>1</td>\n",
              "    </tr>\n",
              "    <tr>\n",
              "      <th>1</th>\n",
              "      <td>11</td>\n",
              "      <td>10</td>\n",
              "      <td>20000</td>\n",
              "      <td>1</td>\n",
              "      <td>3</td>\n",
              "      <td>2</td>\n",
              "      <td>35</td>\n",
              "      <td>-2</td>\n",
              "      <td>-2</td>\n",
              "      <td>-2</td>\n",
              "      <td>...</td>\n",
              "      <td>13007</td>\n",
              "      <td>13912</td>\n",
              "      <td>0</td>\n",
              "      <td>0</td>\n",
              "      <td>0</td>\n",
              "      <td>13007</td>\n",
              "      <td>1122</td>\n",
              "      <td>0</td>\n",
              "      <td>0</td>\n",
              "      <td>1</td>\n",
              "    </tr>\n",
              "    <tr>\n",
              "      <th>2</th>\n",
              "      <td>101</td>\n",
              "      <td>100</td>\n",
              "      <td>20000</td>\n",
              "      <td>1</td>\n",
              "      <td>2</td>\n",
              "      <td>1</td>\n",
              "      <td>38</td>\n",
              "      <td>0</td>\n",
              "      <td>0</td>\n",
              "      <td>0</td>\n",
              "      <td>...</td>\n",
              "      <td>17928</td>\n",
              "      <td>150</td>\n",
              "      <td>1699</td>\n",
              "      <td>1460</td>\n",
              "      <td>626</td>\n",
              "      <td>1750</td>\n",
              "      <td>150</td>\n",
              "      <td>0</td>\n",
              "      <td>1</td>\n",
              "      <td>1</td>\n",
              "    </tr>\n",
              "    <tr>\n",
              "      <th>3</th>\n",
              "      <td>1001</td>\n",
              "      <td>1000</td>\n",
              "      <td>120000</td>\n",
              "      <td>1</td>\n",
              "      <td>2</td>\n",
              "      <td>2</td>\n",
              "      <td>25</td>\n",
              "      <td>2</td>\n",
              "      <td>2</td>\n",
              "      <td>0</td>\n",
              "      <td>...</td>\n",
              "      <td>86434</td>\n",
              "      <td>88802</td>\n",
              "      <td>0</td>\n",
              "      <td>5000</td>\n",
              "      <td>3158</td>\n",
              "      <td>3934</td>\n",
              "      <td>3802</td>\n",
              "      <td>2000</td>\n",
              "      <td>0</td>\n",
              "      <td>1</td>\n",
              "    </tr>\n",
              "    <tr>\n",
              "      <th>4</th>\n",
              "      <td>25001</td>\n",
              "      <td>10000</td>\n",
              "      <td>230000.0</td>\n",
              "      <td>1</td>\n",
              "      <td>2</td>\n",
              "      <td>1</td>\n",
              "      <td>36</td>\n",
              "      <td>0</td>\n",
              "      <td>0</td>\n",
              "      <td>0</td>\n",
              "      <td>...</td>\n",
              "      <td>19255</td>\n",
              "      <td>17479</td>\n",
              "      <td>3000.0</td>\n",
              "      <td>3000.0</td>\n",
              "      <td>3000.0</td>\n",
              "      <td>3000</td>\n",
              "      <td>3000.0</td>\n",
              "      <td>3000.0</td>\n",
              "      <td>0</td>\n",
              "      <td>1</td>\n",
              "    </tr>\n",
              "  </tbody>\n",
              "</table>\n",
              "<p>5 rows × 27 columns</p>\n",
              "</div>"
            ],
            "text/plain": [
              "   index     ID LIMIT_BAL SEX EDUCATION MARRIAGE AGE PAY_0 PAY_2 PAY_3  \\\n",
              "0      2      1     20000   2         2        1  24     2     2    -1   \n",
              "1     11     10     20000   1         3        2  35    -2    -2    -2   \n",
              "2    101    100     20000   1         2        1  38     0     0     0   \n",
              "3   1001   1000    120000   1         2        2  25     2     2     0   \n",
              "4  25001  10000  230000.0   1         2        1  36     0     0     0   \n",
              "\n",
              "    ...   BILL_AMT5 BILL_AMT6 PAY_AMT1 PAY_AMT2 PAY_AMT3 PAY_AMT4 PAY_AMT5  \\\n",
              "0   ...           0         0        0      689        0        0        0   \n",
              "1   ...       13007     13912        0        0        0    13007     1122   \n",
              "2   ...       17928       150     1699     1460      626     1750      150   \n",
              "3   ...       86434     88802        0     5000     3158     3934     3802   \n",
              "4   ...       19255     17479   3000.0   3000.0   3000.0     3000   3000.0   \n",
              "\n",
              "  PAY_AMT6 default.payment.next.month cnt_dup  \n",
              "0        0                          1       1  \n",
              "1        0                          0       1  \n",
              "2        0                          1       1  \n",
              "3     2000                          0       1  \n",
              "4   3000.0                          0       1  \n",
              "\n",
              "[5 rows x 27 columns]"
            ]
          },
          "metadata": {
            "tags": []
          },
          "execution_count": 43
        }
      ]
    },
    {
      "metadata": {
        "id": "g6qm0R3annF2",
        "colab_type": "code",
        "colab": {}
      },
      "cell_type": "code",
      "source": [
        "df_no_dup.drop(['index','cnt_dup'],axis=1,inplace=True)"
      ],
      "execution_count": 0,
      "outputs": []
    },
    {
      "metadata": {
        "id": "61-qrdMtoQ8U",
        "colab_type": "code",
        "outputId": "17bcef94-b996-4c32-c44f-9cb696a2894f",
        "colab": {
          "base_uri": "https://localhost:8080/",
          "height": 246
        }
      },
      "cell_type": "code",
      "source": [
        "df_no_dup.head(5)"
      ],
      "execution_count": 0,
      "outputs": [
        {
          "output_type": "execute_result",
          "data": {
            "text/html": [
              "<div>\n",
              "<style scoped>\n",
              "    .dataframe tbody tr th:only-of-type {\n",
              "        vertical-align: middle;\n",
              "    }\n",
              "\n",
              "    .dataframe tbody tr th {\n",
              "        vertical-align: top;\n",
              "    }\n",
              "\n",
              "    .dataframe thead th {\n",
              "        text-align: right;\n",
              "    }\n",
              "</style>\n",
              "<table border=\"1\" class=\"dataframe\">\n",
              "  <thead>\n",
              "    <tr style=\"text-align: right;\">\n",
              "      <th></th>\n",
              "      <th>ID</th>\n",
              "      <th>LIMIT_BAL</th>\n",
              "      <th>SEX</th>\n",
              "      <th>EDUCATION</th>\n",
              "      <th>MARRIAGE</th>\n",
              "      <th>AGE</th>\n",
              "      <th>PAY_0</th>\n",
              "      <th>PAY_2</th>\n",
              "      <th>PAY_3</th>\n",
              "      <th>PAY_4</th>\n",
              "      <th>...</th>\n",
              "      <th>BILL_AMT4</th>\n",
              "      <th>BILL_AMT5</th>\n",
              "      <th>BILL_AMT6</th>\n",
              "      <th>PAY_AMT1</th>\n",
              "      <th>PAY_AMT2</th>\n",
              "      <th>PAY_AMT3</th>\n",
              "      <th>PAY_AMT4</th>\n",
              "      <th>PAY_AMT5</th>\n",
              "      <th>PAY_AMT6</th>\n",
              "      <th>default.payment.next.month</th>\n",
              "    </tr>\n",
              "  </thead>\n",
              "  <tbody>\n",
              "    <tr>\n",
              "      <th>0</th>\n",
              "      <td>1</td>\n",
              "      <td>20000</td>\n",
              "      <td>2</td>\n",
              "      <td>2</td>\n",
              "      <td>1</td>\n",
              "      <td>24</td>\n",
              "      <td>2</td>\n",
              "      <td>2</td>\n",
              "      <td>-1</td>\n",
              "      <td>-1</td>\n",
              "      <td>...</td>\n",
              "      <td>0</td>\n",
              "      <td>0</td>\n",
              "      <td>0</td>\n",
              "      <td>0</td>\n",
              "      <td>689</td>\n",
              "      <td>0</td>\n",
              "      <td>0</td>\n",
              "      <td>0</td>\n",
              "      <td>0</td>\n",
              "      <td>1</td>\n",
              "    </tr>\n",
              "    <tr>\n",
              "      <th>1</th>\n",
              "      <td>10</td>\n",
              "      <td>20000</td>\n",
              "      <td>1</td>\n",
              "      <td>3</td>\n",
              "      <td>2</td>\n",
              "      <td>35</td>\n",
              "      <td>-2</td>\n",
              "      <td>-2</td>\n",
              "      <td>-2</td>\n",
              "      <td>-2</td>\n",
              "      <td>...</td>\n",
              "      <td>0</td>\n",
              "      <td>13007</td>\n",
              "      <td>13912</td>\n",
              "      <td>0</td>\n",
              "      <td>0</td>\n",
              "      <td>0</td>\n",
              "      <td>13007</td>\n",
              "      <td>1122</td>\n",
              "      <td>0</td>\n",
              "      <td>0</td>\n",
              "    </tr>\n",
              "    <tr>\n",
              "      <th>2</th>\n",
              "      <td>100</td>\n",
              "      <td>20000</td>\n",
              "      <td>1</td>\n",
              "      <td>2</td>\n",
              "      <td>1</td>\n",
              "      <td>38</td>\n",
              "      <td>0</td>\n",
              "      <td>0</td>\n",
              "      <td>0</td>\n",
              "      <td>0</td>\n",
              "      <td>...</td>\n",
              "      <td>18240</td>\n",
              "      <td>17928</td>\n",
              "      <td>150</td>\n",
              "      <td>1699</td>\n",
              "      <td>1460</td>\n",
              "      <td>626</td>\n",
              "      <td>1750</td>\n",
              "      <td>150</td>\n",
              "      <td>0</td>\n",
              "      <td>1</td>\n",
              "    </tr>\n",
              "    <tr>\n",
              "      <th>3</th>\n",
              "      <td>1000</td>\n",
              "      <td>120000</td>\n",
              "      <td>1</td>\n",
              "      <td>2</td>\n",
              "      <td>2</td>\n",
              "      <td>25</td>\n",
              "      <td>2</td>\n",
              "      <td>2</td>\n",
              "      <td>0</td>\n",
              "      <td>0</td>\n",
              "      <td>...</td>\n",
              "      <td>83858</td>\n",
              "      <td>86434</td>\n",
              "      <td>88802</td>\n",
              "      <td>0</td>\n",
              "      <td>5000</td>\n",
              "      <td>3158</td>\n",
              "      <td>3934</td>\n",
              "      <td>3802</td>\n",
              "      <td>2000</td>\n",
              "      <td>0</td>\n",
              "    </tr>\n",
              "    <tr>\n",
              "      <th>4</th>\n",
              "      <td>10000</td>\n",
              "      <td>230000.0</td>\n",
              "      <td>1</td>\n",
              "      <td>2</td>\n",
              "      <td>1</td>\n",
              "      <td>36</td>\n",
              "      <td>0</td>\n",
              "      <td>0</td>\n",
              "      <td>0</td>\n",
              "      <td>0</td>\n",
              "      <td>...</td>\n",
              "      <td>19506.0</td>\n",
              "      <td>19255</td>\n",
              "      <td>17479</td>\n",
              "      <td>3000.0</td>\n",
              "      <td>3000.0</td>\n",
              "      <td>3000.0</td>\n",
              "      <td>3000</td>\n",
              "      <td>3000.0</td>\n",
              "      <td>3000.0</td>\n",
              "      <td>0</td>\n",
              "    </tr>\n",
              "  </tbody>\n",
              "</table>\n",
              "<p>5 rows × 25 columns</p>\n",
              "</div>"
            ],
            "text/plain": [
              "      ID LIMIT_BAL SEX EDUCATION MARRIAGE AGE PAY_0 PAY_2 PAY_3 PAY_4  \\\n",
              "0      1     20000   2         2        1  24     2     2    -1    -1   \n",
              "1     10     20000   1         3        2  35    -2    -2    -2    -2   \n",
              "2    100     20000   1         2        1  38     0     0     0     0   \n",
              "3   1000    120000   1         2        2  25     2     2     0     0   \n",
              "4  10000  230000.0   1         2        1  36     0     0     0     0   \n",
              "\n",
              "             ...             BILL_AMT4 BILL_AMT5 BILL_AMT6 PAY_AMT1 PAY_AMT2  \\\n",
              "0            ...                     0         0         0        0      689   \n",
              "1            ...                     0     13007     13912        0        0   \n",
              "2            ...                 18240     17928       150     1699     1460   \n",
              "3            ...                 83858     86434     88802        0     5000   \n",
              "4            ...               19506.0     19255     17479   3000.0   3000.0   \n",
              "\n",
              "  PAY_AMT3 PAY_AMT4 PAY_AMT5 PAY_AMT6 default.payment.next.month  \n",
              "0        0        0        0        0                          1  \n",
              "1        0    13007     1122        0                          0  \n",
              "2      626     1750      150        0                          1  \n",
              "3     3158     3934     3802     2000                          0  \n",
              "4   3000.0     3000   3000.0   3000.0                          0  \n",
              "\n",
              "[5 rows x 25 columns]"
            ]
          },
          "metadata": {
            "tags": []
          },
          "execution_count": 51
        }
      ]
    },
    {
      "metadata": {
        "id": "36zsnUQ0oXHZ",
        "colab_type": "code",
        "colab": {}
      },
      "cell_type": "code",
      "source": [
        "if not os.path.isfile('train_no_dup.db'):\n",
        "    disk_dup = create_engine(\"sqlite:///train_no_dup.db\")\n",
        "    no_dup = pd.DataFrame(df_no_dup, columns=df_no_dup.columns)\n",
        "    no_dup.to_sql('no_dup_train',disk_dup)"
      ],
      "execution_count": 0,
      "outputs": []
    },
    {
      "metadata": {
        "id": "aw5glNORpCSb",
        "colab_type": "code",
        "outputId": "e339375d-ced7-4ea0-b854-caa8a62fd93b",
        "colab": {
          "base_uri": "https://localhost:8080/",
          "height": 34
        }
      },
      "cell_type": "code",
      "source": [
        "\n",
        "#creating the connection with database file.\n",
        "if os.path.isfile('train_no_dup.db'):\n",
        "    start = dt.datetime.now()\n",
        "    con = sqlite3.connect('train_no_dup.db')\n",
        "    credit_data = pd.read_sql_query(\"\"\"SELECT * FROM no_dup_train\"\"\", con)\n",
        "    \n",
        "    con.close()\n",
        "\n",
        "    \n",
        "    credit_data.drop('index',axis=1,inplace=True)\n",
        "\n",
        "    print(\"Time taken to run this cell :\", dt.datetime.now() - start)\n"
      ],
      "execution_count": 0,
      "outputs": [
        {
          "output_type": "stream",
          "text": [
            "Time taken to run this cell : 0:00:00.304322\n"
          ],
          "name": "stdout"
        }
      ]
    },
    {
      "metadata": {
        "id": "5vZUNt88pZHC",
        "colab_type": "code",
        "outputId": "c54d025f-50b8-4e43-dd5f-ef9549dbd2a5",
        "colab": {
          "base_uri": "https://localhost:8080/",
          "height": 246
        }
      },
      "cell_type": "code",
      "source": [
        "credit_data.head()"
      ],
      "execution_count": 0,
      "outputs": [
        {
          "output_type": "execute_result",
          "data": {
            "text/html": [
              "<div>\n",
              "<style scoped>\n",
              "    .dataframe tbody tr th:only-of-type {\n",
              "        vertical-align: middle;\n",
              "    }\n",
              "\n",
              "    .dataframe tbody tr th {\n",
              "        vertical-align: top;\n",
              "    }\n",
              "\n",
              "    .dataframe thead th {\n",
              "        text-align: right;\n",
              "    }\n",
              "</style>\n",
              "<table border=\"1\" class=\"dataframe\">\n",
              "  <thead>\n",
              "    <tr style=\"text-align: right;\">\n",
              "      <th></th>\n",
              "      <th>ID</th>\n",
              "      <th>LIMIT_BAL</th>\n",
              "      <th>SEX</th>\n",
              "      <th>EDUCATION</th>\n",
              "      <th>MARRIAGE</th>\n",
              "      <th>AGE</th>\n",
              "      <th>PAY_0</th>\n",
              "      <th>PAY_2</th>\n",
              "      <th>PAY_3</th>\n",
              "      <th>PAY_4</th>\n",
              "      <th>...</th>\n",
              "      <th>BILL_AMT4</th>\n",
              "      <th>BILL_AMT5</th>\n",
              "      <th>BILL_AMT6</th>\n",
              "      <th>PAY_AMT1</th>\n",
              "      <th>PAY_AMT2</th>\n",
              "      <th>PAY_AMT3</th>\n",
              "      <th>PAY_AMT4</th>\n",
              "      <th>PAY_AMT5</th>\n",
              "      <th>PAY_AMT6</th>\n",
              "      <th>default.payment.next.month</th>\n",
              "    </tr>\n",
              "  </thead>\n",
              "  <tbody>\n",
              "    <tr>\n",
              "      <th>0</th>\n",
              "      <td>1</td>\n",
              "      <td>20000</td>\n",
              "      <td>2</td>\n",
              "      <td>2</td>\n",
              "      <td>1</td>\n",
              "      <td>24</td>\n",
              "      <td>2</td>\n",
              "      <td>2</td>\n",
              "      <td>-1</td>\n",
              "      <td>-1</td>\n",
              "      <td>...</td>\n",
              "      <td>0</td>\n",
              "      <td>0</td>\n",
              "      <td>0</td>\n",
              "      <td>0</td>\n",
              "      <td>689</td>\n",
              "      <td>0</td>\n",
              "      <td>0</td>\n",
              "      <td>0</td>\n",
              "      <td>0</td>\n",
              "      <td>1</td>\n",
              "    </tr>\n",
              "    <tr>\n",
              "      <th>1</th>\n",
              "      <td>10</td>\n",
              "      <td>20000</td>\n",
              "      <td>1</td>\n",
              "      <td>3</td>\n",
              "      <td>2</td>\n",
              "      <td>35</td>\n",
              "      <td>-2</td>\n",
              "      <td>-2</td>\n",
              "      <td>-2</td>\n",
              "      <td>-2</td>\n",
              "      <td>...</td>\n",
              "      <td>0</td>\n",
              "      <td>13007</td>\n",
              "      <td>13912</td>\n",
              "      <td>0</td>\n",
              "      <td>0</td>\n",
              "      <td>0</td>\n",
              "      <td>13007</td>\n",
              "      <td>1122</td>\n",
              "      <td>0</td>\n",
              "      <td>0</td>\n",
              "    </tr>\n",
              "    <tr>\n",
              "      <th>2</th>\n",
              "      <td>100</td>\n",
              "      <td>20000</td>\n",
              "      <td>1</td>\n",
              "      <td>2</td>\n",
              "      <td>1</td>\n",
              "      <td>38</td>\n",
              "      <td>0</td>\n",
              "      <td>0</td>\n",
              "      <td>0</td>\n",
              "      <td>0</td>\n",
              "      <td>...</td>\n",
              "      <td>18240</td>\n",
              "      <td>17928</td>\n",
              "      <td>150</td>\n",
              "      <td>1699</td>\n",
              "      <td>1460</td>\n",
              "      <td>626</td>\n",
              "      <td>1750</td>\n",
              "      <td>150</td>\n",
              "      <td>0</td>\n",
              "      <td>1</td>\n",
              "    </tr>\n",
              "    <tr>\n",
              "      <th>3</th>\n",
              "      <td>1000</td>\n",
              "      <td>120000</td>\n",
              "      <td>1</td>\n",
              "      <td>2</td>\n",
              "      <td>2</td>\n",
              "      <td>25</td>\n",
              "      <td>2</td>\n",
              "      <td>2</td>\n",
              "      <td>0</td>\n",
              "      <td>0</td>\n",
              "      <td>...</td>\n",
              "      <td>83858</td>\n",
              "      <td>86434</td>\n",
              "      <td>88802</td>\n",
              "      <td>0</td>\n",
              "      <td>5000</td>\n",
              "      <td>3158</td>\n",
              "      <td>3934</td>\n",
              "      <td>3802</td>\n",
              "      <td>2000</td>\n",
              "      <td>0</td>\n",
              "    </tr>\n",
              "    <tr>\n",
              "      <th>4</th>\n",
              "      <td>10000</td>\n",
              "      <td>230000.0</td>\n",
              "      <td>1</td>\n",
              "      <td>2</td>\n",
              "      <td>1</td>\n",
              "      <td>36</td>\n",
              "      <td>0</td>\n",
              "      <td>0</td>\n",
              "      <td>0</td>\n",
              "      <td>0</td>\n",
              "      <td>...</td>\n",
              "      <td>19506.0</td>\n",
              "      <td>19255</td>\n",
              "      <td>17479</td>\n",
              "      <td>3000.0</td>\n",
              "      <td>3000.0</td>\n",
              "      <td>3000.0</td>\n",
              "      <td>3000</td>\n",
              "      <td>3000.0</td>\n",
              "      <td>3000.0</td>\n",
              "      <td>0</td>\n",
              "    </tr>\n",
              "  </tbody>\n",
              "</table>\n",
              "<p>5 rows × 25 columns</p>\n",
              "</div>"
            ],
            "text/plain": [
              "      ID LIMIT_BAL SEX EDUCATION MARRIAGE AGE PAY_0 PAY_2 PAY_3 PAY_4  \\\n",
              "0      1     20000   2         2        1  24     2     2    -1    -1   \n",
              "1     10     20000   1         3        2  35    -2    -2    -2    -2   \n",
              "2    100     20000   1         2        1  38     0     0     0     0   \n",
              "3   1000    120000   1         2        2  25     2     2     0     0   \n",
              "4  10000  230000.0   1         2        1  36     0     0     0     0   \n",
              "\n",
              "             ...             BILL_AMT4 BILL_AMT5 BILL_AMT6 PAY_AMT1 PAY_AMT2  \\\n",
              "0            ...                     0         0         0        0      689   \n",
              "1            ...                     0     13007     13912        0        0   \n",
              "2            ...                 18240     17928       150     1699     1460   \n",
              "3            ...                 83858     86434     88802        0     5000   \n",
              "4            ...               19506.0     19255     17479   3000.0   3000.0   \n",
              "\n",
              "  PAY_AMT3 PAY_AMT4 PAY_AMT5 PAY_AMT6 default.payment.next.month  \n",
              "0        0        0        0        0                          1  \n",
              "1        0    13007     1122        0                          0  \n",
              "2      626     1750      150        0                          1  \n",
              "3     3158     3934     3802     2000                          0  \n",
              "4   3000.0     3000   3000.0   3000.0                          0  \n",
              "\n",
              "[5 rows x 25 columns]"
            ]
          },
          "metadata": {
            "tags": []
          },
          "execution_count": 64
        }
      ]
    },
    {
      "metadata": {
        "id": "pIcuThp-_nvd",
        "colab_type": "text"
      },
      "cell_type": "markdown",
      "source": [
        "#Creating DBtables"
      ]
    },
    {
      "metadata": {
        "id": "YNAjLZ2VptaW",
        "colab_type": "code",
        "outputId": "2def9aaf-42f4-4b64-d354-39d96bf19470",
        "colab": {
          "base_uri": "https://localhost:8080/",
          "height": 52
        }
      },
      "cell_type": "code",
      "source": [
        "def create_connection(db_file):\n",
        "    \"\"\" create a database connection to the SQLite database\n",
        "        specified by db_file\n",
        "    :param db_file: database file\n",
        "    :return: Connection object or None\n",
        "    \"\"\"\n",
        "    try:\n",
        "        conn = sqlite3.connect(db_file)\n",
        "        return conn\n",
        "    except Error as e:\n",
        "        print(e)\n",
        " \n",
        "    return None\n",
        "\n",
        "def create_table(conn, create_table_sql):\n",
        "    \"\"\" create a table from the create_table_sql statement\n",
        "    :param conn: Connection object\n",
        "    :param create_table_sql: a CREATE TABLE statement\n",
        "    :return:\n",
        "    \"\"\"\n",
        "    try:\n",
        "        c = conn.cursor()\n",
        "        c.execute(create_table_sql)\n",
        "    except Error as e:\n",
        "        print(e)\n",
        "        \n",
        "def checkTableExists(dbcon,table_name):\n",
        "    cursr = dbcon.cursor()\n",
        "    str = \"select name from sqlite_master where type='table'\"\n",
        "    table_names = cursr.execute(str)\n",
        "    print(\"Tables in the databse:\")\n",
        "    tables =table_names.fetchall() \n",
        "    print(tables[0][0])\n",
        "    return(len(tables))\n",
        "\n",
        "def create_database_table(database, query):\n",
        "    conn = create_connection(database)\n",
        "    if conn is not None:\n",
        "        create_table(conn, query)\n",
        "        checkTableExists(conn)\n",
        "    else:\n",
        "        print(\"Error! cannot create the database connection.\")\n",
        "    conn.close()\n",
        "\n",
        "sql_create_table = \"\"\"CREATE TABLE IF NOT EXISTS TableProcessed ('ID', 'LIMIT_BAL', 'SEX', 'EDUCATION', 'MARRIAGE', 'AGE', 'PAY_0',\n",
        "       'PAY_2', 'PAY_3', 'PAY_4', 'PAY_5', 'PAY_6', 'BILL_AMT1', 'BILL_AMT2',\n",
        "       'BILL_AMT3', 'BILL_AMT4', 'BILL_AMT5', 'BILL_AMT6', 'PAY_AMT1',\n",
        "       'PAY_AMT2', 'PAY_AMT3', 'PAY_AMT4', 'PAY_AMT5', 'PAY_AMT6',\n",
        "       'default.payment.next.month');\"\"\"\n",
        "create_database_table(\"Processed.db\", sql_create_table)"
      ],
      "execution_count": 0,
      "outputs": [
        {
          "output_type": "stream",
          "text": [
            "Tables in the databse:\n",
            "TableProcessed\n"
          ],
          "name": "stdout"
        }
      ]
    },
    {
      "metadata": {
        "id": "NCHEFClVqzBJ",
        "colab_type": "code",
        "colab": {}
      },
      "cell_type": "code",
      "source": [
        "start = dt.datetime.now()\n",
        "read_db = 'train_no_dup.db'\n",
        "write_db = 'Processed.db'\n",
        "if os.path.isfile(read_db):\n",
        "    conn_r = create_connection(read_db)\n",
        "    if conn_r is not None:\n",
        "        reader =conn_r.cursor()\n",
        "        reader.execute(\"SELECT * From no_dup_train ORDER BY RANDOM() LIMIT 30000;\")"
      ],
      "execution_count": 0,
      "outputs": []
    },
    {
      "metadata": {
        "id": "JgWiaemCruki",
        "colab_type": "code",
        "colab": {}
      },
      "cell_type": "code",
      "source": [
        "if os.path.isfile(write_db):\n",
        "    conn_w = create_connection(write_db)\n",
        "    if conn_w is not None:\n",
        "        tables = checkTableExists(conn_w)\n",
        "        writer =conn_w.cursor()\n",
        "        if tables != 0:\n",
        "          for i in range(len(credit_data)-1):\n",
        "            tup=credit_data.iloc[i]['LIMIT_BAL']\n",
        "          \n",
        "            writer.execute(\"insert into TableProcessed( LIMIT_BAL ) values (?)\",tup)\n"
      ],
      "execution_count": 0,
      "outputs": []
    },
    {
      "metadata": {
        "id": "HpzTurnbuBog",
        "colab_type": "code",
        "colab": {}
      },
      "cell_type": "code",
      "source": [
        "conn_r.commit()\n",
        "conn_w.commit()\n",
        "conn_r.close()"
      ],
      "execution_count": 0,
      "outputs": []
    },
    {
      "metadata": {
        "id": "g5qAKUokvSQY",
        "colab_type": "code",
        "colab": {}
      },
      "cell_type": "code",
      "source": [
        "conn_w.close()"
      ],
      "execution_count": 0,
      "outputs": []
    },
    {
      "metadata": {
        "id": "aMIpK1emvXVS",
        "colab_type": "code",
        "colab": {}
      },
      "cell_type": "code",
      "source": [
        "from sklearn.cluster import KMeans"
      ],
      "execution_count": 0,
      "outputs": []
    },
    {
      "metadata": {
        "id": "6-h5uEenwDpw",
        "colab_type": "code",
        "colab": {}
      },
      "cell_type": "code",
      "source": [
        "df.drop(['default.payment.next.month','ID'],axis=1,inplace=True)"
      ],
      "execution_count": 0,
      "outputs": []
    },
    {
      "metadata": {
        "id": "ZBY8E_ROwTfm",
        "colab_type": "code",
        "outputId": "6aa32872-b86e-4dc1-e7bb-d0b14959d8ae",
        "colab": {
          "base_uri": "https://localhost:8080/",
          "height": 246
        }
      },
      "cell_type": "code",
      "source": [
        "df.head()"
      ],
      "execution_count": 0,
      "outputs": [
        {
          "output_type": "execute_result",
          "data": {
            "text/html": [
              "<div>\n",
              "<style scoped>\n",
              "    .dataframe tbody tr th:only-of-type {\n",
              "        vertical-align: middle;\n",
              "    }\n",
              "\n",
              "    .dataframe tbody tr th {\n",
              "        vertical-align: top;\n",
              "    }\n",
              "\n",
              "    .dataframe thead th {\n",
              "        text-align: right;\n",
              "    }\n",
              "</style>\n",
              "<table border=\"1\" class=\"dataframe\">\n",
              "  <thead>\n",
              "    <tr style=\"text-align: right;\">\n",
              "      <th></th>\n",
              "      <th>LIMIT_BAL</th>\n",
              "      <th>SEX</th>\n",
              "      <th>EDUCATION</th>\n",
              "      <th>MARRIAGE</th>\n",
              "      <th>AGE</th>\n",
              "      <th>PAY_0</th>\n",
              "      <th>PAY_2</th>\n",
              "      <th>PAY_3</th>\n",
              "      <th>PAY_4</th>\n",
              "      <th>PAY_5</th>\n",
              "      <th>...</th>\n",
              "      <th>BILL_AMT3</th>\n",
              "      <th>BILL_AMT4</th>\n",
              "      <th>BILL_AMT5</th>\n",
              "      <th>BILL_AMT6</th>\n",
              "      <th>PAY_AMT1</th>\n",
              "      <th>PAY_AMT2</th>\n",
              "      <th>PAY_AMT3</th>\n",
              "      <th>PAY_AMT4</th>\n",
              "      <th>PAY_AMT5</th>\n",
              "      <th>PAY_AMT6</th>\n",
              "    </tr>\n",
              "  </thead>\n",
              "  <tbody>\n",
              "    <tr>\n",
              "      <th>0</th>\n",
              "      <td>20000.0</td>\n",
              "      <td>2</td>\n",
              "      <td>2</td>\n",
              "      <td>1</td>\n",
              "      <td>24</td>\n",
              "      <td>2</td>\n",
              "      <td>2</td>\n",
              "      <td>-1</td>\n",
              "      <td>-1</td>\n",
              "      <td>-2</td>\n",
              "      <td>...</td>\n",
              "      <td>689.0</td>\n",
              "      <td>0.0</td>\n",
              "      <td>0.0</td>\n",
              "      <td>0.0</td>\n",
              "      <td>0.0</td>\n",
              "      <td>689.0</td>\n",
              "      <td>0.0</td>\n",
              "      <td>0.0</td>\n",
              "      <td>0.0</td>\n",
              "      <td>0.0</td>\n",
              "    </tr>\n",
              "    <tr>\n",
              "      <th>1</th>\n",
              "      <td>120000.0</td>\n",
              "      <td>2</td>\n",
              "      <td>2</td>\n",
              "      <td>2</td>\n",
              "      <td>26</td>\n",
              "      <td>-1</td>\n",
              "      <td>2</td>\n",
              "      <td>0</td>\n",
              "      <td>0</td>\n",
              "      <td>0</td>\n",
              "      <td>...</td>\n",
              "      <td>2682.0</td>\n",
              "      <td>3272.0</td>\n",
              "      <td>3455.0</td>\n",
              "      <td>3261.0</td>\n",
              "      <td>0.0</td>\n",
              "      <td>1000.0</td>\n",
              "      <td>1000.0</td>\n",
              "      <td>1000.0</td>\n",
              "      <td>0.0</td>\n",
              "      <td>2000.0</td>\n",
              "    </tr>\n",
              "    <tr>\n",
              "      <th>2</th>\n",
              "      <td>90000.0</td>\n",
              "      <td>2</td>\n",
              "      <td>2</td>\n",
              "      <td>2</td>\n",
              "      <td>34</td>\n",
              "      <td>0</td>\n",
              "      <td>0</td>\n",
              "      <td>0</td>\n",
              "      <td>0</td>\n",
              "      <td>0</td>\n",
              "      <td>...</td>\n",
              "      <td>13559.0</td>\n",
              "      <td>14331.0</td>\n",
              "      <td>14948.0</td>\n",
              "      <td>15549.0</td>\n",
              "      <td>1518.0</td>\n",
              "      <td>1500.0</td>\n",
              "      <td>1000.0</td>\n",
              "      <td>1000.0</td>\n",
              "      <td>1000.0</td>\n",
              "      <td>5000.0</td>\n",
              "    </tr>\n",
              "    <tr>\n",
              "      <th>3</th>\n",
              "      <td>50000.0</td>\n",
              "      <td>2</td>\n",
              "      <td>2</td>\n",
              "      <td>1</td>\n",
              "      <td>37</td>\n",
              "      <td>0</td>\n",
              "      <td>0</td>\n",
              "      <td>0</td>\n",
              "      <td>0</td>\n",
              "      <td>0</td>\n",
              "      <td>...</td>\n",
              "      <td>49291.0</td>\n",
              "      <td>28314.0</td>\n",
              "      <td>28959.0</td>\n",
              "      <td>29547.0</td>\n",
              "      <td>2000.0</td>\n",
              "      <td>2019.0</td>\n",
              "      <td>1200.0</td>\n",
              "      <td>1100.0</td>\n",
              "      <td>1069.0</td>\n",
              "      <td>1000.0</td>\n",
              "    </tr>\n",
              "    <tr>\n",
              "      <th>4</th>\n",
              "      <td>50000.0</td>\n",
              "      <td>1</td>\n",
              "      <td>2</td>\n",
              "      <td>1</td>\n",
              "      <td>57</td>\n",
              "      <td>-1</td>\n",
              "      <td>0</td>\n",
              "      <td>-1</td>\n",
              "      <td>0</td>\n",
              "      <td>0</td>\n",
              "      <td>...</td>\n",
              "      <td>35835.0</td>\n",
              "      <td>20940.0</td>\n",
              "      <td>19146.0</td>\n",
              "      <td>19131.0</td>\n",
              "      <td>2000.0</td>\n",
              "      <td>36681.0</td>\n",
              "      <td>10000.0</td>\n",
              "      <td>9000.0</td>\n",
              "      <td>689.0</td>\n",
              "      <td>679.0</td>\n",
              "    </tr>\n",
              "  </tbody>\n",
              "</table>\n",
              "<p>5 rows × 23 columns</p>\n",
              "</div>"
            ],
            "text/plain": [
              "   LIMIT_BAL  SEX  EDUCATION  MARRIAGE  AGE  PAY_0  PAY_2  PAY_3  PAY_4  \\\n",
              "0    20000.0    2          2         1   24      2      2     -1     -1   \n",
              "1   120000.0    2          2         2   26     -1      2      0      0   \n",
              "2    90000.0    2          2         2   34      0      0      0      0   \n",
              "3    50000.0    2          2         1   37      0      0      0      0   \n",
              "4    50000.0    1          2         1   57     -1      0     -1      0   \n",
              "\n",
              "   PAY_5    ...     BILL_AMT3  BILL_AMT4  BILL_AMT5  BILL_AMT6  PAY_AMT1  \\\n",
              "0     -2    ...         689.0        0.0        0.0        0.0       0.0   \n",
              "1      0    ...        2682.0     3272.0     3455.0     3261.0       0.0   \n",
              "2      0    ...       13559.0    14331.0    14948.0    15549.0    1518.0   \n",
              "3      0    ...       49291.0    28314.0    28959.0    29547.0    2000.0   \n",
              "4      0    ...       35835.0    20940.0    19146.0    19131.0    2000.0   \n",
              "\n",
              "   PAY_AMT2  PAY_AMT3  PAY_AMT4  PAY_AMT5  PAY_AMT6  \n",
              "0     689.0       0.0       0.0       0.0       0.0  \n",
              "1    1000.0    1000.0    1000.0       0.0    2000.0  \n",
              "2    1500.0    1000.0    1000.0    1000.0    5000.0  \n",
              "3    2019.0    1200.0    1100.0    1069.0    1000.0  \n",
              "4   36681.0   10000.0    9000.0     689.0     679.0  \n",
              "\n",
              "[5 rows x 23 columns]"
            ]
          },
          "metadata": {
            "tags": []
          },
          "execution_count": 105
        }
      ]
    },
    {
      "metadata": {
        "id": "atqAJkAFwZyO",
        "colab_type": "code",
        "colab": {}
      },
      "cell_type": "code",
      "source": [
        "X=np.array(df)"
      ],
      "execution_count": 0,
      "outputs": []
    },
    {
      "metadata": {
        "id": "obY4NTFhvlPP",
        "colab_type": "code",
        "outputId": "ca5c874b-bb38-457a-f616-642251e1b436",
        "colab": {
          "base_uri": "https://localhost:8080/",
          "height": 293
        }
      },
      "cell_type": "code",
      "source": [
        "wcss=[]\n",
        "for i in range(1, 11):\n",
        "  kmeans = KMeans(n_clusters = i, init ='k-means++', random_state = 0)\n",
        "  kmeans.fit(X)\n",
        "  wcss.append(kmeans.inertia_)\n",
        "plt.plot(range(1, 11), wcss)\n",
        "plt.title('The Elbow Method')\n",
        "plt.xlabel('Number of clusters')\n",
        "plt.ylabel('WCSS')\n",
        "plt.show()"
      ],
      "execution_count": 0,
      "outputs": [
        {
          "output_type": "display_data",
          "data": {
            "image/png": "[encoded data removed]",
            "text/plain": [
              "<matplotlib.figure.Figure at 0x7ff452598d30>"
            ]
          },
          "metadata": {
            "tags": []
          }
        }
      ]
    },
    {
      "metadata": {
        "id": "V2MwbJT7weCF",
        "colab_type": "code",
        "outputId": "98199a01-60da-4a1c-e4dc-76fc190667c4",
        "colab": {
          "base_uri": "https://localhost:8080/",
          "height": 70
        }
      },
      "cell_type": "code",
      "source": [
        "kmeans = KMeans(n_clusters = 5, init ='k-means++', random_state = 0)\n",
        "kmeans.fit(X)"
      ],
      "execution_count": 0,
      "outputs": [
        {
          "output_type": "execute_result",
          "data": {
            "text/plain": [
              "KMeans(algorithm='auto', copy_x=True, init='k-means++', max_iter=300,\n",
              "    n_clusters=5, n_init=10, n_jobs=1, precompute_distances='auto',\n",
              "    random_state=0, tol=0.0001, verbose=0)"
            ]
          },
          "metadata": {
            "tags": []
          },
          "execution_count": 109
        }
      ]
    },
    {
      "metadata": {
        "id": "9sDPmun3x7pR",
        "colab_type": "code",
        "colab": {}
      },
      "cell_type": "code",
      "source": [
        "df['cluster']=kmeans.labels_"
      ],
      "execution_count": 0,
      "outputs": []
    },
    {
      "metadata": {
        "id": "g3otMSnYyCVt",
        "colab_type": "code",
        "outputId": "a348e302-c6b2-4505-b5b9-42f27f84383c",
        "colab": {
          "base_uri": "https://localhost:8080/",
          "height": 123
        }
      },
      "cell_type": "code",
      "source": [
        "df['cluster'].value_counts()"
      ],
      "execution_count": 0,
      "outputs": [
        {
          "output_type": "execute_result",
          "data": {
            "text/plain": [
              "4    13529\n",
              "0     7443\n",
              "3     4440\n",
              "2     3381\n",
              "1     1207\n",
              "Name: cluster, dtype: int64"
            ]
          },
          "metadata": {
            "tags": []
          },
          "execution_count": 111
        }
      ]
    },
    {
      "metadata": {
        "id": "h3_UZ5sNyFH3",
        "colab_type": "code",
        "outputId": "3b6b1653-910d-45dc-abc6-af2f7960600f",
        "colab": {
          "base_uri": "https://localhost:8080/",
          "height": 246
        }
      },
      "cell_type": "code",
      "source": [
        "df.head()"
      ],
      "execution_count": 0,
      "outputs": [
        {
          "output_type": "execute_result",
          "data": {
            "text/html": [
              "<div>\n",
              "<style scoped>\n",
              "    .dataframe tbody tr th:only-of-type {\n",
              "        vertical-align: middle;\n",
              "    }\n",
              "\n",
              "    .dataframe tbody tr th {\n",
              "        vertical-align: top;\n",
              "    }\n",
              "\n",
              "    .dataframe thead th {\n",
              "        text-align: right;\n",
              "    }\n",
              "</style>\n",
              "<table border=\"1\" class=\"dataframe\">\n",
              "  <thead>\n",
              "    <tr style=\"text-align: right;\">\n",
              "      <th></th>\n",
              "      <th>LIMIT_BAL</th>\n",
              "      <th>SEX</th>\n",
              "      <th>EDUCATION</th>\n",
              "      <th>MARRIAGE</th>\n",
              "      <th>AGE</th>\n",
              "      <th>PAY_0</th>\n",
              "      <th>PAY_2</th>\n",
              "      <th>PAY_3</th>\n",
              "      <th>PAY_4</th>\n",
              "      <th>PAY_5</th>\n",
              "      <th>...</th>\n",
              "      <th>BILL_AMT4</th>\n",
              "      <th>BILL_AMT5</th>\n",
              "      <th>BILL_AMT6</th>\n",
              "      <th>PAY_AMT1</th>\n",
              "      <th>PAY_AMT2</th>\n",
              "      <th>PAY_AMT3</th>\n",
              "      <th>PAY_AMT4</th>\n",
              "      <th>PAY_AMT5</th>\n",
              "      <th>PAY_AMT6</th>\n",
              "      <th>cluster</th>\n",
              "    </tr>\n",
              "  </thead>\n",
              "  <tbody>\n",
              "    <tr>\n",
              "      <th>0</th>\n",
              "      <td>20000.0</td>\n",
              "      <td>2</td>\n",
              "      <td>2</td>\n",
              "      <td>1</td>\n",
              "      <td>24</td>\n",
              "      <td>2</td>\n",
              "      <td>2</td>\n",
              "      <td>-1</td>\n",
              "      <td>-1</td>\n",
              "      <td>-2</td>\n",
              "      <td>...</td>\n",
              "      <td>0.0</td>\n",
              "      <td>0.0</td>\n",
              "      <td>0.0</td>\n",
              "      <td>0.0</td>\n",
              "      <td>689.0</td>\n",
              "      <td>0.0</td>\n",
              "      <td>0.0</td>\n",
              "      <td>0.0</td>\n",
              "      <td>0.0</td>\n",
              "      <td>4</td>\n",
              "    </tr>\n",
              "    <tr>\n",
              "      <th>1</th>\n",
              "      <td>120000.0</td>\n",
              "      <td>2</td>\n",
              "      <td>2</td>\n",
              "      <td>2</td>\n",
              "      <td>26</td>\n",
              "      <td>-1</td>\n",
              "      <td>2</td>\n",
              "      <td>0</td>\n",
              "      <td>0</td>\n",
              "      <td>0</td>\n",
              "      <td>...</td>\n",
              "      <td>3272.0</td>\n",
              "      <td>3455.0</td>\n",
              "      <td>3261.0</td>\n",
              "      <td>0.0</td>\n",
              "      <td>1000.0</td>\n",
              "      <td>1000.0</td>\n",
              "      <td>1000.0</td>\n",
              "      <td>0.0</td>\n",
              "      <td>2000.0</td>\n",
              "      <td>4</td>\n",
              "    </tr>\n",
              "    <tr>\n",
              "      <th>2</th>\n",
              "      <td>90000.0</td>\n",
              "      <td>2</td>\n",
              "      <td>2</td>\n",
              "      <td>2</td>\n",
              "      <td>34</td>\n",
              "      <td>0</td>\n",
              "      <td>0</td>\n",
              "      <td>0</td>\n",
              "      <td>0</td>\n",
              "      <td>0</td>\n",
              "      <td>...</td>\n",
              "      <td>14331.0</td>\n",
              "      <td>14948.0</td>\n",
              "      <td>15549.0</td>\n",
              "      <td>1518.0</td>\n",
              "      <td>1500.0</td>\n",
              "      <td>1000.0</td>\n",
              "      <td>1000.0</td>\n",
              "      <td>1000.0</td>\n",
              "      <td>5000.0</td>\n",
              "      <td>4</td>\n",
              "    </tr>\n",
              "    <tr>\n",
              "      <th>3</th>\n",
              "      <td>50000.0</td>\n",
              "      <td>2</td>\n",
              "      <td>2</td>\n",
              "      <td>1</td>\n",
              "      <td>37</td>\n",
              "      <td>0</td>\n",
              "      <td>0</td>\n",
              "      <td>0</td>\n",
              "      <td>0</td>\n",
              "      <td>0</td>\n",
              "      <td>...</td>\n",
              "      <td>28314.0</td>\n",
              "      <td>28959.0</td>\n",
              "      <td>29547.0</td>\n",
              "      <td>2000.0</td>\n",
              "      <td>2019.0</td>\n",
              "      <td>1200.0</td>\n",
              "      <td>1100.0</td>\n",
              "      <td>1069.0</td>\n",
              "      <td>1000.0</td>\n",
              "      <td>4</td>\n",
              "    </tr>\n",
              "    <tr>\n",
              "      <th>4</th>\n",
              "      <td>50000.0</td>\n",
              "      <td>1</td>\n",
              "      <td>2</td>\n",
              "      <td>1</td>\n",
              "      <td>57</td>\n",
              "      <td>-1</td>\n",
              "      <td>0</td>\n",
              "      <td>-1</td>\n",
              "      <td>0</td>\n",
              "      <td>0</td>\n",
              "      <td>...</td>\n",
              "      <td>20940.0</td>\n",
              "      <td>19146.0</td>\n",
              "      <td>19131.0</td>\n",
              "      <td>2000.0</td>\n",
              "      <td>36681.0</td>\n",
              "      <td>10000.0</td>\n",
              "      <td>9000.0</td>\n",
              "      <td>689.0</td>\n",
              "      <td>679.0</td>\n",
              "      <td>4</td>\n",
              "    </tr>\n",
              "  </tbody>\n",
              "</table>\n",
              "<p>5 rows × 24 columns</p>\n",
              "</div>"
            ],
            "text/plain": [
              "   LIMIT_BAL  SEX  EDUCATION  MARRIAGE  AGE  PAY_0  PAY_2  PAY_3  PAY_4  \\\n",
              "0    20000.0    2          2         1   24      2      2     -1     -1   \n",
              "1   120000.0    2          2         2   26     -1      2      0      0   \n",
              "2    90000.0    2          2         2   34      0      0      0      0   \n",
              "3    50000.0    2          2         1   37      0      0      0      0   \n",
              "4    50000.0    1          2         1   57     -1      0     -1      0   \n",
              "\n",
              "   PAY_5   ...     BILL_AMT4  BILL_AMT5  BILL_AMT6  PAY_AMT1  PAY_AMT2  \\\n",
              "0     -2   ...           0.0        0.0        0.0       0.0     689.0   \n",
              "1      0   ...        3272.0     3455.0     3261.0       0.0    1000.0   \n",
              "2      0   ...       14331.0    14948.0    15549.0    1518.0    1500.0   \n",
              "3      0   ...       28314.0    28959.0    29547.0    2000.0    2019.0   \n",
              "4      0   ...       20940.0    19146.0    19131.0    2000.0   36681.0   \n",
              "\n",
              "   PAY_AMT3  PAY_AMT4  PAY_AMT5  PAY_AMT6  cluster  \n",
              "0       0.0       0.0       0.0       0.0        4  \n",
              "1    1000.0    1000.0       0.0    2000.0        4  \n",
              "2    1000.0    1000.0    1000.0    5000.0        4  \n",
              "3    1200.0    1100.0    1069.0    1000.0        4  \n",
              "4   10000.0    9000.0     689.0     679.0        4  \n",
              "\n",
              "[5 rows x 24 columns]"
            ]
          },
          "metadata": {
            "tags": []
          },
          "execution_count": 112
        }
      ]
    }
  ]
}